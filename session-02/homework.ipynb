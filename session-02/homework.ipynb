{
 "cells": [
  {
   "cell_type": "code",
   "execution_count": 1,
   "id": "d97a417f-2d0e-4b33-a484-f3e5360f7dca",
   "metadata": {},
   "outputs": [],
   "source": [
    "import pandas as pd\n",
    "import numpy as np"
   ]
  },
  {
   "cell_type": "markdown",
   "id": "ee72f987-7e53-470b-9ecf-d06839d4d95a",
   "metadata": {},
   "source": [
    "### Data preparation"
   ]
  },
  {
   "cell_type": "code",
   "execution_count": 2,
   "id": "857150d6-aaff-4aac-8ab0-e3b4fb9cd8e5",
   "metadata": {},
   "outputs": [],
   "source": [
    "data = 'https://raw.githubusercontent.com/alexeygrigorev/datasets/master/AB_NYC_2019.csv'"
   ]
  },
  {
   "cell_type": "code",
   "execution_count": 3,
   "id": "707e2e80-1b76-46eb-959d-315b99e7e70f",
   "metadata": {},
   "outputs": [
    {
     "name": "stdout",
     "output_type": "stream",
     "text": [
      "--2021-09-19 17:36:39--  https://raw.githubusercontent.com/alexeygrigorev/datasets/master/AB_NYC_2019.csv\n",
      "Resolving raw.githubusercontent.com (raw.githubusercontent.com)... 185.199.108.133, 185.199.110.133, 185.199.111.133, ...\n",
      "Connecting to raw.githubusercontent.com (raw.githubusercontent.com)|185.199.108.133|:443... connected.\n",
      "HTTP request sent, awaiting response... 200 OK\n",
      "Length: 7077973 (6.8M) [text/plain]\n",
      "Saving to: ‘AB_NYC_2019.csv’\n",
      "\n",
      "AB_NYC_2019.csv     100%[===================>]   6.75M  12.4MB/s    in 0.5s    \n",
      "\n",
      "2021-09-19 17:36:40 (12.4 MB/s) - ‘AB_NYC_2019.csv’ saved [7077973/7077973]\n",
      "\n"
     ]
    }
   ],
   "source": [
    "!wget $data -O AB_NYC_2019.csv"
   ]
  },
  {
   "cell_type": "code",
   "execution_count": 4,
   "id": "62e98687-bc5b-457b-9c92-7561f28ab6c6",
   "metadata": {},
   "outputs": [],
   "source": [
    "df = pd.read_csv('AB_NYC_2019.csv')"
   ]
  },
  {
   "cell_type": "code",
   "execution_count": 5,
   "id": "0f64e673-7e4b-4d6c-a8f0-517de7288722",
   "metadata": {},
   "outputs": [],
   "source": [
    "df.columns = df.columns.str.lower().str.replace(' ', '_')"
   ]
  },
  {
   "cell_type": "code",
   "execution_count": 6,
   "id": "5a62db60-6dde-4d87-aaaf-535c8b363eb9",
   "metadata": {},
   "outputs": [
    {
     "data": {
      "text/plain": [
       "['name',\n",
       " 'host_name',\n",
       " 'neighbourhood_group',\n",
       " 'neighbourhood',\n",
       " 'room_type',\n",
       " 'last_review']"
      ]
     },
     "execution_count": 6,
     "metadata": {},
     "output_type": "execute_result"
    }
   ],
   "source": [
    "strings = list(df.dtypes[df.dtypes == 'object'].index)\n",
    "strings"
   ]
  },
  {
   "cell_type": "code",
   "execution_count": 7,
   "id": "53ba2adb-8e2e-41f8-ad80-5397726bab64",
   "metadata": {},
   "outputs": [],
   "source": [
    "for col in strings:\n",
    "    df[col] = df[col].str.lower().str.replace(' ', '_')"
   ]
  },
  {
   "cell_type": "code",
   "execution_count": 8,
   "id": "64dd458f-15e0-4197-8842-de4e64e3270f",
   "metadata": {},
   "outputs": [],
   "source": [
    "df = df[['latitude','longitude','price','minimum_nights','number_of_reviews','reviews_per_month','calculated_host_listings_count','availability_365']]\n"
   ]
  },
  {
   "cell_type": "markdown",
   "id": "ac51c4c0-a48c-4ff4-b30d-9a04ca6bd5da",
   "metadata": {},
   "source": [
    "### Question 1  \n",
    "  \n",
    "__Find a feature with missing values. How many missing values does it have?__"
   ]
  },
  {
   "cell_type": "code",
   "execution_count": 9,
   "id": "16df85a5-4945-4f13-ba7f-fd4fbd145867",
   "metadata": {},
   "outputs": [
    {
     "data": {
      "text/plain": [
       "latitude                              0\n",
       "longitude                             0\n",
       "price                                 0\n",
       "minimum_nights                        0\n",
       "number_of_reviews                     0\n",
       "reviews_per_month                 10052\n",
       "calculated_host_listings_count        0\n",
       "availability_365                      0\n",
       "dtype: int64"
      ]
     },
     "execution_count": 9,
     "metadata": {},
     "output_type": "execute_result"
    }
   ],
   "source": [
    "df.isnull().sum()"
   ]
  },
  {
   "cell_type": "markdown",
   "id": "9671a7bb-c4f4-4926-88d0-8315a30f0af9",
   "metadata": {},
   "source": [
    "### Question 2  \n",
    "  \n",
    "__What's the median (50% percentile) for variable 'minimum_nights'?__  \n",
    " \n",
    "- Split the data  \n",
    "- Shuffle the initial dataset, use seed 42.  \n",
    "- Split your data in train/val/test sets, with 60%/20%/20% distribution.  \n",
    "- Make sure that the target value ('price') is not in your dataframe.  \n",
    "- Apply the log transformation to the price variable using the np.log1p() function."
   ]
  },
  {
   "cell_type": "code",
   "execution_count": 10,
   "id": "3c486890-2b05-4a04-8f2a-b9afe4c6a1e7",
   "metadata": {},
   "outputs": [],
   "source": [
    "def split_dataset(df, seed):\n",
    "    n = len(df)\n",
    "\n",
    "    n_val = int(n * 0.2)\n",
    "    n_test = n_val\n",
    "    n_train = n - n_val * 2\n",
    "    \n",
    "    idx = np.arange(n)\n",
    "    \n",
    "    np.random.seed(seed)\n",
    "    np.random.shuffle(idx)\n",
    "    \n",
    "    df_train = df.iloc[idx[:n_train]]\n",
    "    df_val = df.iloc[idx[n_train:n_train + n_val]]\n",
    "    df_test = df.iloc[idx[n_train + n_val:]]\n",
    "    \n",
    "    df_train = df_train.reset_index(drop=True)\n",
    "    df_val = df_val.reset_index(drop=True)\n",
    "    df_test = df_test.reset_index(drop=True)\n",
    "    \n",
    "    y_train = np.log1p(df_train.price.values)\n",
    "    y_val = np.log1p(df_val.price.values)\n",
    "    y_test = np.log1p(df_test.price.values)\n",
    "    \n",
    "    del df_train['price']\n",
    "    del df_val['price']\n",
    "    del df_test['price']\n",
    "    \n",
    "    return df_train, df_val, df_test, y_train, y_val, y_test"
   ]
  },
  {
   "cell_type": "code",
   "execution_count": 11,
   "id": "10ed2f99-6ecd-4d36-88d5-006dbbc26948",
   "metadata": {},
   "outputs": [],
   "source": [
    "df_train, df_val, df_test, y_train, y_val, y_test = split_dataset(df, 42)"
   ]
  },
  {
   "cell_type": "code",
   "execution_count": 12,
   "id": "94903bb7-6a04-4898-9ecc-ee78b03ca8f1",
   "metadata": {},
   "outputs": [
    {
     "data": {
      "text/plain": [
       "29337"
      ]
     },
     "execution_count": 12,
     "metadata": {},
     "output_type": "execute_result"
    }
   ],
   "source": [
    "len(y_train)"
   ]
  },
  {
   "cell_type": "markdown",
   "id": "14baf276-36a9-4d42-bfef-00d7402cc54a",
   "metadata": {},
   "source": [
    "*Stats __original__ dataframe*"
   ]
  },
  {
   "cell_type": "code",
   "execution_count": 13,
   "id": "1145eb04-58eb-41c4-b474-22dc69445078",
   "metadata": {},
   "outputs": [
    {
     "data": {
      "text/plain": [
       "count    48895.000000\n",
       "mean         7.029962\n",
       "std         20.510550\n",
       "min          1.000000\n",
       "25%          1.000000\n",
       "50%          3.000000\n",
       "75%          5.000000\n",
       "max       1250.000000\n",
       "Name: minimum_nights, dtype: float64"
      ]
     },
     "execution_count": 13,
     "metadata": {},
     "output_type": "execute_result"
    }
   ],
   "source": [
    "df.minimum_nights.describe()"
   ]
  },
  {
   "cell_type": "markdown",
   "id": "aba6ef4e-cbd4-4221-a3c1-935113233236",
   "metadata": {},
   "source": [
    "*Stats __train__ dataframe*"
   ]
  },
  {
   "cell_type": "code",
   "execution_count": 14,
   "id": "64419fc5-4d4c-48a4-8795-9f35afde3d3c",
   "metadata": {},
   "outputs": [
    {
     "data": {
      "text/plain": [
       "count    29337.000000\n",
       "mean         6.989740\n",
       "std         21.014583\n",
       "min          1.000000\n",
       "25%          1.000000\n",
       "50%          2.000000\n",
       "75%          5.000000\n",
       "max       1000.000000\n",
       "Name: minimum_nights, dtype: float64"
      ]
     },
     "execution_count": 14,
     "metadata": {},
     "output_type": "execute_result"
    }
   ],
   "source": [
    "df_train.minimum_nights.describe()"
   ]
  },
  {
   "cell_type": "markdown",
   "id": "6aef0a5b-fe98-4cdc-a173-2ee163aa69fd",
   "metadata": {},
   "source": [
    "*Stats __validation__ dataframe*"
   ]
  },
  {
   "cell_type": "code",
   "execution_count": 15,
   "id": "357856fc-0209-47bc-9875-78be3c061d26",
   "metadata": {},
   "outputs": [
    {
     "data": {
      "text/plain": [
       "count    9779.000000\n",
       "mean        7.102260\n",
       "std        21.384159\n",
       "min         1.000000\n",
       "25%         1.000000\n",
       "50%         3.000000\n",
       "75%         5.000000\n",
       "max      1250.000000\n",
       "Name: minimum_nights, dtype: float64"
      ]
     },
     "execution_count": 15,
     "metadata": {},
     "output_type": "execute_result"
    }
   ],
   "source": [
    "df_val.minimum_nights.describe()"
   ]
  },
  {
   "cell_type": "markdown",
   "id": "b516cb17-f484-4aea-8cbb-96d881d49b7a",
   "metadata": {},
   "source": [
    "### Question 3  \n",
    "  \n",
    "- We need to deal with missing values for the column from Q1.\n",
    "- We have two options: fill it with 0 or with the mean of this variable.\n",
    "- Try both options. For each, train a linear regression model without regularization using the code from the lessons.\n",
    "- For computing the mean, use the training only!\n",
    "- Use the validation dataset to evaluate the models and compare the RMSE of each option.\n",
    "- Round the RMSE scores to 2 decimal digits using round(score, 2)\n",
    "- Which option gives better RMSE?"
   ]
  },
  {
   "cell_type": "code",
   "execution_count": 16,
   "id": "8fd7710e-c786-4c4d-bed9-be75ae5c654f",
   "metadata": {},
   "outputs": [],
   "source": [
    "def train_linear_regression(Xp, yp):\n",
    "    onesi = np.ones(Xp.shape[0])\n",
    "    Xi = np.column_stack([onesi, Xp])\n",
    "    #normal equation +++\n",
    "    XTXi = Xi.T.dot(Xi)\n",
    "    XTX_invi = np.linalg.inv(XTXi)\n",
    "    w_fulli = XTX_invi.dot(Xi.T).dot(yp)\n",
    "    #normal equation ---\n",
    "    return w_fulli[0], w_fulli[1:]"
   ]
  },
  {
   "cell_type": "code",
   "execution_count": 17,
   "id": "54521cfb-7af4-448e-8e70-c88cb40e2f2e",
   "metadata": {},
   "outputs": [],
   "source": [
    "def rmse(yp, y_predp):\n",
    "    se = (yp - y_predp) ** 2\n",
    "    mse = se.mean()\n",
    "    return np.sqrt(mse)"
   ]
  },
  {
   "cell_type": "code",
   "execution_count": 18,
   "id": "5a5673bd-18cb-470e-bfab-4c648c1d9285",
   "metadata": {},
   "outputs": [],
   "source": [
    "def prepare_X_fill_with_zero(df, base):\n",
    "    dfi = df.copy() # copying data frame to not change original    \n",
    "    features = base.copy()\n",
    "\n",
    "    df_num = dfi[features] #extracting base training values\n",
    "    df_num = df_num.fillna(0) # filling the missing values\n",
    "    Xi = df_num.values # extracting feature matrix\n",
    "    return Xi"
   ]
  },
  {
   "cell_type": "code",
   "execution_count": 19,
   "id": "f24189d0-e2f8-4c56-aa33-dcbd1f67af3c",
   "metadata": {},
   "outputs": [],
   "source": [
    "def prepare_X_fill_with_mean(df, base, mean_dict):\n",
    "    dfi = df.copy() # copying data frame to not change original    \n",
    "    features = base.copy()\n",
    "\n",
    "    df_num = dfi[features] #extracting base training values\n",
    "    \n",
    "    for k in mean_dict.keys():\n",
    "        df_num[k] = df_num[k].fillna(mean_dict[k]) # filling the missing values\n",
    "    Xi = df_num.values # extracting feature matrix\n",
    "    return Xi"
   ]
  },
  {
   "cell_type": "markdown",
   "id": "9e1a6857-766d-4647-87d4-730adf2187a5",
   "metadata": {},
   "source": [
    "*Preparing datasets*"
   ]
  },
  {
   "cell_type": "code",
   "execution_count": 20,
   "id": "c6c77e20-b69f-451f-8634-d6e9939d2809",
   "metadata": {},
   "outputs": [],
   "source": [
    "base = ['latitude', 'longitude', 'minimum_nights', 'number_of_reviews',\n",
    "       'reviews_per_month', 'calculated_host_listings_count',\n",
    "       'availability_365']\n",
    "\n",
    "base_mean = ['reviews_per_month']"
   ]
  },
  {
   "cell_type": "code",
   "execution_count": 21,
   "id": "1c1e9303-6c3c-4281-8275-fdb7715547d8",
   "metadata": {},
   "outputs": [],
   "source": [
    "def prepare_mean(df, base_mean):\n",
    "    result = {}\n",
    "    \n",
    "    for m in base_mean:\n",
    "        result[m] = df[m].mean()\n",
    "    \n",
    "    return result"
   ]
  },
  {
   "cell_type": "code",
   "execution_count": 22,
   "id": "c2e4f6ad-e930-4629-a5a2-c054acf842aa",
   "metadata": {},
   "outputs": [],
   "source": [
    "mean_o = prepare_mean(df_train, base_mean)\n",
    "\n",
    "X_train_mean = prepare_X_fill_with_mean(df_train, base, mean_o);\n",
    "X_train_zero = prepare_X_fill_with_zero(df_train, base);"
   ]
  },
  {
   "cell_type": "markdown",
   "id": "94b52c61-d166-4320-a50d-41a5408a4b69",
   "metadata": {},
   "source": [
    "*Training the models*"
   ]
  },
  {
   "cell_type": "code",
   "execution_count": 23,
   "id": "46037465-25df-4c8c-beff-72f94827f879",
   "metadata": {},
   "outputs": [],
   "source": [
    "w0_zero, w_zero = train_linear_regression(X_train_zero, y_train) # training the model for zeros\n",
    "w0_mean, w_mean = train_linear_regression(X_train_mean, y_train) # training the model for mean"
   ]
  },
  {
   "cell_type": "code",
   "execution_count": 24,
   "id": "b9491808-fb3b-49b1-b554-67f59054a79d",
   "metadata": {},
   "outputs": [
    {
     "data": {
      "text/plain": [
       "(-419.91265872315813, -423.53930828791135)"
      ]
     },
     "execution_count": 24,
     "metadata": {},
     "output_type": "execute_result"
    }
   ],
   "source": [
    "w0_zero, w0_mean"
   ]
  },
  {
   "cell_type": "markdown",
   "id": "0bdd4aaa-4f7d-4ae2-b124-af148cbc55bc",
   "metadata": {},
   "source": [
    "*Validation*"
   ]
  },
  {
   "cell_type": "code",
   "execution_count": 25,
   "id": "f3b689ea-0cd0-4607-9ed5-38caf285d46d",
   "metadata": {},
   "outputs": [
    {
     "name": "stdout",
     "output_type": "stream",
     "text": [
      "-419.91265872315813 -423.53930828791135 0.64 0.64\n"
     ]
    }
   ],
   "source": [
    "X_val_zero = prepare_X_fill_with_zero(df_val, base) # getting validation feature matrix for zero\n",
    "y_pred_zero = w0_zero + X_val_zero.dot(w_zero)\n",
    "score_zero = rmse(y_val, y_pred_zero)\n",
    "\n",
    "X_val_mean = prepare_X_fill_with_mean(df_val, base, mean_o) # getting validation feature matrix for mean\n",
    "y_pred_mean = w0_mean + X_val_mean.dot(w_mean)\n",
    "score_mean = rmse(y_val, y_pred_mean)\n",
    "\n",
    "\n",
    "print(w0_zero, w0_mean, score_zero.round(2), score_mean.round(2))"
   ]
  },
  {
   "cell_type": "markdown",
   "id": "15b855f5-bb6c-4a59-87a5-fb14a431b5cc",
   "metadata": {},
   "source": [
    "### Question 4  \n",
    "  \n",
    "- Now let's train a regularized linear regression.\n",
    "- For this question, fill the NAs with 0.\n",
    "- Try different values of r from this list: [0, 0.000001, 0.0001, 0.001, 0.01, 0.1, 1, 5, 10].\n",
    "- Use RMSE to evaluate the model on the validation dataset.\n",
    "- Round the RMSE scores to 2 decimal digits.\n",
    "- Which r gives the best RMSE?"
   ]
  },
  {
   "cell_type": "code",
   "execution_count": 26,
   "id": "32d40907-7215-4e88-9d07-be85d74df136",
   "metadata": {},
   "outputs": [],
   "source": [
    "def train_linear_regression_reg(Xp, yp, r =0.001):\n",
    "    onesi = np.ones(Xp.shape[0])\n",
    "    Xi = np.column_stack([onesi, Xp])\n",
    "    #normal equation +++\n",
    "    XTXi = Xi.T.dot(Xi)\n",
    "    XTXi = XTXi + r * np.eye(XTXi.shape[0])\n",
    "    XTX_invi = np.linalg.inv(XTXi)\n",
    "    w_fulli = XTX_invi.dot(Xi.T).dot(yp)\n",
    "    #normal equation ---\n",
    "    return w_fulli[0], w_fulli[1:]"
   ]
  },
  {
   "cell_type": "code",
   "execution_count": 27,
   "id": "7b054681-eb5b-4f3e-9b5a-c7fcdfa98a10",
   "metadata": {},
   "outputs": [
    {
     "name": "stdout",
     "output_type": "stream",
     "text": [
      "0 -419.91265872315813 0.643033778856463\n",
      "1e-06 -419.8627156612891 0.643034115739894\n",
      "0.0001 -414.97649241546526 0.6430723153709029\n",
      "0.001 -375.2736526945097 0.6437669735316532\n",
      "0.01 -191.7838405121791 0.6557528427465624\n",
      "0.1 -32.56256055279646 0.6773299642454608\n",
      "1 -3.499216837025976 0.6823116950160037\n",
      "5 -0.7033623164576596 0.6827915727842253\n",
      "10 -0.35127676049422046 0.6828430212097085\n"
     ]
    }
   ],
   "source": [
    "for r in [0, 0.000001, 0.0001, 0.001, 0.01, 0.1, 1, 5, 10]:\n",
    "    X_train = prepare_X_fill_with_zero(df_train, base) # getting training feature matrix\n",
    "    w0, w = train_linear_regression_reg(X_train, y_train, r) # training the model\n",
    "\n",
    "    X_val = prepare_X_fill_with_zero(df_val, base) # getting validation feature matrix\n",
    "    y_pred = w0 + X_val.dot(w)\n",
    "\n",
    "    score = rmse(y_val, y_pred)\n",
    "    \n",
    "    print(r, w0, score)"
   ]
  },
  {
   "cell_type": "markdown",
   "id": "35350c8c-19fd-444d-8f70-29fc46892993",
   "metadata": {},
   "source": [
    "### Question 5\n",
    "  \n",
    "- We used seed 42 for splitting the data. Let's find out how selecting the seed influences our score.\n",
    "- Try different seed values: [0, 1, 2, 3, 4, 5, 6, 7, 8, 9].\n",
    "- For each seed, do the train/validation/test split with 60%/20%/20% distribution.\n",
    "- Fill the missing values with 0 and train a model without regularization.\n",
    "- For each seed, evaluate the model on the validation dataset and collect the RMSE scores.\n",
    "- What's the standard deviation of all the scores? To compute the standard deviation, use np.std.\n",
    "- Round the result to 3 decimal digits (round(std, 3))"
   ]
  },
  {
   "cell_type": "code",
   "execution_count": 28,
   "id": "4ca633f9-d231-458c-a801-22e8d12b328d",
   "metadata": {},
   "outputs": [],
   "source": [
    "def try_different_seeds(seeds):\n",
    "    result = []\n",
    "    for seed in seeds:\n",
    "        df_train, df_val, df_test, y_train, y_val, y_test = split_dataset(df, seed)\n",
    "        X_train = prepare_X_fill_with_zero(df_train, base) # getting training feature matrix\n",
    "        w0, w = train_linear_regression(X_train, y_train) # training the model\n",
    "\n",
    "        X_val = prepare_X_fill_with_zero(df_val, base) # getting validation feature matrix\n",
    "        y_pred = w0 + X_val.dot(w)\n",
    "\n",
    "        score = rmse(y_val, y_pred)\n",
    "        result.append(score)\n",
    "    return result\n",
    "    "
   ]
  },
  {
   "cell_type": "code",
   "execution_count": 29,
   "id": "b6a77b5f-8525-4ec2-8145-469f22442a46",
   "metadata": {},
   "outputs": [],
   "source": [
    "rmse_results = try_different_seeds([0, 1, 2, 3, 4, 5, 6, 7, 8, 9])"
   ]
  },
  {
   "cell_type": "code",
   "execution_count": 30,
   "id": "b72b2e03-a23f-4aa7-bf1c-5268aec49162",
   "metadata": {},
   "outputs": [
    {
     "data": {
      "text/plain": [
       "0.008"
      ]
     },
     "execution_count": 30,
     "metadata": {},
     "output_type": "execute_result"
    }
   ],
   "source": [
    "round(np.std(rmse_results), 3)"
   ]
  },
  {
   "cell_type": "markdown",
   "id": "595bc431-1985-46d0-892e-7f028f282f1d",
   "metadata": {},
   "source": [
    "### Question 6\n",
    "  \n",
    "- Split the dataset like previously, use seed 9.\n",
    "- Combine train and validation datasets.\n",
    "- Fill the missing values with 0 and train a model with r=0.001.\n",
    "- What's the RMSE on the test dataset?"
   ]
  },
  {
   "cell_type": "code",
   "execution_count": 31,
   "id": "f60e86e3-6633-4b35-9126-efba730b5912",
   "metadata": {},
   "outputs": [
    {
     "name": "stdout",
     "output_type": "stream",
     "text": [
      "10 -389.1162946303787 0.6452771348507003\n"
     ]
    }
   ],
   "source": [
    "df_train, df_val, df_test, y_train, y_val, y_test = split_dataset(df, 9)\n",
    "\n",
    "df_full_train = pd.concat([df_train, df_val])\n",
    "df_full_train = df_full_train.reset_index(drop=True)\n",
    "\n",
    "y_full_train = np.concatenate([y_train, y_val])\n",
    "\n",
    "X_full_train = prepare_X_fill_with_zero(df_full_train, base) # getting training feature matrix\n",
    "w0, w = train_linear_regression_reg(X_full_train, y_full_train, r=0.001) # training the model\n",
    "\n",
    "X_test = prepare_X_fill_with_zero(df_test, base) # getting validation feature matrix\n",
    "y_pred = w0 + X_test.dot(w)\n",
    "\n",
    "score = rmse(y_test, y_pred)\n",
    "\n",
    "print(r, w0, score)\n"
   ]
  },
  {
   "cell_type": "code",
   "execution_count": null,
   "id": "1a4acfe7-f8cd-43c5-a44d-2a83bb775b66",
   "metadata": {},
   "outputs": [],
   "source": []
  }
 ],
 "metadata": {
  "kernelspec": {
   "display_name": "Python 3",
   "language": "python",
   "name": "python3"
  },
  "language_info": {
   "codemirror_mode": {
    "name": "ipython",
    "version": 3
   },
   "file_extension": ".py",
   "mimetype": "text/x-python",
   "name": "python",
   "nbconvert_exporter": "python",
   "pygments_lexer": "ipython3",
   "version": "3.8.8"
  }
 },
 "nbformat": 4,
 "nbformat_minor": 5
}
