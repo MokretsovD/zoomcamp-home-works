{
 "cells": [
  {
   "cell_type": "markdown",
   "id": "5547abae",
   "metadata": {},
   "source": [
    "# Car price evaluation"
   ]
  },
  {
   "cell_type": "markdown",
   "id": "dce346c0",
   "metadata": {},
   "source": [
    "\n",
    "## 01 Problem description"
   ]
  },
  {
   "cell_type": "markdown",
   "id": "7812f640",
   "metadata": {},
   "source": [
    "Let's imagine a situation when I decided to sell my used car, how do I know how much it worth? In order to figure this out I can use data from autoscout24 to build the model that predicts price of used car in Germany. Lucklily there is already a dataset on kaggle - https://www.kaggle.com/ander289386/cars-germany"
   ]
  },
  {
   "cell_type": "markdown",
   "id": "4ca2c8c7",
   "metadata": {},
   "source": [
    "## 02 Data Preparation"
   ]
  },
  {
   "cell_type": "code",
   "execution_count": 59,
   "id": "71862fae",
   "metadata": {},
   "outputs": [],
   "source": [
    "import pandas as pd\n",
    "import numpy as np\n",
    "\n",
    "import seaborn as sns\n",
    "from matplotlib import pyplot as plt\n",
    "%matplotlib inline"
   ]
  },
  {
   "cell_type": "code",
   "execution_count": 60,
   "id": "8388a4c9",
   "metadata": {},
   "outputs": [
    {
     "name": "stdout",
     "output_type": "stream",
     "text": [
      "Number of Rows: 46405\n"
     ]
    }
   ],
   "source": [
    "df = pd.read_csv('autoscout24-germany-dataset.csv')\n",
    "print('Number of Rows: %d' % len(df))"
   ]
  },
  {
   "cell_type": "markdown",
   "id": "a9d6eccf",
   "metadata": {},
   "source": [
    "Let's make column names and values uniform"
   ]
  },
  {
   "cell_type": "code",
   "execution_count": 61,
   "id": "33e471ee",
   "metadata": {
    "tags": []
   },
   "outputs": [
    {
     "data": {
      "text/html": [
       "<div>\n",
       "<style scoped>\n",
       "    .dataframe tbody tr th:only-of-type {\n",
       "        vertical-align: middle;\n",
       "    }\n",
       "\n",
       "    .dataframe tbody tr th {\n",
       "        vertical-align: top;\n",
       "    }\n",
       "\n",
       "    .dataframe thead th {\n",
       "        text-align: right;\n",
       "    }\n",
       "</style>\n",
       "<table border=\"1\" class=\"dataframe\">\n",
       "  <thead>\n",
       "    <tr style=\"text-align: right;\">\n",
       "      <th></th>\n",
       "      <th>mileage</th>\n",
       "      <th>make</th>\n",
       "      <th>model</th>\n",
       "      <th>fuel</th>\n",
       "      <th>gear</th>\n",
       "      <th>offertype</th>\n",
       "      <th>price</th>\n",
       "      <th>hp</th>\n",
       "      <th>year</th>\n",
       "    </tr>\n",
       "  </thead>\n",
       "  <tbody>\n",
       "    <tr>\n",
       "      <th>0</th>\n",
       "      <td>235000</td>\n",
       "      <td>bmw</td>\n",
       "      <td>316</td>\n",
       "      <td>diesel</td>\n",
       "      <td>manual</td>\n",
       "      <td>used</td>\n",
       "      <td>6800</td>\n",
       "      <td>116.0</td>\n",
       "      <td>2011</td>\n",
       "    </tr>\n",
       "    <tr>\n",
       "      <th>1</th>\n",
       "      <td>92800</td>\n",
       "      <td>volkswagen</td>\n",
       "      <td>golf</td>\n",
       "      <td>gasoline</td>\n",
       "      <td>manual</td>\n",
       "      <td>used</td>\n",
       "      <td>6877</td>\n",
       "      <td>122.0</td>\n",
       "      <td>2011</td>\n",
       "    </tr>\n",
       "    <tr>\n",
       "      <th>2</th>\n",
       "      <td>149300</td>\n",
       "      <td>seat</td>\n",
       "      <td>exeo</td>\n",
       "      <td>gasoline</td>\n",
       "      <td>manual</td>\n",
       "      <td>used</td>\n",
       "      <td>6900</td>\n",
       "      <td>160.0</td>\n",
       "      <td>2011</td>\n",
       "    </tr>\n",
       "    <tr>\n",
       "      <th>3</th>\n",
       "      <td>96200</td>\n",
       "      <td>renault</td>\n",
       "      <td>megane</td>\n",
       "      <td>gasoline</td>\n",
       "      <td>manual</td>\n",
       "      <td>used</td>\n",
       "      <td>6950</td>\n",
       "      <td>110.0</td>\n",
       "      <td>2011</td>\n",
       "    </tr>\n",
       "    <tr>\n",
       "      <th>4</th>\n",
       "      <td>156000</td>\n",
       "      <td>peugeot</td>\n",
       "      <td>308</td>\n",
       "      <td>gasoline</td>\n",
       "      <td>manual</td>\n",
       "      <td>used</td>\n",
       "      <td>6950</td>\n",
       "      <td>156.0</td>\n",
       "      <td>2011</td>\n",
       "    </tr>\n",
       "  </tbody>\n",
       "</table>\n",
       "</div>"
      ],
      "text/plain": [
       "   mileage        make   model      fuel    gear offertype  price     hp  year\n",
       "0   235000         bmw     316    diesel  manual      used   6800  116.0  2011\n",
       "1    92800  volkswagen    golf  gasoline  manual      used   6877  122.0  2011\n",
       "2   149300        seat    exeo  gasoline  manual      used   6900  160.0  2011\n",
       "3    96200     renault  megane  gasoline  manual      used   6950  110.0  2011\n",
       "4   156000     peugeot     308  gasoline  manual      used   6950  156.0  2011"
      ]
     },
     "execution_count": 61,
     "metadata": {},
     "output_type": "execute_result"
    }
   ],
   "source": [
    "df.columns = df.columns.str.lower().str.replace(' ', '_')\n",
    "\n",
    "string_columns = list(df.dtypes[df.dtypes == 'object'].index)\n",
    "\n",
    "for col in string_columns:\n",
    "    df[col] = df[col].str.lower().str.replace(' ', '_')\n",
    "    \n",
    "df.head()    "
   ]
  },
  {
   "cell_type": "markdown",
   "id": "5434edb9",
   "metadata": {},
   "source": [
    "let's look that column types are ok"
   ]
  },
  {
   "cell_type": "code",
   "execution_count": 62,
   "id": "9682aae9",
   "metadata": {},
   "outputs": [
    {
     "data": {
      "text/plain": [
       "mileage        int64\n",
       "make          object\n",
       "model         object\n",
       "fuel          object\n",
       "gear          object\n",
       "offertype     object\n",
       "price          int64\n",
       "hp           float64\n",
       "year           int64\n",
       "dtype: object"
      ]
     },
     "execution_count": 62,
     "metadata": {},
     "output_type": "execute_result"
    }
   ],
   "source": [
    "df.dtypes"
   ]
  },
  {
   "cell_type": "markdown",
   "id": "d0c8b878",
   "metadata": {},
   "source": [
    "## 03 EDA and Feature Engineering"
   ]
  },
  {
   "cell_type": "markdown",
   "id": "cb441161",
   "metadata": {},
   "source": [
    "### 03.1 High level analysis"
   ]
  },
  {
   "cell_type": "markdown",
   "id": "02c65671",
   "metadata": {},
   "source": [
    "# how many empty values do we have?"
   ]
  },
  {
   "cell_type": "code",
   "execution_count": 63,
   "id": "5fe291c5",
   "metadata": {},
   "outputs": [
    {
     "data": {
      "text/plain": [
       "mileage        0\n",
       "make           0\n",
       "model        143\n",
       "fuel           0\n",
       "gear         182\n",
       "offertype      0\n",
       "price          0\n",
       "hp            29\n",
       "year           0\n",
       "dtype: int64"
      ]
     },
     "execution_count": 63,
     "metadata": {},
     "output_type": "execute_result"
    }
   ],
   "source": [
    "df.isnull().sum()"
   ]
  },
  {
   "cell_type": "code",
   "execution_count": 64,
   "id": "e50c84d9",
   "metadata": {},
   "outputs": [
    {
     "data": {
      "text/html": [
       "<div>\n",
       "<style scoped>\n",
       "    .dataframe tbody tr th:only-of-type {\n",
       "        vertical-align: middle;\n",
       "    }\n",
       "\n",
       "    .dataframe tbody tr th {\n",
       "        vertical-align: top;\n",
       "    }\n",
       "\n",
       "    .dataframe thead th {\n",
       "        text-align: right;\n",
       "    }\n",
       "</style>\n",
       "<table border=\"1\" class=\"dataframe\">\n",
       "  <thead>\n",
       "    <tr style=\"text-align: right;\">\n",
       "      <th></th>\n",
       "      <th>mileage</th>\n",
       "      <th>price</th>\n",
       "      <th>hp</th>\n",
       "      <th>year</th>\n",
       "    </tr>\n",
       "  </thead>\n",
       "  <tbody>\n",
       "    <tr>\n",
       "      <th>count</th>\n",
       "      <td>4.640500e+04</td>\n",
       "      <td>4.640500e+04</td>\n",
       "      <td>46376.000000</td>\n",
       "      <td>46405.000000</td>\n",
       "    </tr>\n",
       "    <tr>\n",
       "      <th>mean</th>\n",
       "      <td>7.117786e+04</td>\n",
       "      <td>1.657234e+04</td>\n",
       "      <td>132.990987</td>\n",
       "      <td>2016.012951</td>\n",
       "    </tr>\n",
       "    <tr>\n",
       "      <th>std</th>\n",
       "      <td>6.262531e+04</td>\n",
       "      <td>1.930470e+04</td>\n",
       "      <td>75.449284</td>\n",
       "      <td>3.155214</td>\n",
       "    </tr>\n",
       "    <tr>\n",
       "      <th>min</th>\n",
       "      <td>0.000000e+00</td>\n",
       "      <td>1.100000e+03</td>\n",
       "      <td>1.000000</td>\n",
       "      <td>2011.000000</td>\n",
       "    </tr>\n",
       "    <tr>\n",
       "      <th>25%</th>\n",
       "      <td>1.980000e+04</td>\n",
       "      <td>7.490000e+03</td>\n",
       "      <td>86.000000</td>\n",
       "      <td>2013.000000</td>\n",
       "    </tr>\n",
       "    <tr>\n",
       "      <th>50%</th>\n",
       "      <td>6.000000e+04</td>\n",
       "      <td>1.099900e+04</td>\n",
       "      <td>116.000000</td>\n",
       "      <td>2016.000000</td>\n",
       "    </tr>\n",
       "    <tr>\n",
       "      <th>75%</th>\n",
       "      <td>1.050000e+05</td>\n",
       "      <td>1.949000e+04</td>\n",
       "      <td>150.000000</td>\n",
       "      <td>2019.000000</td>\n",
       "    </tr>\n",
       "    <tr>\n",
       "      <th>max</th>\n",
       "      <td>1.111111e+06</td>\n",
       "      <td>1.199900e+06</td>\n",
       "      <td>850.000000</td>\n",
       "      <td>2021.000000</td>\n",
       "    </tr>\n",
       "  </tbody>\n",
       "</table>\n",
       "</div>"
      ],
      "text/plain": [
       "            mileage         price            hp          year\n",
       "count  4.640500e+04  4.640500e+04  46376.000000  46405.000000\n",
       "mean   7.117786e+04  1.657234e+04    132.990987   2016.012951\n",
       "std    6.262531e+04  1.930470e+04     75.449284      3.155214\n",
       "min    0.000000e+00  1.100000e+03      1.000000   2011.000000\n",
       "25%    1.980000e+04  7.490000e+03     86.000000   2013.000000\n",
       "50%    6.000000e+04  1.099900e+04    116.000000   2016.000000\n",
       "75%    1.050000e+05  1.949000e+04    150.000000   2019.000000\n",
       "max    1.111111e+06  1.199900e+06    850.000000   2021.000000"
      ]
     },
     "execution_count": 64,
     "metadata": {},
     "output_type": "execute_result"
    }
   ],
   "source": [
    "df.describe()"
   ]
  },
  {
   "cell_type": "code",
   "execution_count": 65,
   "id": "c42c0970",
   "metadata": {},
   "outputs": [
    {
     "name": "stdout",
     "output_type": "stream",
     "text": [
      "<class 'pandas.core.frame.DataFrame'>\n",
      "RangeIndex: 46405 entries, 0 to 46404\n",
      "Data columns (total 9 columns):\n",
      " #   Column     Non-Null Count  Dtype  \n",
      "---  ------     --------------  -----  \n",
      " 0   mileage    46405 non-null  int64  \n",
      " 1   make       46405 non-null  object \n",
      " 2   model      46262 non-null  object \n",
      " 3   fuel       46405 non-null  object \n",
      " 4   gear       46223 non-null  object \n",
      " 5   offertype  46405 non-null  object \n",
      " 6   price      46405 non-null  int64  \n",
      " 7   hp         46376 non-null  float64\n",
      " 8   year       46405 non-null  int64  \n",
      "dtypes: float64(1), int64(3), object(5)\n",
      "memory usage: 3.2+ MB\n"
     ]
    }
   ],
   "source": [
    "df.info()"
   ]
  },
  {
   "cell_type": "markdown",
   "id": "dc73b43c",
   "metadata": {},
   "source": [
    "After base preparation we got a dataset with:  \n",
    "* 46405 rows  \n",
    "* nine features (five categorical, four numerical)\n",
    "* 182 missing values in gear column\n",
    "* 143 missing values in model column\n",
    "* 71177.86 mean mileage\n",
    "* 16572.33 mean price\n",
    "* 132.99 mean hp, 29 missing HP values\n",
    "\n",
    "Let's fill empty HP with mean and drop rows with missing categorical values first\n",
    "Also let's drop duplicates if any"
   ]
  },
  {
   "cell_type": "code",
   "execution_count": 66,
   "id": "d104d63e",
   "metadata": {},
   "outputs": [
    {
     "data": {
      "text/plain": [
       "mileage      0\n",
       "make         0\n",
       "model        0\n",
       "fuel         0\n",
       "gear         0\n",
       "offertype    0\n",
       "price        0\n",
       "hp           0\n",
       "year         0\n",
       "dtype: int64"
      ]
     },
     "execution_count": 66,
     "metadata": {},
     "output_type": "execute_result"
    }
   ],
   "source": [
    "df = df[(df.model.isnull() == False) & (df.gear.isnull() == False)]\n",
    "\n",
    "hp_mean = df.hp.mean()\n",
    "df['hp'] = df['hp'].fillna(hp_mean)\n",
    "\n",
    "df = df.drop_duplicates(keep='first')\n",
    "df.isnull().sum()"
   ]
  },
  {
   "cell_type": "markdown",
   "id": "b57b909d",
   "metadata": {},
   "source": [
    "### 03.2 Numerical features\n",
    "\n",
    "Next let's have a look at numeric feature we have\n",
    "\n",
    "#### 03.2.1 Feature importance\n",
    "\n",
    "First we are going to build a correlation matrix to understand more abot feature importance"
   ]
  },
  {
   "cell_type": "code",
   "execution_count": 67,
   "id": "77df3544",
   "metadata": {},
   "outputs": [
    {
     "data": {
      "text/html": [
       "<div>\n",
       "<style scoped>\n",
       "    .dataframe tbody tr th:only-of-type {\n",
       "        vertical-align: middle;\n",
       "    }\n",
       "\n",
       "    .dataframe tbody tr th {\n",
       "        vertical-align: top;\n",
       "    }\n",
       "\n",
       "    .dataframe thead th {\n",
       "        text-align: right;\n",
       "    }\n",
       "</style>\n",
       "<table border=\"1\" class=\"dataframe\">\n",
       "  <thead>\n",
       "    <tr style=\"text-align: right;\">\n",
       "      <th></th>\n",
       "      <th>mileage</th>\n",
       "      <th>price</th>\n",
       "      <th>hp</th>\n",
       "      <th>year</th>\n",
       "    </tr>\n",
       "  </thead>\n",
       "  <tbody>\n",
       "    <tr>\n",
       "      <th>mileage</th>\n",
       "      <td>1.000000</td>\n",
       "      <td>-0.305652</td>\n",
       "      <td>-0.022898</td>\n",
       "      <td>-0.670604</td>\n",
       "    </tr>\n",
       "    <tr>\n",
       "      <th>price</th>\n",
       "      <td>-0.305652</td>\n",
       "      <td>1.000000</td>\n",
       "      <td>0.744934</td>\n",
       "      <td>0.411535</td>\n",
       "    </tr>\n",
       "    <tr>\n",
       "      <th>hp</th>\n",
       "      <td>-0.022898</td>\n",
       "      <td>0.744934</td>\n",
       "      <td>1.000000</td>\n",
       "      <td>0.181882</td>\n",
       "    </tr>\n",
       "    <tr>\n",
       "      <th>year</th>\n",
       "      <td>-0.670604</td>\n",
       "      <td>0.411535</td>\n",
       "      <td>0.181882</td>\n",
       "      <td>1.000000</td>\n",
       "    </tr>\n",
       "  </tbody>\n",
       "</table>\n",
       "</div>"
      ],
      "text/plain": [
       "          mileage     price        hp      year\n",
       "mileage  1.000000 -0.305652 -0.022898 -0.670604\n",
       "price   -0.305652  1.000000  0.744934  0.411535\n",
       "hp      -0.022898  0.744934  1.000000  0.181882\n",
       "year    -0.670604  0.411535  0.181882  1.000000"
      ]
     },
     "execution_count": 67,
     "metadata": {},
     "output_type": "execute_result"
    }
   ],
   "source": [
    "# Build a correllation matrix\n",
    "numerical = list(df.dtypes[(df.dtypes.values == 'float64') | (df.dtypes.values == 'int')].index)\n",
    "\n",
    "corr_df = df[numerical]\n",
    "corrMatrix = corr_df.corr()\n",
    "corrMatrix"
   ]
  },
  {
   "cell_type": "code",
   "execution_count": 68,
   "id": "0d4b56e3",
   "metadata": {},
   "outputs": [
    {
     "data": {
      "image/png": "[encoded data removed]",
      "text/plain": [
       "<Figure size 432x288 with 2 Axes>"
      ]
     },
     "metadata": {
      "needs_background": "light"
     },
     "output_type": "display_data"
    }
   ],
   "source": [
    "sns.heatmap(corrMatrix, annot=True)\n",
    "plt.show()"
   ]
  },
  {
   "cell_type": "markdown",
   "id": "72f10a53",
   "metadata": {},
   "source": [
    "HP affects price the most, then year. Mileage is the least important feature"
   ]
  },
  {
   "cell_type": "markdown",
   "id": "6be30f3b",
   "metadata": {},
   "source": [
    "#### 03.2.2 Price\n",
    "\n",
    "First we need to look at target (price)"
   ]
  },
  {
   "cell_type": "code",
   "execution_count": 69,
   "id": "546bfd5f",
   "metadata": {},
   "outputs": [
    {
     "data": {
      "image/png": "[encoded data removed]",
      "text/plain": [
       "<Figure size 432x288 with 1 Axes>"
      ]
     },
     "metadata": {
      "needs_background": "light"
     },
     "output_type": "display_data"
    }
   ],
   "source": [
    "plt.figure(figsize=(6, 4))\n",
    "\n",
    "sns.histplot(df.price, bins=60, alpha=1)\n",
    "plt.ylabel('Frequency')\n",
    "plt.xlabel('Price')\n",
    "plt.title('Distribution of prices')\n",
    "\n",
    "plt.show()"
   ]
  },
  {
   "cell_type": "markdown",
   "id": "50ad9e73",
   "metadata": {},
   "source": [
    "Data has long tail due to some outliers"
   ]
  },
  {
   "cell_type": "code",
   "execution_count": 70,
   "id": "63c9d74f",
   "metadata": {},
   "outputs": [
    {
     "data": {
      "image/png": "[encoded data removed]",
      "text/plain": [
       "<Figure size 432x288 with 1 Axes>"
      ]
     },
     "metadata": {
      "needs_background": "light"
     },
     "output_type": "display_data"
    }
   ],
   "source": [
    "plt.figure(figsize=(6, 4))\n",
    "\n",
    "sns.histplot(df.price[df.price > 200000], bins=60, alpha=1)\n",
    "plt.ylabel('Frequency')\n",
    "plt.xlabel('Price')\n",
    "plt.title('Distribution of prices')\n",
    "\n",
    "plt.show()"
   ]
  },
  {
   "cell_type": "markdown",
   "id": "f4105555",
   "metadata": {},
   "source": [
    "Let's remove records with prices higher than 450000. Also we are going to apply log transformation to it"
   ]
  },
  {
   "cell_type": "code",
   "execution_count": 71,
   "id": "e3b829bb",
   "metadata": {},
   "outputs": [
    {
     "data": {
      "image/png": "[encoded data removed]",
      "text/plain": [
       "<Figure size 432x288 with 1 Axes>"
      ]
     },
     "metadata": {
      "needs_background": "light"
     },
     "output_type": "display_data"
    }
   ],
   "source": [
    "df = df[df.price <= 450000]\n",
    "df.price = np.log1p(df.price)\n",
    "plt.figure(figsize=(6, 4))\n",
    "\n",
    "sns.histplot(df.price, bins=60, alpha=1)\n",
    "plt.ylabel('Frequency')\n",
    "plt.xlabel('Price')\n",
    "plt.title('Distribution of prices')\n",
    "\n",
    "plt.show()"
   ]
  },
  {
   "cell_type": "markdown",
   "id": "172e3462",
   "metadata": {},
   "source": [
    "#### 03.2.3 Mileage\n",
    "\n",
    "Let's have a closer look at mileage"
   ]
  },
  {
   "cell_type": "code",
   "execution_count": 72,
   "id": "2a773d84",
   "metadata": {},
   "outputs": [
    {
     "data": {
      "text/plain": [
       "count      43961.00\n",
       "mean       72316.89\n",
       "std        62197.18\n",
       "min            0.00\n",
       "25%        21500.00\n",
       "50%        61302.00\n",
       "75%       106000.00\n",
       "max      1111111.00\n",
       "Name: mileage, dtype: object"
      ]
     },
     "execution_count": 72,
     "metadata": {},
     "output_type": "execute_result"
    }
   ],
   "source": [
    "df.mileage.describe().apply(\"{0:.2f}\".format)"
   ]
  },
  {
   "cell_type": "code",
   "execution_count": 73,
   "id": "c18c7e3d",
   "metadata": {},
   "outputs": [
    {
     "data": {
      "image/png": "[encoded data removed]",
      "text/plain": [
       "<Figure size 576x288 with 1 Axes>"
      ]
     },
     "metadata": {
      "needs_background": "light"
     },
     "output_type": "display_data"
    }
   ],
   "source": [
    "plt.figure(figsize=(8, 4))\n",
    "\n",
    "sns.histplot(df.mileage, bins=80, alpha=1)\n",
    "plt.ylabel('Frequency')\n",
    "plt.xlabel('Mielage')\n",
    "plt.title('Mielage distribution')\n",
    "\n",
    "plt.show()"
   ]
  },
  {
   "cell_type": "markdown",
   "id": "74d7f012",
   "metadata": {},
   "source": [
    "Mileage have a long tail, let's look at this closer"
   ]
  },
  {
   "cell_type": "code",
   "execution_count": 74,
   "id": "f9b504e8",
   "metadata": {},
   "outputs": [
    {
     "data": {
      "image/png": "[encoded data removed]",
      "text/plain": [
       "<Figure size 576x288 with 1 Axes>"
      ]
     },
     "metadata": {
      "needs_background": "light"
     },
     "output_type": "display_data"
    }
   ],
   "source": [
    "plt.figure(figsize=(8, 4))\n",
    "\n",
    "sns.histplot(df.mileage[df.mileage > 400000], bins=80, alpha=1)\n",
    "plt.ylabel('Frequency')\n",
    "plt.xlabel('Mielage')\n",
    "plt.title('Mielage distribution')\n",
    "\n",
    "plt.show()"
   ]
  },
  {
   "cell_type": "markdown",
   "id": "7da1c64a",
   "metadata": {},
   "source": [
    "Let's remove data where mileage is higher than 400k kilometers"
   ]
  },
  {
   "cell_type": "code",
   "execution_count": 75,
   "id": "30769953",
   "metadata": {},
   "outputs": [
    {
     "data": {
      "text/plain": [
       "mileage      43918\n",
       "make         43918\n",
       "model        43918\n",
       "fuel         43918\n",
       "gear         43918\n",
       "offertype    43918\n",
       "price        43918\n",
       "hp           43918\n",
       "year         43918\n",
       "dtype: int64"
      ]
     },
     "execution_count": 75,
     "metadata": {},
     "output_type": "execute_result"
    }
   ],
   "source": [
    "df = df[df.mileage <= 400000]\n",
    "df.count()"
   ]
  },
  {
   "cell_type": "code",
   "execution_count": 76,
   "id": "7f5fddcb",
   "metadata": {},
   "outputs": [
    {
     "data": {
      "image/png": "[encoded data removed]",
      "text/plain": [
       "<Figure size 576x288 with 1 Axes>"
      ]
     },
     "metadata": {
      "needs_background": "light"
     },
     "output_type": "display_data"
    }
   ],
   "source": [
    "plt.figure(figsize=(8, 4))\n",
    "\n",
    "sns.histplot(df.mileage, bins=80, alpha=1)\n",
    "plt.ylabel('Frequency')\n",
    "plt.xlabel('Mielage')\n",
    "plt.title('Mielage distribution')\n",
    "\n",
    "plt.show()"
   ]
  },
  {
   "cell_type": "markdown",
   "id": "ac1637e0",
   "metadata": {},
   "source": [
    "Let's plot how mileage looks against price"
   ]
  },
  {
   "cell_type": "code",
   "execution_count": 77,
   "id": "5d455ff5",
   "metadata": {},
   "outputs": [
    {
     "data": {
      "text/plain": [
       "<AxesSubplot:xlabel='mileage', ylabel='price'>"
      ]
     },
     "execution_count": 77,
     "metadata": {},
     "output_type": "execute_result"
    },
    {
     "data": {
      "image/png": "[encoded data removed]",
      "text/plain": [
       "<Figure size 432x288 with 1 Axes>"
      ]
     },
     "metadata": {
      "needs_background": "light"
     },
     "output_type": "display_data"
    }
   ],
   "source": [
    "sns.scatterplot(x=df['mileage'], y=df['price'])"
   ]
  },
  {
   "cell_type": "markdown",
   "id": "8ca1327e",
   "metadata": {},
   "source": [
    "#### 03.2.4 HP\n",
    "\n",
    "We have some missing values in this column"
   ]
  },
  {
   "cell_type": "code",
   "execution_count": 78,
   "id": "b922682a",
   "metadata": {},
   "outputs": [
    {
     "data": {
      "image/png": "[encoded data removed]",
      "text/plain": [
       "<Figure size 576x288 with 1 Axes>"
      ]
     },
     "metadata": {
      "needs_background": "light"
     },
     "output_type": "display_data"
    }
   ],
   "source": [
    "plt.figure(figsize=(8, 4))\n",
    "\n",
    "sns.histplot(df.hp, bins=80, alpha=1)\n",
    "plt.ylabel('Frequency')\n",
    "plt.xlabel('HP')\n",
    "plt.title('HP distribution')\n",
    "\n",
    "plt.show()"
   ]
  },
  {
   "cell_type": "markdown",
   "id": "98a0aa57",
   "metadata": {},
   "source": [
    "Let's remove HP greater than 400 and less than 30"
   ]
  },
  {
   "cell_type": "code",
   "execution_count": 79,
   "id": "7772f082",
   "metadata": {},
   "outputs": [
    {
     "data": {
      "text/plain": [
       "mileage      43215\n",
       "make         43215\n",
       "model        43215\n",
       "fuel         43215\n",
       "gear         43215\n",
       "offertype    43215\n",
       "price        43215\n",
       "hp           43215\n",
       "year         43215\n",
       "dtype: int64"
      ]
     },
     "execution_count": 79,
     "metadata": {},
     "output_type": "execute_result"
    }
   ],
   "source": [
    "df = df[(df.hp <= 400) & (df.hp > 30)]\n",
    "df.count()"
   ]
  },
  {
   "cell_type": "code",
   "execution_count": 80,
   "id": "3aaf411f",
   "metadata": {},
   "outputs": [
    {
     "data": {
      "text/plain": [
       "<AxesSubplot:xlabel='hp', ylabel='price'>"
      ]
     },
     "execution_count": 80,
     "metadata": {},
     "output_type": "execute_result"
    },
    {
     "data": {
      "image/png": "[encoded data removed]",
      "text/plain": [
       "<Figure size 432x288 with 1 Axes>"
      ]
     },
     "metadata": {
      "needs_background": "light"
     },
     "output_type": "display_data"
    }
   ],
   "source": [
    "sns.scatterplot(x=df['hp'], y=df['price'])"
   ]
  },
  {
   "cell_type": "markdown",
   "id": "00574b34",
   "metadata": {},
   "source": [
    "HP looks mostly ok"
   ]
  },
  {
   "cell_type": "markdown",
   "id": "e4e9c2ef",
   "metadata": {},
   "source": [
    "### 03.2.5 Year  \n",
    "\n",
    "Let's look at year distribution"
   ]
  },
  {
   "cell_type": "code",
   "execution_count": 81,
   "id": "1d627d8f",
   "metadata": {},
   "outputs": [
    {
     "data": {
      "image/png": "[encoded data removed]",
      "text/plain": [
       "<Figure size 576x288 with 1 Axes>"
      ]
     },
     "metadata": {
      "needs_background": "light"
     },
     "output_type": "display_data"
    }
   ],
   "source": [
    "plt.figure(figsize=(8, 4))\n",
    "\n",
    "sns.histplot(df.year, bins=21, alpha=1)\n",
    "plt.ylabel('Frequency')\n",
    "plt.xlabel('Year')\n",
    "plt.title('Year distribution')\n",
    "\n",
    "plt.show()"
   ]
  },
  {
   "cell_type": "code",
   "execution_count": 82,
   "id": "ba49f376",
   "metadata": {},
   "outputs": [
    {
     "data": {
      "text/plain": [
       "<AxesSubplot:xlabel='year', ylabel='price'>"
      ]
     },
     "execution_count": 82,
     "metadata": {},
     "output_type": "execute_result"
    },
    {
     "data": {
      "image/png": "[encoded data removed]",
      "text/plain": [
       "<Figure size 432x288 with 1 Axes>"
      ]
     },
     "metadata": {
      "needs_background": "light"
     },
     "output_type": "display_data"
    }
   ],
   "source": [
    "sns.scatterplot(x=df['year'], y=df['price'])"
   ]
  },
  {
   "cell_type": "markdown",
   "id": "150e8547",
   "metadata": {},
   "source": [
    "Years looks more or less evently distributed. We cam iprove our dataset by adding age feature. This will ensure that model works better for future data"
   ]
  },
  {
   "cell_type": "code",
   "execution_count": 83,
   "id": "93fd8295",
   "metadata": {},
   "outputs": [
    {
     "data": {
      "text/plain": [
       "<AxesSubplot:xlabel='age', ylabel='price'>"
      ]
     },
     "execution_count": 83,
     "metadata": {},
     "output_type": "execute_result"
    },
    {
     "data": {
      "image/png": "[encoded data removed]",
      "text/plain": [
       "<Figure size 432x288 with 1 Axes>"
      ]
     },
     "metadata": {
      "needs_background": "light"
     },
     "output_type": "display_data"
    }
   ],
   "source": [
    "from datetime import datetime\n",
    "\n",
    "df['age'] = datetime.now().year - df['year']\n",
    "sns.scatterplot(x=df['age'], y=df['price'])"
   ]
  },
  {
   "cell_type": "markdown",
   "id": "148b6276",
   "metadata": {
    "tags": []
   },
   "source": [
    "### 03.3 Categorical features\n",
    "\n",
    "Next we need to look at categorical features we have\n",
    "\n",
    "#### 03.3.1 Feature importance\n",
    "\n",
    "We can calculate mutual information for categorical features in order to estimate importance. In order to do that we need to transform numerical feature price into categorical. We will use pandas qunatile cut to achieve this."
   ]
  },
  {
   "cell_type": "code",
   "execution_count": 84,
   "id": "70cc37d6",
   "metadata": {},
   "outputs": [
    {
     "name": "stdout",
     "output_type": "stream",
     "text": [
      "make :  0.16\n",
      "model :  0.54\n",
      "fuel :  0.04\n",
      "gear :  0.19\n",
      "offertype :  0.09\n"
     ]
    }
   ],
   "source": [
    "categorical = list(df.dtypes[(df.dtypes.values == 'object')].index)\n",
    "\n",
    "qprice = pd.qcut(df.price, q=10)\n",
    "\n",
    "from sklearn.metrics import mutual_info_score\n",
    "\n",
    "for cat in categorical:\n",
    "    print(cat, ': ', mutual_info_score(df[cat], qprice).round(2))"
   ]
  },
  {
   "cell_type": "markdown",
   "id": "783f1ad6",
   "metadata": {},
   "source": [
    "Model and Make are the most important, a offertype almost does not affect price. Let's remove it."
   ]
  },
  {
   "cell_type": "code",
   "execution_count": 85,
   "id": "8f4f4da0",
   "metadata": {},
   "outputs": [],
   "source": [
    "del df['offertype']"
   ]
  },
  {
   "cell_type": "code",
   "execution_count": 86,
   "id": "ee4621e4",
   "metadata": {},
   "outputs": [
    {
     "data": {
      "text/plain": [
       "['make', 'model', 'fuel', 'gear']"
      ]
     },
     "execution_count": 86,
     "metadata": {},
     "output_type": "execute_result"
    }
   ],
   "source": [
    "categorical = list(df.dtypes[(df.dtypes.values == 'object')].index)\n",
    "categorical"
   ]
  },
  {
   "cell_type": "markdown",
   "id": "a81219e8",
   "metadata": {},
   "source": [
    "Now we can have a look at most important categorical features\n",
    "\n",
    "#### 03.3.2 Make"
   ]
  },
  {
   "cell_type": "markdown",
   "id": "02fcce2d",
   "metadata": {},
   "source": [
    "Least popular makes"
   ]
  },
  {
   "cell_type": "code",
   "execution_count": 87,
   "id": "b93c6f07",
   "metadata": {},
   "outputs": [
    {
     "data": {
      "text/plain": [
       "jeep          143\n",
       "alfa          124\n",
       "jaguar        110\n",
       "porsche       107\n",
       "cupra          63\n",
       "subaru         57\n",
       "abarth         41\n",
       "ssangyong      36\n",
       "lexus          36\n",
       "lada           31\n",
       "lancia         16\n",
       "ds             16\n",
       "dodge          11\n",
       "infiniti       11\n",
       "daihatsu       10\n",
       "maserati        6\n",
       "cadillac        5\n",
       "chrysler        5\n",
       "alpina          3\n",
       "tesla           3\n",
       "baic            2\n",
       "dfsk            2\n",
       "morgan          2\n",
       "iveco           2\n",
       "bentley         1\n",
       "others          1\n",
       "alpine          1\n",
       "isuzu           1\n",
       "brilliance      1\n",
       "piaggio         1\n",
       "Name: make, dtype: int64"
      ]
     },
     "execution_count": 87,
     "metadata": {},
     "output_type": "execute_result"
    }
   ],
   "source": [
    "df.make.value_counts().tail(30)"
   ]
  },
  {
   "cell_type": "markdown",
   "id": "af5047eb",
   "metadata": {},
   "source": [
    "Most popular makes"
   ]
  },
  {
   "cell_type": "code",
   "execution_count": 88,
   "id": "50666bfe",
   "metadata": {},
   "outputs": [
    {
     "data": {
      "text/plain": [
       "volkswagen       6663\n",
       "opel             4577\n",
       "ford             4228\n",
       "skoda            2736\n",
       "renault          2646\n",
       "audi             2416\n",
       "bmw              2276\n",
       "mercedes-benz    2106\n",
       "seat             1828\n",
       "hyundai          1737\n",
       "fiat             1489\n",
       "peugeot          1174\n",
       "toyota           1142\n",
       "kia               948\n",
       "citroen           918\n",
       "Name: make, dtype: int64"
      ]
     },
     "execution_count": 88,
     "metadata": {},
     "output_type": "execute_result"
    }
   ],
   "source": [
    "df.make.value_counts().head(15)"
   ]
  },
  {
   "cell_type": "markdown",
   "id": "2aef2d7f",
   "metadata": {},
   "source": [
    "#### 03.3.3 Fuel"
   ]
  },
  {
   "cell_type": "code",
   "execution_count": 89,
   "id": "9d8f1559",
   "metadata": {},
   "outputs": [
    {
     "data": {
      "text/plain": [
       "gasoline             26722\n",
       "diesel               14576\n",
       "electric/gasoline      991\n",
       "electric               591\n",
       "cng                    113\n",
       "lpg                    105\n",
       "electric/diesel         49\n",
       "others                  45\n",
       "-/-_(fuel)              20\n",
       "ethanol                  2\n",
       "hydrogen                 1\n",
       "Name: fuel, dtype: int64"
      ]
     },
     "execution_count": 89,
     "metadata": {},
     "output_type": "execute_result"
    }
   ],
   "source": [
    "df.fuel.value_counts()"
   ]
  },
  {
   "cell_type": "markdown",
   "id": "acea5046",
   "metadata": {},
   "source": [
    "We can observe value of '-/-_(fuel)'. We can assume that this is the same as 'others', let's fix it"
   ]
  },
  {
   "cell_type": "code",
   "execution_count": 90,
   "id": "b76000a8",
   "metadata": {},
   "outputs": [
    {
     "data": {
      "text/plain": [
       "gasoline             26722\n",
       "diesel               14576\n",
       "electric/gasoline      991\n",
       "electric               591\n",
       "cng                    113\n",
       "lpg                    105\n",
       "others                  65\n",
       "electric/diesel         49\n",
       "ethanol                  2\n",
       "hydrogen                 1\n",
       "Name: fuel, dtype: int64"
      ]
     },
     "execution_count": 90,
     "metadata": {},
     "output_type": "execute_result"
    }
   ],
   "source": [
    "df.fuel = df.fuel.replace('-/-_(fuel)', 'others')\n",
    "df.fuel.value_counts()"
   ]
  },
  {
   "cell_type": "markdown",
   "id": "6c1e2d66",
   "metadata": {
    "tags": []
   },
   "source": [
    "## 04 Training Models\n",
    "\n",
    "### 04.1 Splitting the data\n",
    "\n",
    "We will use train_test_split to split the data and DictVectorizer to do one hot encoding on categorical features"
   ]
  },
  {
   "cell_type": "code",
   "execution_count": 91,
   "id": "b3407d92",
   "metadata": {
    "tags": []
   },
   "outputs": [
    {
     "data": {
      "text/plain": [
       "(array([ 9.14857135,  8.10198073,  9.13248693, ...,  9.6091836 ,\n",
       "        10.03806215,  9.27809247]),\n",
       " [{'mileage': 69500,\n",
       "   'make': 'renault',\n",
       "   'model': 'scenic',\n",
       "   'fuel': 'diesel',\n",
       "   'gear': 'manual',\n",
       "   'hp': 110.0,\n",
       "   'year': 2015,\n",
       "   'age': 6},\n",
       "  {'mileage': 119595,\n",
       "   'make': 'renault',\n",
       "   'model': 'twingo',\n",
       "   'fuel': 'gasoline',\n",
       "   'gear': 'manual',\n",
       "   'hp': 75.0,\n",
       "   'year': 2012,\n",
       "   'age': 9}])"
      ]
     },
     "execution_count": 91,
     "metadata": {},
     "output_type": "execute_result"
    }
   ],
   "source": [
    "from sklearn.model_selection import train_test_split\n",
    "from sklearn.feature_extraction import DictVectorizer\n",
    "\n",
    "df_full_train, df_test = train_test_split(df, test_size=0.2, random_state=1)\n",
    "df_train, df_val = train_test_split(df_full_train, test_size=0.25, random_state=1)\n",
    "\n",
    "df_train = df_train.reset_index(drop=True)\n",
    "df_val = df_val.reset_index(drop=True)\n",
    "df_test = df_test.reset_index(drop=True)\n",
    "df_full_train = df_full_train.reset_index(drop=True)\n",
    "\n",
    "y_train = df_train.price.values\n",
    "y_val   = df_val.price.values\n",
    "y_test  = df_test.price.values\n",
    "y_full_train = df_full_train.price.values\n",
    "\n",
    "del df_train['price']\n",
    "del df_val['price']\n",
    "del df_test['price']\n",
    "\n",
    "y_train, df_train.head(2).to_dict(orient='records')"
   ]
  },
  {
   "cell_type": "markdown",
   "id": "6c22e83b",
   "metadata": {},
   "source": [
    "Now we use DicVectorizer to do one hot encoding for train and validation"
   ]
  },
  {
   "cell_type": "code",
   "execution_count": 92,
   "id": "2e9aeecd",
   "metadata": {},
   "outputs": [
    {
     "data": {
      "text/plain": [
       "(25929, 756)"
      ]
     },
     "execution_count": 92,
     "metadata": {},
     "output_type": "execute_result"
    }
   ],
   "source": [
    "numerical = ['mileage', 'hp', 'year', 'age']\n",
    "categorical = ['make', 'model', 'fuel', 'gear']\n",
    "\n",
    "dv = DictVectorizer(sparse=False) \n",
    "\n",
    "train_dicts = df_train[numerical + categorical].to_dict(orient='records') \n",
    "X_train = dv.fit_transform(train_dicts)\n",
    "\n",
    "val_dicts = df_val[numerical + categorical].to_dict(orient='records')\n",
    "X_val = dv.transform(val_dicts)\n",
    "X_train.shape"
   ]
  },
  {
   "cell_type": "markdown",
   "id": "63134045",
   "metadata": {},
   "source": [
    "### 04.2 Training Ridge"
   ]
  },
  {
   "cell_type": "code",
   "execution_count": 93,
   "id": "2f0e1823",
   "metadata": {},
   "outputs": [],
   "source": [
    "from sklearn.linear_model import Ridge"
   ]
  },
  {
   "cell_type": "markdown",
   "id": "5f8b188a",
   "metadata": {},
   "source": [
    "Let's train basic Ridge"
   ]
  },
  {
   "cell_type": "code",
   "execution_count": 94,
   "id": "09eb4bd9",
   "metadata": {},
   "outputs": [],
   "source": [
    "def TrainModel_Ridge(alpha_=1,normalize_=False):\n",
    "    model_ = Ridge(alpha=alpha_, random_state=42, normalize=normalize_)\n",
    "    model_.fit(X_train, y_train)\n",
    "\n",
    "    y_pred_ = model_.predict(X_val)\n",
    "\n",
    "    return y_pred_"
   ]
  },
  {
   "cell_type": "markdown",
   "id": "de95397a",
   "metadata": {},
   "source": [
    "Let's look at RMSE of default model"
   ]
  },
  {
   "cell_type": "code",
   "execution_count": 95,
   "id": "8755951a",
   "metadata": {},
   "outputs": [],
   "source": [
    "def rmse(yp, y_predp):\n",
    "    se = (yp - y_predp) ** 2\n",
    "    mse = se.mean()\n",
    "    return np.sqrt(mse)"
   ]
  },
  {
   "cell_type": "code",
   "execution_count": 96,
   "id": "abdac450",
   "metadata": {},
   "outputs": [
    {
     "data": {
      "text/plain": [
       "0.14829667746719716"
      ]
     },
     "execution_count": 96,
     "metadata": {},
     "output_type": "execute_result"
    }
   ],
   "source": [
    "    y_pred = TrainModel_Ridge(1, False)\n",
    "    rmse(y_val, y_pred)\n",
    "    \n",
    "   # y_val, y_pred"
   ]
  },
  {
   "cell_type": "code",
   "execution_count": 97,
   "id": "2ce1dc1f",
   "metadata": {},
   "outputs": [
    {
     "data": {
      "text/plain": [
       "<AxesSubplot:ylabel='Count'>"
      ]
     },
     "execution_count": 97,
     "metadata": {},
     "output_type": "execute_result"
    },
    {
     "data": {
      "image/png": "[encoded data removed]",
      "text/plain": [
       "<Figure size 432x288 with 1 Axes>"
      ]
     },
     "metadata": {
      "needs_background": "light"
     },
     "output_type": "display_data"
    }
   ],
   "source": [
    "sns.histplot(y_pred, color='red', alpha=0.5, bins=50)\n",
    "sns.histplot(y_val, color='blue', alpha=0.5, bins=50)\n"
   ]
  },
  {
   "cell_type": "markdown",
   "id": "4839c772",
   "metadata": {},
   "source": [
    "Let's try to tune model to get better results"
   ]
  },
  {
   "cell_type": "code",
   "execution_count": 98,
   "id": "92f2e3cf",
   "metadata": {},
   "outputs": [],
   "source": [
    "from tqdm.auto import tqdm"
   ]
  },
  {
   "cell_type": "code",
   "execution_count": 100,
   "id": "4c4b04ec",
   "metadata": {},
   "outputs": [
    {
     "data": {
      "application/vnd.jupyter.widget-view+json": {
       "model_id": "6dce7f306362427599a1549f3f19291d",
       "version_major": 2,
       "version_minor": 0
      },
      "text/plain": [
       "  0%|          | 0/2 [00:00<?, ?it/s]"
      ]
     },
     "metadata": {},
     "output_type": "display_data"
    },
    {
     "name": "stdout",
     "output_type": "stream",
     "text": [
      "norm: False, alpha: 0.05, rmse: 0.148\n",
      "norm: False, alpha: 0.1, rmse: 0.148\n",
      "norm: False, alpha: 1, rmse: 0.148\n",
      "norm: False, alpha: 5, rmse: 0.151\n",
      "norm: False, alpha: 10, rmse: 0.155\n",
      "norm: True, alpha: 0.05, rmse: 0.148\n",
      "norm: True, alpha: 0.1, rmse: 0.148\n",
      "norm: True, alpha: 1, rmse: 0.148\n",
      "norm: True, alpha: 5, rmse: 0.151\n",
      "norm: True, alpha: 10, rmse: 0.155\n"
     ]
    }
   ],
   "source": [
    "alphas = [0.05, 0.1, 1, 5, 10]\n",
    "norm = [False, True]\n",
    "\n",
    "for n in tqdm(norm):\n",
    "    for a in alphas:\n",
    "        y_pred = TrainModel_Ridge(a)\n",
    "        print('norm: %s, alpha: %s, rmse: %.3f' % (n, a, rmse(y_val, y_pred)))"
   ]
  },
  {
   "cell_type": "markdown",
   "id": "3234aa35",
   "metadata": {},
   "source": [
    "Looks like default model parameters give the best results\n",
    "Let's train the final ridge model"
   ]
  },
  {
   "cell_type": "code",
   "execution_count": 44,
   "id": "814d289d",
   "metadata": {},
   "outputs": [
    {
     "data": {
      "text/plain": [
       "[('Ridge', 0.14829667746719716, 0.1435849993940705)]"
      ]
     },
     "execution_count": 44,
     "metadata": {},
     "output_type": "execute_result"
    }
   ],
   "source": [
    "model_ridge = Ridge(alpha=1, random_state=42, normalize=False)\n",
    "model_ridge.fit(X_train, y_train)\n",
    "\n",
    "y_pred_ridge_train = model_ridge.predict(X_train)\n",
    "y_pred_ridge = model_ridge.predict(X_val)\n",
    "\n",
    "rmse_results = []\n",
    "rmse_results.append(('Ridge', rmse(y_val, y_pred_ridge), rmse(y_train, y_pred_ridge_train)))\n",
    "rmse_results"
   ]
  },
  {
   "cell_type": "markdown",
   "id": "78d7fee8",
   "metadata": {},
   "source": [
    "### 04.3 Training Regression Tree"
   ]
  },
  {
   "cell_type": "markdown",
   "id": "2989f0c5",
   "metadata": {},
   "source": [
    "Now let's train basic regression tree model"
   ]
  },
  {
   "cell_type": "code",
   "execution_count": 45,
   "id": "4dbbe944",
   "metadata": {},
   "outputs": [],
   "source": [
    "from sklearn.tree import DecisionTreeRegressor\n",
    "\n",
    "model = DecisionTreeRegressor(random_state=42)\n",
    "model.fit(X_train, y_train)\n",
    "\n",
    "y_pred = model.predict(X_val)"
   ]
  },
  {
   "cell_type": "code",
   "execution_count": 46,
   "id": "02f24591",
   "metadata": {},
   "outputs": [
    {
     "data": {
      "text/plain": [
       "0.21191958747993225"
      ]
     },
     "execution_count": 46,
     "metadata": {},
     "output_type": "execute_result"
    }
   ],
   "source": [
    "rmse(y_val, y_pred)"
   ]
  },
  {
   "cell_type": "code",
   "execution_count": 47,
   "id": "03ce3918",
   "metadata": {},
   "outputs": [
    {
     "data": {
      "text/plain": [
       "<AxesSubplot:ylabel='Count'>"
      ]
     },
     "execution_count": 47,
     "metadata": {},
     "output_type": "execute_result"
    },
    {
     "data": {
      "image/png": "[encoded data removed]",
      "text/plain": [
       "<Figure size 432x288 with 1 Axes>"
      ]
     },
     "metadata": {
      "needs_background": "light"
     },
     "output_type": "display_data"
    }
   ],
   "source": [
    "sns.histplot(y_pred, color='red', alpha=0.5, bins=50)\n",
    "sns.histplot(y_val, color='blue', alpha=0.5, bins=50)"
   ]
  },
  {
   "cell_type": "markdown",
   "id": "ea07a504",
   "metadata": {},
   "source": [
    "Let's try to tune different parameters"
   ]
  },
  {
   "cell_type": "code",
   "execution_count": 48,
   "id": "e3ea0079",
   "metadata": {},
   "outputs": [],
   "source": [
    "def train_tree(max_depth_, min_samples_leaf_, max_leaf_nodes_=None,criterion_='mse'):\n",
    "#     train_dicts_ = df_train[features_].to_dict(orient='records')\n",
    "#     dv_ = DictVectorizer(sparse=False) \n",
    "#     X_train_ = dv_.fit_transform(train_dicts_)\n",
    "\n",
    "#     val_dicts_ = df_val[features_].to_dict(orient='records') #doing the same for validation DS\n",
    "#     X_val_ = dv_.transform(val_dicts)\n",
    "\n",
    "    model_ = DecisionTreeRegressor(random_state=42, max_depth=max_depth_, min_samples_leaf=min_samples_leaf_, max_leaf_nodes=max_leaf_nodes_,criterion=criterion_)\n",
    "    model_.fit(X_train, y_train)\n",
    "\n",
    "    y_pred_ = model_.predict(X_val)\n",
    "    \n",
    "    return y_pred_"
   ]
  },
  {
   "cell_type": "code",
   "execution_count": 49,
   "id": "0a7a0484",
   "metadata": {},
   "outputs": [
    {
     "data": {
      "application/vnd.jupyter.widget-view+json": {
       "model_id": "35574e57e13e44e4af4191d1eaa0fc0f",
       "version_major": 2,
       "version_minor": 0
      },
      "text/plain": [
       "  0%|          | 0/12 [00:00<?, ?it/s]"
      ]
     },
     "metadata": {},
     "output_type": "display_data"
    },
    {
     "name": "stdout",
     "output_type": "stream",
     "text": [
      "depth 1: rmse: 0.503\n",
      "depth 2: rmse: 0.381\n",
      "depth 3: rmse: 0.325\n",
      "depth 4: rmse: 0.286\n",
      "depth 5: rmse: 0.263\n",
      "depth 6: rmse: 0.242\n",
      "depth 10: rmse: 0.209\n",
      "depth 15: rmse: 0.199\n",
      "depth 20: rmse: 0.203\n",
      "depth 50: rmse: 0.211\n",
      "depth 100: rmse: 0.212\n",
      "depth None: rmse: 0.212\n"
     ]
    }
   ],
   "source": [
    "depths = [1,2,3,4,5,6,10,15,20,50,100,None]\n",
    "\n",
    "scores = []\n",
    "\n",
    "for d in tqdm(depths):\n",
    "    y_pred = train_tree(d, 1)\n",
    "    rmse_val = rmse(y_val, y_pred)\n",
    "    print('depth %s: rmse: %.3f' % (d, rmse_val))\n",
    "    scores.append((d, rmse_val))"
   ]
  },
  {
   "cell_type": "markdown",
   "id": "171074b2",
   "metadata": {},
   "source": [
    "Best depth is 15. Now let's look at min_samples_leaf"
   ]
  },
  {
   "cell_type": "code",
   "execution_count": 50,
   "id": "abbc3bb5",
   "metadata": {},
   "outputs": [
    {
     "data": {
      "text/html": [
       "<div>\n",
       "<style scoped>\n",
       "    .dataframe tbody tr th:only-of-type {\n",
       "        vertical-align: middle;\n",
       "    }\n",
       "\n",
       "    .dataframe tbody tr th {\n",
       "        vertical-align: top;\n",
       "    }\n",
       "\n",
       "    .dataframe thead th {\n",
       "        text-align: right;\n",
       "    }\n",
       "</style>\n",
       "<table border=\"1\" class=\"dataframe\">\n",
       "  <thead>\n",
       "    <tr style=\"text-align: right;\">\n",
       "      <th></th>\n",
       "      <th>depth</th>\n",
       "      <th>rmse</th>\n",
       "    </tr>\n",
       "  </thead>\n",
       "  <tbody>\n",
       "    <tr>\n",
       "      <th>7</th>\n",
       "      <td>15.0</td>\n",
       "      <td>0.199174</td>\n",
       "    </tr>\n",
       "    <tr>\n",
       "      <th>8</th>\n",
       "      <td>20.0</td>\n",
       "      <td>0.203424</td>\n",
       "    </tr>\n",
       "    <tr>\n",
       "      <th>6</th>\n",
       "      <td>10.0</td>\n",
       "      <td>0.208525</td>\n",
       "    </tr>\n",
       "    <tr>\n",
       "      <th>9</th>\n",
       "      <td>50.0</td>\n",
       "      <td>0.210832</td>\n",
       "    </tr>\n",
       "    <tr>\n",
       "      <th>10</th>\n",
       "      <td>100.0</td>\n",
       "      <td>0.211920</td>\n",
       "    </tr>\n",
       "    <tr>\n",
       "      <th>11</th>\n",
       "      <td>NaN</td>\n",
       "      <td>0.211920</td>\n",
       "    </tr>\n",
       "    <tr>\n",
       "      <th>5</th>\n",
       "      <td>6.0</td>\n",
       "      <td>0.242432</td>\n",
       "    </tr>\n",
       "    <tr>\n",
       "      <th>4</th>\n",
       "      <td>5.0</td>\n",
       "      <td>0.262899</td>\n",
       "    </tr>\n",
       "    <tr>\n",
       "      <th>3</th>\n",
       "      <td>4.0</td>\n",
       "      <td>0.285853</td>\n",
       "    </tr>\n",
       "    <tr>\n",
       "      <th>2</th>\n",
       "      <td>3.0</td>\n",
       "      <td>0.324523</td>\n",
       "    </tr>\n",
       "    <tr>\n",
       "      <th>1</th>\n",
       "      <td>2.0</td>\n",
       "      <td>0.381308</td>\n",
       "    </tr>\n",
       "    <tr>\n",
       "      <th>0</th>\n",
       "      <td>1.0</td>\n",
       "      <td>0.502953</td>\n",
       "    </tr>\n",
       "  </tbody>\n",
       "</table>\n",
       "</div>"
      ],
      "text/plain": [
       "    depth      rmse\n",
       "7    15.0  0.199174\n",
       "8    20.0  0.203424\n",
       "6    10.0  0.208525\n",
       "9    50.0  0.210832\n",
       "10  100.0  0.211920\n",
       "11    NaN  0.211920\n",
       "5     6.0  0.242432\n",
       "4     5.0  0.262899\n",
       "3     4.0  0.285853\n",
       "2     3.0  0.324523\n",
       "1     2.0  0.381308\n",
       "0     1.0  0.502953"
      ]
     },
     "execution_count": 50,
     "metadata": {},
     "output_type": "execute_result"
    }
   ],
   "source": [
    "df_scores = pd.DataFrame(scores, columns=['depth','rmse'])\n",
    "df_scores.sort_values('rmse')"
   ]
  },
  {
   "cell_type": "code",
   "execution_count": 51,
   "id": "c0b1fa49",
   "metadata": {},
   "outputs": [
    {
     "data": {
      "text/plain": [
       "[<matplotlib.lines.Line2D at 0x7f8b3a7e0760>]"
      ]
     },
     "execution_count": 51,
     "metadata": {},
     "output_type": "execute_result"
    },
    {
     "data": {
      "image/png": "[encoded data removed]",
      "text/plain": [
       "<Figure size 432x288 with 1 Axes>"
      ]
     },
     "metadata": {
      "needs_background": "light"
     },
     "output_type": "display_data"
    }
   ],
   "source": [
    "plt.plot(df_scores.depth, df_scores.rmse)"
   ]
  },
  {
   "cell_type": "code",
   "execution_count": 52,
   "id": "cc4393c3",
   "metadata": {},
   "outputs": [
    {
     "data": {
      "application/vnd.jupyter.widget-view+json": {
       "model_id": "d58108345b1549b9bca441e58a1ed983",
       "version_major": 2,
       "version_minor": 0
      },
      "text/plain": [
       "  0%|          | 0/5 [00:00<?, ?it/s]"
      ]
     },
     "metadata": {},
     "output_type": "display_data"
    },
    {
     "name": "stdout",
     "output_type": "stream",
     "text": [
      "depth=12\n",
      "depth=14\n",
      "depth=15\n",
      "depth=16\n",
      "depth=18\n"
     ]
    },
    {
     "data": {
      "text/html": [
       "<div>\n",
       "<style scoped>\n",
       "    .dataframe tbody tr th:only-of-type {\n",
       "        vertical-align: middle;\n",
       "    }\n",
       "\n",
       "    .dataframe tbody tr th {\n",
       "        vertical-align: top;\n",
       "    }\n",
       "\n",
       "    .dataframe thead th {\n",
       "        text-align: right;\n",
       "    }\n",
       "</style>\n",
       "<table border=\"1\" class=\"dataframe\">\n",
       "  <thead>\n",
       "    <tr style=\"text-align: right;\">\n",
       "      <th></th>\n",
       "      <th>max_depth</th>\n",
       "      <th>min_samples_leaf</th>\n",
       "      <th>rmse</th>\n",
       "    </tr>\n",
       "  </thead>\n",
       "  <tbody>\n",
       "    <tr>\n",
       "      <th>24</th>\n",
       "      <td>15</td>\n",
       "      <td>4</td>\n",
       "      <td>0.197</td>\n",
       "    </tr>\n",
       "    <tr>\n",
       "      <th>26</th>\n",
       "      <td>15</td>\n",
       "      <td>6</td>\n",
       "      <td>0.198</td>\n",
       "    </tr>\n",
       "    <tr>\n",
       "      <th>25</th>\n",
       "      <td>15</td>\n",
       "      <td>5</td>\n",
       "      <td>0.198</td>\n",
       "    </tr>\n",
       "    <tr>\n",
       "      <th>11</th>\n",
       "      <td>14</td>\n",
       "      <td>1</td>\n",
       "      <td>0.198</td>\n",
       "    </tr>\n",
       "    <tr>\n",
       "      <th>13</th>\n",
       "      <td>14</td>\n",
       "      <td>4</td>\n",
       "      <td>0.198</td>\n",
       "    </tr>\n",
       "  </tbody>\n",
       "</table>\n",
       "</div>"
      ],
      "text/plain": [
       "    max_depth  min_samples_leaf   rmse\n",
       "24         15                 4  0.197\n",
       "26         15                 6  0.198\n",
       "25         15                 5  0.198\n",
       "11         14                 1  0.198\n",
       "13         14                 4  0.198"
      ]
     },
     "execution_count": 52,
     "metadata": {},
     "output_type": "execute_result"
    }
   ],
   "source": [
    "depths = [12,14,15,16,18]\n",
    "min_samples = [1,2,4,5,6,10,12,15,17,20,100]\n",
    "\n",
    "scores = []\n",
    "\n",
    "for d in tqdm(depths):\n",
    "    print('depth=%s' % d)\n",
    "    for s in min_samples:\n",
    "        y_pred = train_tree(d, s)\n",
    "        scores.append((d,s,rmse(y_val, y_pred).round(3)))\n",
    "    #print('depth %s: rmse: %.3f' % (d, rmse(y_val, y_pred))) \n",
    "    \n",
    "df_scores = pd.DataFrame(scores, columns=['max_depth', 'min_samples_leaf', 'rmse'])\n",
    "df_scores.sort_values('rmse').head(5)"
   ]
  },
  {
   "cell_type": "markdown",
   "id": "456c893c",
   "metadata": {},
   "source": [
    "Best min_samples_leaf is 4. Let's peek the best max leaf nodes"
   ]
  },
  {
   "cell_type": "code",
   "execution_count": 53,
   "id": "f2391baf",
   "metadata": {},
   "outputs": [
    {
     "data": {
      "application/vnd.jupyter.widget-view+json": {
       "model_id": "c944aa51955c48d2b4633e9074adbd9d",
       "version_major": 2,
       "version_minor": 0
      },
      "text/plain": [
       "  0%|          | 0/3 [00:00<?, ?it/s]"
      ]
     },
     "metadata": {},
     "output_type": "display_data"
    },
    {
     "name": "stdout",
     "output_type": "stream",
     "text": [
      "min_samples=3\n",
      "min_samples=4\n",
      "min_samples=5\n"
     ]
    },
    {
     "data": {
      "text/html": [
       "<div>\n",
       "<style scoped>\n",
       "    .dataframe tbody tr th:only-of-type {\n",
       "        vertical-align: middle;\n",
       "    }\n",
       "\n",
       "    .dataframe tbody tr th {\n",
       "        vertical-align: top;\n",
       "    }\n",
       "\n",
       "    .dataframe thead th {\n",
       "        text-align: right;\n",
       "    }\n",
       "</style>\n",
       "<table border=\"1\" class=\"dataframe\">\n",
       "  <thead>\n",
       "    <tr style=\"text-align: right;\">\n",
       "      <th></th>\n",
       "      <th>min_samples_leaf</th>\n",
       "      <th>max_leaf_nodes</th>\n",
       "      <th>rmse</th>\n",
       "    </tr>\n",
       "  </thead>\n",
       "  <tbody>\n",
       "    <tr>\n",
       "      <th>10</th>\n",
       "      <td>4</td>\n",
       "      <td>1500.0</td>\n",
       "      <td>0.196</td>\n",
       "    </tr>\n",
       "    <tr>\n",
       "      <th>3</th>\n",
       "      <td>3</td>\n",
       "      <td>1500.0</td>\n",
       "      <td>0.196</td>\n",
       "    </tr>\n",
       "    <tr>\n",
       "      <th>4</th>\n",
       "      <td>3</td>\n",
       "      <td>2000.0</td>\n",
       "      <td>0.196</td>\n",
       "    </tr>\n",
       "    <tr>\n",
       "      <th>5</th>\n",
       "      <td>3</td>\n",
       "      <td>2500.0</td>\n",
       "      <td>0.196</td>\n",
       "    </tr>\n",
       "    <tr>\n",
       "      <th>11</th>\n",
       "      <td>4</td>\n",
       "      <td>2000.0</td>\n",
       "      <td>0.196</td>\n",
       "    </tr>\n",
       "  </tbody>\n",
       "</table>\n",
       "</div>"
      ],
      "text/plain": [
       "    min_samples_leaf  max_leaf_nodes   rmse\n",
       "10                 4          1500.0  0.196\n",
       "3                  3          1500.0  0.196\n",
       "4                  3          2000.0  0.196\n",
       "5                  3          2500.0  0.196\n",
       "11                 4          2000.0  0.196"
      ]
     },
     "execution_count": 53,
     "metadata": {},
     "output_type": "execute_result"
    }
   ],
   "source": [
    "min_samples = [3,4,5]\n",
    "max_leaf_nodes = [None,100,1000,1500,2000,2500,3000]\n",
    "scores = []\n",
    "\n",
    "for s in tqdm(min_samples):\n",
    "    print('min_samples=%s' % s)\n",
    "    for l in max_leaf_nodes:\n",
    "        y_pred = train_tree(15, s, l)\n",
    "        scores.append((s,l,rmse(y_val, y_pred).round(3)))\n",
    "\n",
    "df_scores = pd.DataFrame(scores, columns=['min_samples_leaf', 'max_leaf_nodes', 'rmse'])\n",
    "df_scores.sort_values('rmse').head(5)"
   ]
  },
  {
   "cell_type": "code",
   "execution_count": 54,
   "id": "e09e536a",
   "metadata": {},
   "outputs": [
    {
     "data": {
      "text/plain": [
       "<AxesSubplot:xlabel='None-max_leaf_nodes', ylabel='min_samples_leaf'>"
      ]
     },
     "execution_count": 54,
     "metadata": {},
     "output_type": "execute_result"
    },
    {
     "data": {
      "image/png": "[encoded data removed]",
      "text/plain": [
       "<Figure size 432x288 with 2 Axes>"
      ]
     },
     "metadata": {
      "needs_background": "light"
     },
     "output_type": "display_data"
    }
   ],
   "source": [
    "df_scores_pivot = df_scores.pivot(index='min_samples_leaf', columns=['max_leaf_nodes'], values=['rmse'])\n",
    "df_scores_pivot.round(3)\n",
    "\n",
    "sns.heatmap(df_scores_pivot, annot=True, fmt='.3f')"
   ]
  },
  {
   "cell_type": "markdown",
   "id": "9527fbc2",
   "metadata": {},
   "source": [
    "So, the best aparameters are max_depth=15 min_samples_leaf=4 max_leaf_nodes=1500\n",
    "Now we will train final model"
   ]
  },
  {
   "cell_type": "code",
   "execution_count": 55,
   "id": "ad890775",
   "metadata": {},
   "outputs": [
    {
     "data": {
      "text/plain": [
       "[('Ridge', 0.14829667746719716, 0.1435849993940705),\n",
       " ('Reg_tree', 0.1959388459647658, 0.15313221592567927)]"
      ]
     },
     "execution_count": 55,
     "metadata": {},
     "output_type": "execute_result"
    }
   ],
   "source": [
    "model_reg_tree = DecisionTreeRegressor(random_state=42,max_depth=15,min_samples_leaf=4,max_leaf_nodes=1500)\n",
    "model_reg_tree.fit(X_train, y_train)\n",
    "\n",
    "y_pred_reg_tree = model_reg_tree.predict(X_val)\n",
    "y_pred_reg_tree_train = model_reg_tree.predict(X_train)\n",
    "\n",
    "rmse_results.append(('Reg_tree', rmse(y_val, y_pred_reg_tree), rmse(y_train, y_pred_reg_tree_train)))\n",
    "rmse_results"
   ]
  },
  {
   "cell_type": "markdown",
   "id": "6a1e6d45",
   "metadata": {},
   "source": [
    "### 04.4 Training Random Forest"
   ]
  },
  {
   "cell_type": "markdown",
   "id": "2ee6c0f0",
   "metadata": {},
   "source": [
    "Next we will train default random forest regression model"
   ]
  },
  {
   "cell_type": "code",
   "execution_count": 56,
   "id": "c423d490",
   "metadata": {},
   "outputs": [],
   "source": [
    "from sklearn.ensemble import RandomForestRegressor"
   ]
  },
  {
   "cell_type": "code",
   "execution_count": 57,
   "id": "37c34256",
   "metadata": {},
   "outputs": [
    {
     "data": {
      "text/plain": [
       "(0.1612333490504326, 0.06208425325496527)"
      ]
     },
     "execution_count": 57,
     "metadata": {},
     "output_type": "execute_result"
    }
   ],
   "source": [
    "rf = RandomForestRegressor(n_estimators=100, random_state=42, n_jobs=4)\n",
    "rf.fit(X_train, y_train)\n",
    "\n",
    "y_pred = rf.predict(X_val)\n",
    "y_pred_train  = rf.predict(X_train)\n",
    "\n",
    "rmse(y_val, y_pred), rmse(y_train, y_pred_train)"
   ]
  },
  {
   "cell_type": "markdown",
   "id": "a2fab5c1",
   "metadata": {},
   "source": [
    "As usual model shows signs of overfitting and rmse on validation dataset is not the best. Let's try to tweak it"
   ]
  },
  {
   "cell_type": "code",
   "execution_count": 58,
   "id": "0e813d9f",
   "metadata": {},
   "outputs": [],
   "source": [
    "def train_random_forest(n_estimators_=100, max_depth_=None, min_samples_leaf_=1):\n",
    "\n",
    "    model_ = RandomForestRegressor(n_estimators=n_estimators_, max_depth=max_depth_, min_samples_leaf=min_samples_leaf_, random_state=42, n_jobs=4)\n",
    "    model_.fit(X_train, y_train)\n",
    "\n",
    "    y_pred_ = model_.predict(X_val)\n",
    "    \n",
    "    return y_pred_"
   ]
  },
  {
   "cell_type": "markdown",
   "id": "bd00072e",
   "metadata": {},
   "source": [
    "We are going to start with tweaking number of estimators"
   ]
  },
  {
   "cell_type": "code",
   "execution_count": 59,
   "id": "17096467",
   "metadata": {},
   "outputs": [
    {
     "data": {
      "application/vnd.jupyter.widget-view+json": {
       "model_id": "affb2237fd714c67b2969fe60d3f0150",
       "version_major": 2,
       "version_minor": 0
      },
      "text/plain": [
       "  0%|          | 0/23 [00:00<?, ?it/s]"
      ]
     },
     "metadata": {},
     "output_type": "display_data"
    }
   ],
   "source": [
    "scores = []\n",
    "ns = range(30, 251, 10);\n",
    "for n in tqdm(ns):\n",
    "    y_pred = train_random_forest(n_estimators_=n)\n",
    "    scores.append((n, rmse(y_val, y_pred)))"
   ]
  },
  {
   "cell_type": "code",
   "execution_count": 60,
   "id": "fcfe5dfa",
   "metadata": {},
   "outputs": [
    {
     "data": {
      "text/html": [
       "<div>\n",
       "<style scoped>\n",
       "    .dataframe tbody tr th:only-of-type {\n",
       "        vertical-align: middle;\n",
       "    }\n",
       "\n",
       "    .dataframe tbody tr th {\n",
       "        vertical-align: top;\n",
       "    }\n",
       "\n",
       "    .dataframe thead th {\n",
       "        text-align: right;\n",
       "    }\n",
       "</style>\n",
       "<table border=\"1\" class=\"dataframe\">\n",
       "  <thead>\n",
       "    <tr style=\"text-align: right;\">\n",
       "      <th></th>\n",
       "      <th>n_estimators</th>\n",
       "      <th>rmse</th>\n",
       "    </tr>\n",
       "  </thead>\n",
       "  <tbody>\n",
       "    <tr>\n",
       "      <th>22</th>\n",
       "      <td>250</td>\n",
       "      <td>0.160971</td>\n",
       "    </tr>\n",
       "    <tr>\n",
       "      <th>14</th>\n",
       "      <td>170</td>\n",
       "      <td>0.160993</td>\n",
       "    </tr>\n",
       "    <tr>\n",
       "      <th>12</th>\n",
       "      <td>150</td>\n",
       "      <td>0.161001</td>\n",
       "    </tr>\n",
       "    <tr>\n",
       "      <th>15</th>\n",
       "      <td>180</td>\n",
       "      <td>0.161004</td>\n",
       "    </tr>\n",
       "    <tr>\n",
       "      <th>21</th>\n",
       "      <td>240</td>\n",
       "      <td>0.161016</td>\n",
       "    </tr>\n",
       "    <tr>\n",
       "      <th>13</th>\n",
       "      <td>160</td>\n",
       "      <td>0.161035</td>\n",
       "    </tr>\n",
       "    <tr>\n",
       "      <th>16</th>\n",
       "      <td>190</td>\n",
       "      <td>0.161057</td>\n",
       "    </tr>\n",
       "    <tr>\n",
       "      <th>20</th>\n",
       "      <td>230</td>\n",
       "      <td>0.161089</td>\n",
       "    </tr>\n",
       "    <tr>\n",
       "      <th>11</th>\n",
       "      <td>140</td>\n",
       "      <td>0.161106</td>\n",
       "    </tr>\n",
       "    <tr>\n",
       "      <th>19</th>\n",
       "      <td>220</td>\n",
       "      <td>0.161112</td>\n",
       "    </tr>\n",
       "    <tr>\n",
       "      <th>8</th>\n",
       "      <td>110</td>\n",
       "      <td>0.161120</td>\n",
       "    </tr>\n",
       "    <tr>\n",
       "      <th>17</th>\n",
       "      <td>200</td>\n",
       "      <td>0.161121</td>\n",
       "    </tr>\n",
       "    <tr>\n",
       "      <th>18</th>\n",
       "      <td>210</td>\n",
       "      <td>0.161126</td>\n",
       "    </tr>\n",
       "    <tr>\n",
       "      <th>9</th>\n",
       "      <td>120</td>\n",
       "      <td>0.161168</td>\n",
       "    </tr>\n",
       "    <tr>\n",
       "      <th>10</th>\n",
       "      <td>130</td>\n",
       "      <td>0.161172</td>\n",
       "    </tr>\n",
       "    <tr>\n",
       "      <th>7</th>\n",
       "      <td>100</td>\n",
       "      <td>0.161233</td>\n",
       "    </tr>\n",
       "    <tr>\n",
       "      <th>6</th>\n",
       "      <td>90</td>\n",
       "      <td>0.161270</td>\n",
       "    </tr>\n",
       "    <tr>\n",
       "      <th>5</th>\n",
       "      <td>80</td>\n",
       "      <td>0.161280</td>\n",
       "    </tr>\n",
       "    <tr>\n",
       "      <th>4</th>\n",
       "      <td>70</td>\n",
       "      <td>0.161336</td>\n",
       "    </tr>\n",
       "    <tr>\n",
       "      <th>3</th>\n",
       "      <td>60</td>\n",
       "      <td>0.161542</td>\n",
       "    </tr>\n",
       "    <tr>\n",
       "      <th>2</th>\n",
       "      <td>50</td>\n",
       "      <td>0.161706</td>\n",
       "    </tr>\n",
       "    <tr>\n",
       "      <th>1</th>\n",
       "      <td>40</td>\n",
       "      <td>0.162388</td>\n",
       "    </tr>\n",
       "    <tr>\n",
       "      <th>0</th>\n",
       "      <td>30</td>\n",
       "      <td>0.163056</td>\n",
       "    </tr>\n",
       "  </tbody>\n",
       "</table>\n",
       "</div>"
      ],
      "text/plain": [
       "    n_estimators      rmse\n",
       "22           250  0.160971\n",
       "14           170  0.160993\n",
       "12           150  0.161001\n",
       "15           180  0.161004\n",
       "21           240  0.161016\n",
       "13           160  0.161035\n",
       "16           190  0.161057\n",
       "20           230  0.161089\n",
       "11           140  0.161106\n",
       "19           220  0.161112\n",
       "8            110  0.161120\n",
       "17           200  0.161121\n",
       "18           210  0.161126\n",
       "9            120  0.161168\n",
       "10           130  0.161172\n",
       "7            100  0.161233\n",
       "6             90  0.161270\n",
       "5             80  0.161280\n",
       "4             70  0.161336\n",
       "3             60  0.161542\n",
       "2             50  0.161706\n",
       "1             40  0.162388\n",
       "0             30  0.163056"
      ]
     },
     "execution_count": 60,
     "metadata": {},
     "output_type": "execute_result"
    }
   ],
   "source": [
    "df_scores = pd.DataFrame(scores, columns=['n_estimators','rmse'])\n",
    "df_scores.sort_values('rmse')"
   ]
  },
  {
   "cell_type": "code",
   "execution_count": 61,
   "id": "32dfae26",
   "metadata": {},
   "outputs": [
    {
     "data": {
      "text/plain": [
       "[<matplotlib.lines.Line2D at 0x7f8b385eaa60>]"
      ]
     },
     "execution_count": 61,
     "metadata": {},
     "output_type": "execute_result"
    },
    {
     "data": {
      "image/png": "[encoded data removed]",
      "text/plain": [
       "<Figure size 432x288 with 1 Axes>"
      ]
     },
     "metadata": {
      "needs_background": "light"
     },
     "output_type": "display_data"
    }
   ],
   "source": [
    "plt.plot(df_scores.n_estimators, df_scores.rmse)"
   ]
  },
  {
   "cell_type": "markdown",
   "id": "786730a9",
   "metadata": {},
   "source": [
    "The rmse stabilizes around 150 estimators, we will play around this value. Next we need to choose the best max_depth"
   ]
  },
  {
   "cell_type": "code",
   "execution_count": 62,
   "id": "7fc582ad",
   "metadata": {},
   "outputs": [
    {
     "data": {
      "application/vnd.jupyter.widget-view+json": {
       "model_id": "e664261225b140349f8655bb3c6e4b1a",
       "version_major": 2,
       "version_minor": 0
      },
      "text/plain": [
       "  0%|          | 0/4 [00:00<?, ?it/s]"
      ]
     },
     "metadata": {},
     "output_type": "display_data"
    }
   ],
   "source": [
    "scores = []\n",
    "\n",
    "depths = range(20, 51, 10)\n",
    "estimators = [100, 125, 150, 175, 200]\n",
    "\n",
    "for d in tqdm(depths):\n",
    "    for n in estimators:\n",
    "        y_pred = train_random_forest(n_estimators_=n, max_depth_=d)       \n",
    "        scores.append((d, n, rmse(y_val, y_pred)))"
   ]
  },
  {
   "cell_type": "code",
   "execution_count": 63,
   "id": "eec6b6f4",
   "metadata": {},
   "outputs": [
    {
     "data": {
      "text/html": [
       "<div>\n",
       "<style scoped>\n",
       "    .dataframe tbody tr th:only-of-type {\n",
       "        vertical-align: middle;\n",
       "    }\n",
       "\n",
       "    .dataframe tbody tr th {\n",
       "        vertical-align: top;\n",
       "    }\n",
       "\n",
       "    .dataframe thead th {\n",
       "        text-align: right;\n",
       "    }\n",
       "</style>\n",
       "<table border=\"1\" class=\"dataframe\">\n",
       "  <thead>\n",
       "    <tr style=\"text-align: right;\">\n",
       "      <th></th>\n",
       "      <th>max_depth</th>\n",
       "      <th>n_estimators</th>\n",
       "      <th>rmse</th>\n",
       "    </tr>\n",
       "  </thead>\n",
       "  <tbody>\n",
       "    <tr>\n",
       "      <th>8</th>\n",
       "      <td>30</td>\n",
       "      <td>175</td>\n",
       "      <td>0.160866</td>\n",
       "    </tr>\n",
       "    <tr>\n",
       "      <th>7</th>\n",
       "      <td>30</td>\n",
       "      <td>150</td>\n",
       "      <td>0.160904</td>\n",
       "    </tr>\n",
       "    <tr>\n",
       "      <th>13</th>\n",
       "      <td>40</td>\n",
       "      <td>175</td>\n",
       "      <td>0.160977</td>\n",
       "    </tr>\n",
       "    <tr>\n",
       "      <th>9</th>\n",
       "      <td>30</td>\n",
       "      <td>200</td>\n",
       "      <td>0.160988</td>\n",
       "    </tr>\n",
       "    <tr>\n",
       "      <th>12</th>\n",
       "      <td>40</td>\n",
       "      <td>150</td>\n",
       "      <td>0.160989</td>\n",
       "    </tr>\n",
       "  </tbody>\n",
       "</table>\n",
       "</div>"
      ],
      "text/plain": [
       "    max_depth  n_estimators      rmse\n",
       "8          30           175  0.160866\n",
       "7          30           150  0.160904\n",
       "13         40           175  0.160977\n",
       "9          30           200  0.160988\n",
       "12         40           150  0.160989"
      ]
     },
     "execution_count": 63,
     "metadata": {},
     "output_type": "execute_result"
    }
   ],
   "source": [
    "columns = ['max_depth','n_estimators','rmse']\n",
    "df_scores = pd.DataFrame(scores, columns=columns)\n",
    "df_scores.sort_values('rmse').head()"
   ]
  },
  {
   "cell_type": "code",
   "execution_count": 64,
   "id": "e1ae10e4",
   "metadata": {},
   "outputs": [
    {
     "data": {
      "text/plain": [
       "<matplotlib.legend.Legend at 0x7f8b395faa90>"
      ]
     },
     "execution_count": 64,
     "metadata": {},
     "output_type": "execute_result"
    },
    {
     "data": {
      "image/png": "[encoded data removed]",
      "text/plain": [
       "<Figure size 432x288 with 1 Axes>"
      ]
     },
     "metadata": {
      "needs_background": "light"
     },
     "output_type": "display_data"
    }
   ],
   "source": [
    "for d in depths:\n",
    "    df_subset = df_scores[df_scores.max_depth == d]\n",
    "    plt.plot(df_subset.n_estimators, df_subset.rmse, label='max_depth=%d' % d)\n",
    "    \n",
    "plt.legend()  "
   ]
  },
  {
   "cell_type": "markdown",
   "id": "c3f90299",
   "metadata": {},
   "source": [
    "Looks like max_depth 30 and number of estimators 175 are the best settings. The difference is small thiugh. Nevertheless we will use these settings to choose the best min_samples_leaf parameter"
   ]
  },
  {
   "cell_type": "code",
   "execution_count": 65,
   "id": "5a1a87dd",
   "metadata": {},
   "outputs": [
    {
     "data": {
      "application/vnd.jupyter.widget-view+json": {
       "model_id": "5b7b7191d1464d02a01f3a8574310d27",
       "version_major": 2,
       "version_minor": 0
      },
      "text/plain": [
       "  0%|          | 0/5 [00:00<?, ?it/s]"
      ]
     },
     "metadata": {},
     "output_type": "display_data"
    }
   ],
   "source": [
    "scores = []\n",
    "\n",
    "n_estimators = 175\n",
    "max_depth = 30\n",
    "\n",
    "min_samples_leaf = [1,3,5,10,50]\n",
    "\n",
    "for s in tqdm(min_samples_leaf):    \n",
    "        y_pred = train_random_forest(n_estimators_=n_estimators, \n",
    "                                    max_depth_=max_depth, \n",
    "                                    min_samples_leaf_=s)       \n",
    "        scores.append((s, rmse(y_val, y_pred)))"
   ]
  },
  {
   "cell_type": "code",
   "execution_count": 66,
   "id": "aac9a762",
   "metadata": {},
   "outputs": [
    {
     "data": {
      "text/html": [
       "<div>\n",
       "<style scoped>\n",
       "    .dataframe tbody tr th:only-of-type {\n",
       "        vertical-align: middle;\n",
       "    }\n",
       "\n",
       "    .dataframe tbody tr th {\n",
       "        vertical-align: top;\n",
       "    }\n",
       "\n",
       "    .dataframe thead th {\n",
       "        text-align: right;\n",
       "    }\n",
       "</style>\n",
       "<table border=\"1\" class=\"dataframe\">\n",
       "  <thead>\n",
       "    <tr style=\"text-align: right;\">\n",
       "      <th></th>\n",
       "      <th>min_samples_leaf</th>\n",
       "      <th>rmse</th>\n",
       "    </tr>\n",
       "  </thead>\n",
       "  <tbody>\n",
       "    <tr>\n",
       "      <th>0</th>\n",
       "      <td>1</td>\n",
       "      <td>0.160866</td>\n",
       "    </tr>\n",
       "    <tr>\n",
       "      <th>1</th>\n",
       "      <td>3</td>\n",
       "      <td>0.168511</td>\n",
       "    </tr>\n",
       "    <tr>\n",
       "      <th>2</th>\n",
       "      <td>5</td>\n",
       "      <td>0.173950</td>\n",
       "    </tr>\n",
       "    <tr>\n",
       "      <th>3</th>\n",
       "      <td>10</td>\n",
       "      <td>0.182298</td>\n",
       "    </tr>\n",
       "    <tr>\n",
       "      <th>4</th>\n",
       "      <td>50</td>\n",
       "      <td>0.206347</td>\n",
       "    </tr>\n",
       "  </tbody>\n",
       "</table>\n",
       "</div>"
      ],
      "text/plain": [
       "   min_samples_leaf      rmse\n",
       "0                 1  0.160866\n",
       "1                 3  0.168511\n",
       "2                 5  0.173950\n",
       "3                10  0.182298\n",
       "4                50  0.206347"
      ]
     },
     "execution_count": 66,
     "metadata": {},
     "output_type": "execute_result"
    }
   ],
   "source": [
    "columns = ['min_samples_leaf','rmse']\n",
    "df_scores = pd.DataFrame(scores, columns=columns)\n",
    "df_scores.sort_values('rmse').head()"
   ]
  },
  {
   "cell_type": "code",
   "execution_count": 67,
   "id": "49270b78",
   "metadata": {},
   "outputs": [
    {
     "data": {
      "text/plain": [
       "[<matplotlib.lines.Line2D at 0x7f8b39d42d00>]"
      ]
     },
     "execution_count": 67,
     "metadata": {},
     "output_type": "execute_result"
    },
    {
     "data": {
      "image/png": "[encoded data removed]",
      "text/plain": [
       "<Figure size 432x288 with 1 Axes>"
      ]
     },
     "metadata": {
      "needs_background": "light"
     },
     "output_type": "display_data"
    }
   ],
   "source": [
    "plt.plot(df_scores.min_samples_leaf, df_scores.rmse)"
   ]
  },
  {
   "cell_type": "raw",
   "id": "ea7e869d",
   "metadata": {},
   "source": [
    "Here the best value is the default one. Let's train the final model"
   ]
  },
  {
   "cell_type": "code",
   "execution_count": 68,
   "id": "995d64ea",
   "metadata": {},
   "outputs": [
    {
     "data": {
      "text/plain": [
       "[('Ridge', 0.14829667746719716, 0.1435849993940705),\n",
       " ('Reg_tree', 0.1959388459647658, 0.15313221592567927),\n",
       " ('Rand_forest', 0.16086571793591492, 0.06344112546096634)]"
      ]
     },
     "execution_count": 68,
     "metadata": {},
     "output_type": "execute_result"
    }
   ],
   "source": [
    "model_rand_forest = RandomForestRegressor(n_estimators=175, max_depth=30, min_samples_leaf=1, random_state=42, n_jobs=4)\n",
    "model_rand_forest.fit(X_train, y_train)\n",
    "\n",
    "y_pred_rand_forest = model_rand_forest.predict(X_val)\n",
    "y_pred_rand_forest_train = model_rand_forest.predict(X_train)\n",
    "\n",
    "rmse_results.append(('Rand_forest', rmse(y_val, y_pred_rand_forest), rmse(y_train, y_pred_rand_forest_train)))\n",
    "rmse_results"
   ]
  },
  {
   "cell_type": "markdown",
   "id": "6d71bf73",
   "metadata": {},
   "source": [
    "The difference between rmse on validation and train is a bit high here"
   ]
  },
  {
   "cell_type": "markdown",
   "id": "bbedbf42",
   "metadata": {},
   "source": [
    "### 04.5 Training XGBoost\n",
    "\n",
    "The last model will train is gradient boosting"
   ]
  },
  {
   "cell_type": "code",
   "execution_count": 69,
   "id": "5d397fe9",
   "metadata": {},
   "outputs": [],
   "source": [
    "import xgboost as xgb"
   ]
  },
  {
   "cell_type": "code",
   "execution_count": 70,
   "id": "91982079",
   "metadata": {},
   "outputs": [],
   "source": [
    "features = dv.get_feature_names()\n",
    "dtrain = xgb.DMatrix(X_train, label=y_train, feature_names=features)\n",
    "dval = xgb.DMatrix(X_val, label=y_val, feature_names=features)"
   ]
  },
  {
   "cell_type": "code",
   "execution_count": 71,
   "id": "4ba25eaf",
   "metadata": {},
   "outputs": [],
   "source": [
    "def parse_xgb_output(output):\n",
    "    results = []\n",
    "    \n",
    "    for line in output.stdout.strip().split('\\n'):\n",
    "        it_line, train_line, val_line = line.split('\\t')\n",
    "        \n",
    "        it = int(it_line.strip('[]'))\n",
    "        train = float(train_line.split(':')[1])\n",
    "        val = float(val_line.split(':')[1])\n",
    "        \n",
    "        results.append((it, train, val))\n",
    "        columns = ['num_iter','train_sqerr','val_sqerr']\n",
    "        df_results  = pd.DataFrame(results,columns=columns)\n",
    "       \n",
    "    return df_results"
   ]
  },
  {
   "cell_type": "code",
   "execution_count": 72,
   "id": "508c1caa",
   "metadata": {},
   "outputs": [],
   "source": [
    "watchlist = [(dtrain,'train'),(dval,'val')]"
   ]
  },
  {
   "cell_type": "markdown",
   "id": "8f7f5311",
   "metadata": {},
   "source": [
    "We will train it with basic parameters"
   ]
  },
  {
   "cell_type": "code",
   "execution_count": 73,
   "id": "44917653",
   "metadata": {},
   "outputs": [],
   "source": [
    "scores = {}"
   ]
  },
  {
   "cell_type": "code",
   "execution_count": 74,
   "id": "ce2723cd",
   "metadata": {},
   "outputs": [],
   "source": [
    "%%capture output\n",
    "\n",
    "xgb_params = {\n",
    "    'eta': 0.3,\n",
    "    'max_depth': 6,\n",
    "    'min_child_weight': 1,\n",
    "    'objective':'reg:squarederror',\n",
    "    'nthread': 4,\n",
    "    'seed': 1,\n",
    "    'verbosity': 1\n",
    "}\n",
    "\n",
    "model = xgb.train(xgb_params, dtrain, evals=watchlist, verbose_eval=5, num_boost_round=50)"
   ]
  },
  {
   "cell_type": "code",
   "execution_count": 75,
   "id": "dd454fa8",
   "metadata": {},
   "outputs": [
    {
     "data": {
      "text/plain": [
       "'eta=0.3'"
      ]
     },
     "execution_count": 75,
     "metadata": {},
     "output_type": "execute_result"
    }
   ],
   "source": [
    "key = 'eta=%s' % (xgb_params['eta'])\n",
    "scores[key] = parse_xgb_output(output)\n",
    "key"
   ]
  },
  {
   "cell_type": "code",
   "execution_count": 76,
   "id": "de861468",
   "metadata": {},
   "outputs": [
    {
     "data": {
      "text/html": [
       "<div>\n",
       "<style scoped>\n",
       "    .dataframe tbody tr th:only-of-type {\n",
       "        vertical-align: middle;\n",
       "    }\n",
       "\n",
       "    .dataframe tbody tr th {\n",
       "        vertical-align: top;\n",
       "    }\n",
       "\n",
       "    .dataframe thead th {\n",
       "        text-align: right;\n",
       "    }\n",
       "</style>\n",
       "<table border=\"1\" class=\"dataframe\">\n",
       "  <thead>\n",
       "    <tr style=\"text-align: right;\">\n",
       "      <th></th>\n",
       "      <th>num_iter</th>\n",
       "      <th>train_sqerr</th>\n",
       "      <th>val_sqerr</th>\n",
       "    </tr>\n",
       "  </thead>\n",
       "  <tbody>\n",
       "    <tr>\n",
       "      <th>0</th>\n",
       "      <td>0</td>\n",
       "      <td>6.24801</td>\n",
       "      <td>6.24235</td>\n",
       "    </tr>\n",
       "    <tr>\n",
       "      <th>1</th>\n",
       "      <td>5</td>\n",
       "      <td>1.07286</td>\n",
       "      <td>1.07180</td>\n",
       "    </tr>\n",
       "    <tr>\n",
       "      <th>2</th>\n",
       "      <td>10</td>\n",
       "      <td>0.25381</td>\n",
       "      <td>0.25735</td>\n",
       "    </tr>\n",
       "    <tr>\n",
       "      <th>3</th>\n",
       "      <td>15</td>\n",
       "      <td>0.17368</td>\n",
       "      <td>0.18043</td>\n",
       "    </tr>\n",
       "    <tr>\n",
       "      <th>4</th>\n",
       "      <td>20</td>\n",
       "      <td>0.16664</td>\n",
       "      <td>0.17455</td>\n",
       "    </tr>\n",
       "    <tr>\n",
       "      <th>5</th>\n",
       "      <td>25</td>\n",
       "      <td>0.16298</td>\n",
       "      <td>0.17169</td>\n",
       "    </tr>\n",
       "    <tr>\n",
       "      <th>6</th>\n",
       "      <td>30</td>\n",
       "      <td>0.15993</td>\n",
       "      <td>0.16948</td>\n",
       "    </tr>\n",
       "    <tr>\n",
       "      <th>7</th>\n",
       "      <td>35</td>\n",
       "      <td>0.15768</td>\n",
       "      <td>0.16779</td>\n",
       "    </tr>\n",
       "    <tr>\n",
       "      <th>8</th>\n",
       "      <td>40</td>\n",
       "      <td>0.15541</td>\n",
       "      <td>0.16650</td>\n",
       "    </tr>\n",
       "    <tr>\n",
       "      <th>9</th>\n",
       "      <td>45</td>\n",
       "      <td>0.15314</td>\n",
       "      <td>0.16480</td>\n",
       "    </tr>\n",
       "    <tr>\n",
       "      <th>10</th>\n",
       "      <td>49</td>\n",
       "      <td>0.15191</td>\n",
       "      <td>0.16405</td>\n",
       "    </tr>\n",
       "  </tbody>\n",
       "</table>\n",
       "</div>"
      ],
      "text/plain": [
       "    num_iter  train_sqerr  val_sqerr\n",
       "0          0      6.24801    6.24235\n",
       "1          5      1.07286    1.07180\n",
       "2         10      0.25381    0.25735\n",
       "3         15      0.17368    0.18043\n",
       "4         20      0.16664    0.17455\n",
       "5         25      0.16298    0.17169\n",
       "6         30      0.15993    0.16948\n",
       "7         35      0.15768    0.16779\n",
       "8         40      0.15541    0.16650\n",
       "9         45      0.15314    0.16480\n",
       "10        49      0.15191    0.16405"
      ]
     },
     "execution_count": 76,
     "metadata": {},
     "output_type": "execute_result"
    }
   ],
   "source": [
    "scores['eta=0.3']"
   ]
  },
  {
   "cell_type": "code",
   "execution_count": 77,
   "id": "f6775edb",
   "metadata": {},
   "outputs": [],
   "source": [
    "df_score = scores['eta=0.3']"
   ]
  },
  {
   "cell_type": "code",
   "execution_count": 78,
   "id": "bffb54c0",
   "metadata": {},
   "outputs": [
    {
     "data": {
      "text/plain": [
       "<matplotlib.legend.Legend at 0x7f8b39a888e0>"
      ]
     },
     "execution_count": 78,
     "metadata": {},
     "output_type": "execute_result"
    },
    {
     "data": {
      "image/png": "[encoded data removed]",
      "text/plain": [
       "<Figure size 432x288 with 1 Axes>"
      ]
     },
     "metadata": {
      "needs_background": "light"
     },
     "output_type": "display_data"
    }
   ],
   "source": [
    "plt.plot(df_score.num_iter, df_score.train_sqerr, label='train')\n",
    "plt.plot(df_score.num_iter, df_score.val_sqerr, label='val')\n",
    "plt.legend()"
   ]
  },
  {
   "cell_type": "markdown",
   "id": "a494de2e",
   "metadata": {
    "tags": []
   },
   "source": [
    "We are going to use num_boost_round = 15 and train with different eta params"
   ]
  },
  {
   "cell_type": "code",
   "execution_count": 79,
   "id": "7ec7adf1",
   "metadata": {},
   "outputs": [],
   "source": [
    "scores = {}"
   ]
  },
  {
   "cell_type": "code",
   "execution_count": 80,
   "id": "d19821fa",
   "metadata": {},
   "outputs": [],
   "source": [
    "%%capture output\n",
    "\n",
    "xgb_params = {\n",
    "    'eta': 0.01, \n",
    "    'max_depth': 6,\n",
    "    'min_child_weight': 1,\n",
    "    \n",
    "    'objective': 'reg:squarederror',\n",
    "    'nthread': 4,\n",
    "    \n",
    "    'seed': 1,\n",
    "    'verbosity': 1,\n",
    "}\n",
    "\n",
    "model = xgb.train(xgb_params, dtrain, evals=watchlist, verbose_eval=5, num_boost_round=15)"
   ]
  },
  {
   "cell_type": "code",
   "execution_count": 81,
   "id": "db68364d",
   "metadata": {},
   "outputs": [
    {
     "data": {
      "text/plain": [
       "'eta=0.01'"
      ]
     },
     "execution_count": 81,
     "metadata": {},
     "output_type": "execute_result"
    }
   ],
   "source": [
    "key = 'eta=%s' % (xgb_params['eta'])\n",
    "scores[key] = parse_xgb_output(output)\n",
    "key"
   ]
  },
  {
   "cell_type": "code",
   "execution_count": 82,
   "id": "9532a0e0",
   "metadata": {},
   "outputs": [],
   "source": [
    "%%capture output\n",
    "\n",
    "xgb_params = {\n",
    "    'eta': 0.1, \n",
    "    'max_depth': 6,\n",
    "    'min_child_weight': 1,\n",
    "    \n",
    "    'objective': 'reg:squarederror',\n",
    "    'nthread': 4,\n",
    "    \n",
    "    'seed': 1,\n",
    "    'verbosity': 1,\n",
    "}\n",
    "\n",
    "model = xgb.train(xgb_params, dtrain, evals=watchlist, verbose_eval=5, num_boost_round=15)"
   ]
  },
  {
   "cell_type": "code",
   "execution_count": 83,
   "id": "fc01e26f",
   "metadata": {},
   "outputs": [
    {
     "data": {
      "text/plain": [
       "'eta=0.1'"
      ]
     },
     "execution_count": 83,
     "metadata": {},
     "output_type": "execute_result"
    }
   ],
   "source": [
    "key = 'eta=%s' % (xgb_params['eta'])\n",
    "scores[key] = parse_xgb_output(output)\n",
    "key"
   ]
  },
  {
   "cell_type": "code",
   "execution_count": 84,
   "id": "b2fa4619",
   "metadata": {},
   "outputs": [],
   "source": [
    "%%capture output\n",
    "\n",
    "xgb_params = {\n",
    "    'eta': 1, \n",
    "    'max_depth': 6,\n",
    "    'min_child_weight': 1,\n",
    "    \n",
    "    'objective': 'reg:squarederror',\n",
    "    'nthread': 4,\n",
    "    \n",
    "    'seed': 1,\n",
    "    'verbosity': 1,\n",
    "}\n",
    "\n",
    "model = xgb.train(xgb_params, dtrain, evals=watchlist, verbose_eval=5, num_boost_round=15)"
   ]
  },
  {
   "cell_type": "code",
   "execution_count": 85,
   "id": "43cad142",
   "metadata": {},
   "outputs": [
    {
     "data": {
      "text/plain": [
       "'eta=1'"
      ]
     },
     "execution_count": 85,
     "metadata": {},
     "output_type": "execute_result"
    }
   ],
   "source": [
    "key = 'eta=%s' % (xgb_params['eta'])\n",
    "scores[key] = parse_xgb_output(output)\n",
    "key"
   ]
  },
  {
   "cell_type": "code",
   "execution_count": 86,
   "id": "c06cf66e",
   "metadata": {},
   "outputs": [],
   "source": [
    "%%capture output\n",
    "\n",
    "xgb_params = {\n",
    "    'eta': 2, \n",
    "    'max_depth': 6,\n",
    "    'min_child_weight': 1,\n",
    "    \n",
    "    'objective': 'reg:squarederror',\n",
    "    'nthread': 4,\n",
    "    \n",
    "    'seed': 1,\n",
    "    'verbosity': 1,\n",
    "}\n",
    "\n",
    "model = xgb.train(xgb_params, dtrain, evals=watchlist, verbose_eval=5, num_boost_round=15)"
   ]
  },
  {
   "cell_type": "code",
   "execution_count": 87,
   "id": "b0c5f6cc",
   "metadata": {},
   "outputs": [
    {
     "data": {
      "text/plain": [
       "'eta=2'"
      ]
     },
     "execution_count": 87,
     "metadata": {},
     "output_type": "execute_result"
    }
   ],
   "source": [
    "key = 'eta=%s' % (xgb_params['eta'])\n",
    "scores[key] = parse_xgb_output(output)\n",
    "key"
   ]
  },
  {
   "cell_type": "code",
   "execution_count": 88,
   "id": "dd48d969",
   "metadata": {},
   "outputs": [
    {
     "data": {
      "text/plain": [
       "<matplotlib.legend.Legend at 0x7f8b399f5a30>"
      ]
     },
     "execution_count": 88,
     "metadata": {},
     "output_type": "execute_result"
    },
    {
     "data": {
      "image/png": "[encoded data removed]",
      "text/plain": [
       "<Figure size 432x288 with 1 Axes>"
      ]
     },
     "metadata": {
      "needs_background": "light"
     },
     "output_type": "display_data"
    }
   ],
   "source": [
    "for key, df_scores in scores.items():\n",
    "    plt.plot(df_scores.num_iter, df_scores.val_sqerr, label=key)\n",
    "plt.legend()"
   ]
  },
  {
   "cell_type": "markdown",
   "id": "06e1b22e",
   "metadata": {},
   "source": [
    "Eta=1 looks the best. Now lets try different max_depth "
   ]
  },
  {
   "cell_type": "code",
   "execution_count": 89,
   "id": "ba412ca2",
   "metadata": {},
   "outputs": [],
   "source": [
    "scores = {}"
   ]
  },
  {
   "cell_type": "code",
   "execution_count": 90,
   "id": "6caf4464",
   "metadata": {},
   "outputs": [],
   "source": [
    "%%capture output\n",
    "\n",
    "xgb_params = {\n",
    "    'eta': 1, \n",
    "    'max_depth': 3,\n",
    "    'min_child_weight': 1,\n",
    "    \n",
    "    'objective': 'reg:squarederror',\n",
    "    'nthread': 4,\n",
    "    \n",
    "    'seed': 1,\n",
    "    'verbosity': 1,\n",
    "}\n",
    "\n",
    "model = xgb.train(xgb_params, dtrain, evals=watchlist, verbose_eval=5, num_boost_round=15)"
   ]
  },
  {
   "cell_type": "code",
   "execution_count": 91,
   "id": "8cea4930",
   "metadata": {},
   "outputs": [
    {
     "data": {
      "text/plain": [
       "'max_depth=3'"
      ]
     },
     "execution_count": 91,
     "metadata": {},
     "output_type": "execute_result"
    }
   ],
   "source": [
    "key = 'max_depth=%s' % (xgb_params['max_depth'])\n",
    "scores[key] = parse_xgb_output(output)\n",
    "key"
   ]
  },
  {
   "cell_type": "code",
   "execution_count": 92,
   "id": "83dd0527",
   "metadata": {},
   "outputs": [],
   "source": [
    "%%capture output\n",
    "\n",
    "xgb_params = {\n",
    "    'eta': 1, \n",
    "    'max_depth': 6,\n",
    "    'min_child_weight': 1,\n",
    "    \n",
    "    'objective': 'reg:squarederror',\n",
    "    'nthread': 4,\n",
    "    \n",
    "    'seed': 1,\n",
    "    'verbosity': 1,\n",
    "}\n",
    "\n",
    "model = xgb.train(xgb_params, dtrain, evals=watchlist, verbose_eval=5, num_boost_round=15)"
   ]
  },
  {
   "cell_type": "code",
   "execution_count": 93,
   "id": "5208d909",
   "metadata": {},
   "outputs": [
    {
     "data": {
      "text/plain": [
       "'max_depth=6'"
      ]
     },
     "execution_count": 93,
     "metadata": {},
     "output_type": "execute_result"
    }
   ],
   "source": [
    "key = 'max_depth=%s' % (xgb_params['max_depth'])\n",
    "scores[key] = parse_xgb_output(output)\n",
    "key"
   ]
  },
  {
   "cell_type": "code",
   "execution_count": 94,
   "id": "0972bd91",
   "metadata": {},
   "outputs": [],
   "source": [
    "%%capture output\n",
    "\n",
    "xgb_params = {\n",
    "    'eta': 1, \n",
    "    'max_depth': 10,\n",
    "    'min_child_weight': 1,\n",
    "    \n",
    "    'objective': 'reg:squarederror',\n",
    "    'nthread': 4,\n",
    "    \n",
    "    'seed': 1,\n",
    "    'verbosity': 1,\n",
    "}\n",
    "\n",
    "model = xgb.train(xgb_params, dtrain, evals=watchlist, verbose_eval=5, num_boost_round=15)"
   ]
  },
  {
   "cell_type": "code",
   "execution_count": 95,
   "id": "9b26dc44",
   "metadata": {},
   "outputs": [
    {
     "data": {
      "text/plain": [
       "'max_depth=10'"
      ]
     },
     "execution_count": 95,
     "metadata": {},
     "output_type": "execute_result"
    }
   ],
   "source": [
    "key = 'max_depth=%s' % (xgb_params['max_depth'])\n",
    "scores[key] = parse_xgb_output(output)\n",
    "key"
   ]
  },
  {
   "cell_type": "code",
   "execution_count": 96,
   "id": "40f4a7b8",
   "metadata": {},
   "outputs": [],
   "source": [
    "%%capture output\n",
    "\n",
    "xgb_params = {\n",
    "    'eta': 1, \n",
    "    'max_depth': 15,\n",
    "    'min_child_weight': 1,\n",
    "    \n",
    "    'objective': 'reg:squarederror',\n",
    "    'nthread': 4,\n",
    "    \n",
    "    'seed': 1,\n",
    "    'verbosity': 1,\n",
    "}\n",
    "\n",
    "model = xgb.train(xgb_params, dtrain, evals=watchlist, verbose_eval=5, num_boost_round=15)"
   ]
  },
  {
   "cell_type": "code",
   "execution_count": 97,
   "id": "d1b622c8",
   "metadata": {},
   "outputs": [
    {
     "data": {
      "text/plain": [
       "'max_depth=15'"
      ]
     },
     "execution_count": 97,
     "metadata": {},
     "output_type": "execute_result"
    }
   ],
   "source": [
    "key = 'max_depth=%s' % (xgb_params['max_depth'])\n",
    "scores[key] = parse_xgb_output(output)\n",
    "key"
   ]
  },
  {
   "cell_type": "code",
   "execution_count": 98,
   "id": "ff690e13",
   "metadata": {},
   "outputs": [],
   "source": [
    "%%capture output\n",
    "\n",
    "xgb_params = {\n",
    "    'eta': 1, \n",
    "    'max_depth': 20,\n",
    "    'min_child_weight': 1,\n",
    "    \n",
    "    'objective': 'reg:squarederror',\n",
    "    'nthread': 4,\n",
    "    \n",
    "    'seed': 1,\n",
    "    'verbosity': 1,\n",
    "}\n",
    "\n",
    "model = xgb.train(xgb_params, dtrain, evals=watchlist, verbose_eval=5, num_boost_round=15)"
   ]
  },
  {
   "cell_type": "code",
   "execution_count": 99,
   "id": "657989df",
   "metadata": {},
   "outputs": [
    {
     "data": {
      "text/plain": [
       "'max_depth=20'"
      ]
     },
     "execution_count": 99,
     "metadata": {},
     "output_type": "execute_result"
    }
   ],
   "source": [
    "key = 'max_depth=%s' % (xgb_params['max_depth'])\n",
    "scores[key] = parse_xgb_output(output)\n",
    "key"
   ]
  },
  {
   "cell_type": "code",
   "execution_count": 100,
   "id": "49714499",
   "metadata": {},
   "outputs": [
    {
     "data": {
      "text/plain": [
       "<matplotlib.legend.Legend at 0x7f8b399e4970>"
      ]
     },
     "execution_count": 100,
     "metadata": {},
     "output_type": "execute_result"
    },
    {
     "data": {
      "image/png": "[encoded data removed]",
      "text/plain": [
       "<Figure size 432x288 with 1 Axes>"
      ]
     },
     "metadata": {
      "needs_background": "light"
     },
     "output_type": "display_data"
    }
   ],
   "source": [
    "for key, df_scores in scores.items():\n",
    "    #plt.plot(df_score.num_iter, df_score.train_auc, label='train')\n",
    "    plt.plot(df_scores.num_iter, df_scores.val_sqerr, label=key)\n",
    "plt.legend()"
   ]
  },
  {
   "cell_type": "markdown",
   "id": "87123205",
   "metadata": {},
   "source": [
    "Max depth = 15 looks the best here. The last parameter we try to tune is min_child_weight"
   ]
  },
  {
   "cell_type": "code",
   "execution_count": 101,
   "id": "7f18ab2c",
   "metadata": {},
   "outputs": [],
   "source": [
    "scores = {}"
   ]
  },
  {
   "cell_type": "code",
   "execution_count": 102,
   "id": "60e52ab0",
   "metadata": {},
   "outputs": [],
   "source": [
    "%%capture output\n",
    "\n",
    "xgb_params = {\n",
    "    'eta': 1, \n",
    "    'max_depth': 15,\n",
    "    'min_child_weight': 1,\n",
    "    \n",
    "    'objective': 'reg:squarederror',\n",
    "    'nthread': 4,\n",
    "    \n",
    "    'seed': 1,\n",
    "    'verbosity': 1,\n",
    "}\n",
    "\n",
    "model = xgb.train(xgb_params, dtrain, evals=watchlist, verbose_eval=5, num_boost_round=15)"
   ]
  },
  {
   "cell_type": "code",
   "execution_count": 103,
   "id": "b95b4bc5",
   "metadata": {},
   "outputs": [
    {
     "data": {
      "text/plain": [
       "'min_child_weight=1'"
      ]
     },
     "execution_count": 103,
     "metadata": {},
     "output_type": "execute_result"
    }
   ],
   "source": [
    "key = 'min_child_weight=%s' % (xgb_params['min_child_weight'])\n",
    "scores[key] = parse_xgb_output(output)\n",
    "key"
   ]
  },
  {
   "cell_type": "code",
   "execution_count": 104,
   "id": "e9760a7f",
   "metadata": {},
   "outputs": [],
   "source": [
    "%%capture output\n",
    "\n",
    "xgb_params = {\n",
    "    'eta': 1, \n",
    "    'max_depth': 15,\n",
    "    'min_child_weight': 5,\n",
    "    \n",
    "    'objective': 'reg:squarederror',\n",
    "    'nthread': 4,\n",
    "    \n",
    "    'seed': 1,\n",
    "    'verbosity': 1,\n",
    "}\n",
    "\n",
    "model = xgb.train(xgb_params, dtrain, evals=watchlist, verbose_eval=5, num_boost_round=15)"
   ]
  },
  {
   "cell_type": "code",
   "execution_count": 105,
   "id": "7e79e481",
   "metadata": {},
   "outputs": [
    {
     "data": {
      "text/plain": [
       "'min_child_weight=5'"
      ]
     },
     "execution_count": 105,
     "metadata": {},
     "output_type": "execute_result"
    }
   ],
   "source": [
    "key = 'min_child_weight=%s' % (xgb_params['min_child_weight'])\n",
    "scores[key] = parse_xgb_output(output)\n",
    "key"
   ]
  },
  {
   "cell_type": "code",
   "execution_count": 106,
   "id": "ed8d00b1",
   "metadata": {},
   "outputs": [],
   "source": [
    "%%capture output\n",
    "\n",
    "xgb_params = {\n",
    "    'eta': 1, \n",
    "    'max_depth': 15,\n",
    "    'min_child_weight': 10,\n",
    "    \n",
    "    'objective': 'reg:squarederror',\n",
    "    'nthread': 4,\n",
    "    \n",
    "    'seed': 1,\n",
    "    'verbosity': 1,\n",
    "}\n",
    "\n",
    "model = xgb.train(xgb_params, dtrain, evals=watchlist, verbose_eval=5, num_boost_round=15)"
   ]
  },
  {
   "cell_type": "code",
   "execution_count": 107,
   "id": "820212d8",
   "metadata": {},
   "outputs": [
    {
     "data": {
      "text/plain": [
       "'min_child_weight=10'"
      ]
     },
     "execution_count": 107,
     "metadata": {},
     "output_type": "execute_result"
    }
   ],
   "source": [
    "key = 'min_child_weight=%s' % (xgb_params['min_child_weight'])\n",
    "scores[key] = parse_xgb_output(output)\n",
    "key"
   ]
  },
  {
   "cell_type": "code",
   "execution_count": 108,
   "id": "dcb05275",
   "metadata": {},
   "outputs": [],
   "source": [
    "%%capture output\n",
    "\n",
    "xgb_params = {\n",
    "    'eta': 1, \n",
    "    'max_depth': 15,\n",
    "    'min_child_weight': 30,\n",
    "    \n",
    "    'objective': 'reg:squarederror',\n",
    "    'nthread': 4,\n",
    "    \n",
    "    'seed': 1,\n",
    "    'verbosity': 1,\n",
    "}\n",
    "\n",
    "model = xgb.train(xgb_params, dtrain, evals=watchlist, verbose_eval=5, num_boost_round=15)"
   ]
  },
  {
   "cell_type": "code",
   "execution_count": 109,
   "id": "39f57806",
   "metadata": {},
   "outputs": [
    {
     "data": {
      "text/plain": [
       "'min_child_weight=30'"
      ]
     },
     "execution_count": 109,
     "metadata": {},
     "output_type": "execute_result"
    }
   ],
   "source": [
    "key = 'min_child_weight=%s' % (xgb_params['min_child_weight'])\n",
    "scores[key] = parse_xgb_output(output)\n",
    "key"
   ]
  },
  {
   "cell_type": "code",
   "execution_count": 110,
   "id": "1c92c896",
   "metadata": {},
   "outputs": [
    {
     "data": {
      "text/plain": [
       "<matplotlib.legend.Legend at 0x7f8b399e04c0>"
      ]
     },
     "execution_count": 110,
     "metadata": {},
     "output_type": "execute_result"
    },
    {
     "data": {
      "image/png": "[encoded data removed]",
      "text/plain": [
       "<Figure size 432x288 with 1 Axes>"
      ]
     },
     "metadata": {
      "needs_background": "light"
     },
     "output_type": "display_data"
    }
   ],
   "source": [
    "for key, df_scores in scores.items():\n",
    "    plt.plot(df_scores.num_iter, df_scores.val_sqerr, label=key)\n",
    "plt.ylim(0.17, 0.19)   \n",
    "plt.legend()"
   ]
  },
  {
   "cell_type": "markdown",
   "id": "04af9022",
   "metadata": {},
   "source": [
    "Min weight 30 gives slightly better results. Let's train final model"
   ]
  },
  {
   "cell_type": "code",
   "execution_count": 111,
   "id": "12408239",
   "metadata": {},
   "outputs": [],
   "source": [
    "%%capture output\n",
    "\n",
    "xgb_params = {\n",
    "    'eta': 1, \n",
    "    'max_depth': 15,\n",
    "    'min_child_weight': 30,\n",
    "    \n",
    "    'objective': 'reg:squarederror',\n",
    "    'nthread': 4,\n",
    "    \n",
    "    'seed': 1,\n",
    "    'verbosity': 1,\n",
    "}\n",
    "\n",
    "model_xgb = xgb.train(xgb_params, dtrain, evals=watchlist, verbose_eval=5, num_boost_round=15)"
   ]
  },
  {
   "cell_type": "code",
   "execution_count": 112,
   "id": "129dc240",
   "metadata": {},
   "outputs": [
    {
     "data": {
      "text/plain": [
       "[('Ridge', 0.14829667746719716, 0.1435849993940705),\n",
       " ('Reg_tree', 0.1959388459647658, 0.15313221592567927),\n",
       " ('Rand_forest', 0.16086571793591492, 0.06344112546096634),\n",
       " ('XGBoost', 0.1754617150543563, 0.1460123376882078)]"
      ]
     },
     "execution_count": 112,
     "metadata": {},
     "output_type": "execute_result"
    }
   ],
   "source": [
    "y_pred_xgboost = model_xgb.predict(dval)\n",
    "y_pred_xgboost_train = model_xgb.predict(dtrain)\n",
    "\n",
    "rmse_results.append(('XGBoost', rmse(y_val, y_pred_xgboost), rmse(y_train, y_pred_xgboost_train)))\n",
    "rmse_results"
   ]
  },
  {
   "cell_type": "markdown",
   "id": "afd065ca",
   "metadata": {},
   "source": [
    "### 04.6 Choosing The Best Model"
   ]
  },
  {
   "cell_type": "code",
   "execution_count": 113,
   "id": "e70cb363",
   "metadata": {},
   "outputs": [
    {
     "data": {
      "text/plain": [
       "[('Ridge', 0.14829667746719716, 0.1435849993940705),\n",
       " ('Reg_tree', 0.1959388459647658, 0.15313221592567927),\n",
       " ('Rand_forest', 0.16086571793591492, 0.06344112546096634),\n",
       " ('XGBoost', 0.1754617150543563, 0.1460123376882078)]"
      ]
     },
     "execution_count": 113,
     "metadata": {},
     "output_type": "execute_result"
    }
   ],
   "source": [
    "rmse_results"
   ]
  },
  {
   "cell_type": "markdown",
   "id": "d2f09938",
   "metadata": {},
   "source": [
    "Based on the results it looks like Ridge model works best for this dataset. Next we are going to train on full train dataset and test against test dataset"
   ]
  },
  {
   "cell_type": "markdown",
   "id": "6e9b66c1",
   "metadata": {},
   "source": [
    "### 04.7 Testing The Best Model"
   ]
  },
  {
   "cell_type": "code",
   "execution_count": 115,
   "id": "5b2337fd",
   "metadata": {},
   "outputs": [
    {
     "data": {
      "text/plain": [
       "((34572, 790), (8643, 790), (34572,))"
      ]
     },
     "execution_count": 115,
     "metadata": {},
     "output_type": "execute_result"
    }
   ],
   "source": [
    "numerical = ['mileage', 'hp', 'year', 'age']\n",
    "categorical = ['make', 'model', 'fuel', 'gear']\n",
    "\n",
    "dv = DictVectorizer(sparse=False) \n",
    "\n",
    "train_dicts = df_full_train[numerical + categorical].to_dict(orient='records') \n",
    "X_full_train = dv.fit_transform(train_dicts)\n",
    "\n",
    "test_dicts = df_test[numerical + categorical].to_dict(orient='records')\n",
    "X_test = dv.transform(test_dicts)\n",
    "\n",
    "X_full_train.shape, X_test.shape, y_full_train.shape"
   ]
  },
  {
   "cell_type": "code",
   "execution_count": 116,
   "id": "7cd32717",
   "metadata": {},
   "outputs": [],
   "source": [
    "model = Ridge(alpha=1, random_state=42, normalize=False)\n",
    "model.fit(X_full_train, y_full_train)\n",
    "\n",
    "y_pred_full_train = model.predict(X_full_train)\n",
    "y_pred = model.predict(X_test)"
   ]
  },
  {
   "cell_type": "code",
   "execution_count": 117,
   "id": "d8712849",
   "metadata": {},
   "outputs": [
    {
     "data": {
      "text/plain": [
       "(0.14373939609989025, 0.14732279084013022)"
      ]
     },
     "execution_count": 117,
     "metadata": {},
     "output_type": "execute_result"
    }
   ],
   "source": [
    "rmse(y_full_train, y_pred_full_train), rmse(y_test, y_pred)"
   ]
  },
  {
   "cell_type": "markdown",
   "id": "7057fae3",
   "metadata": {},
   "source": [
    "The rmse is consistent, we can save this model in order to use it in our app"
   ]
  },
  {
   "cell_type": "markdown",
   "id": "9152513a",
   "metadata": {
    "tags": []
   },
   "source": [
    "## 05 Saving the model"
   ]
  },
  {
   "cell_type": "code",
   "execution_count": 118,
   "id": "300d9c4a",
   "metadata": {},
   "outputs": [],
   "source": [
    "import pickle"
   ]
  },
  {
   "cell_type": "code",
   "execution_count": 119,
   "id": "5c15bf2a",
   "metadata": {},
   "outputs": [
    {
     "data": {
      "text/plain": [
       "'model.bin'"
      ]
     },
     "execution_count": 119,
     "metadata": {},
     "output_type": "execute_result"
    }
   ],
   "source": [
    "output_file = 'model.bin'\n",
    "output_file"
   ]
  },
  {
   "cell_type": "code",
   "execution_count": 120,
   "id": "2534787f",
   "metadata": {},
   "outputs": [],
   "source": [
    "with open(output_file, 'wb') as f_out:\n",
    "    pickle.dump((dv, model), f_out)"
   ]
  }
 ],
 "metadata": {
  "kernelspec": {
   "display_name": "Python 3",
   "language": "python",
   "name": "python3"
  },
  "language_info": {
   "codemirror_mode": {
    "name": "ipython",
    "version": 3
   },
   "file_extension": ".py",
   "mimetype": "text/x-python",
   "name": "python",
   "nbconvert_exporter": "python",
   "pygments_lexer": "ipython3",
   "version": "3.8.8"
  }
 },
 "nbformat": 4,
 "nbformat_minor": 5
}
