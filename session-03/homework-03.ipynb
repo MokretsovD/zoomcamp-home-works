{
 "cells": [
  {
   "cell_type": "markdown",
   "id": "51fc656d-ad16-46ba-a34c-7ba037ad3cd1",
   "metadata": {},
   "source": [
    "# __Homework-03 ML for classification__\n",
    "\n",
    "### __Features__  \n",
    "\n",
    "For the rest of the homework, you'll need to use the features from the previous homework  with additional two 'neighbourhood_group' and 'room_type'. So the whole feature set will be   set as follows:  \n",
    "  \n",
    "'neighbourhood_group',  \n",
    "'room_type',  \n",
    "'latitude',  \n",
    "'longitude',  \n",
    "'price',  \n",
    "'minimum_nights',  \n",
    "'number_of_reviews',  \n",
    "'reviews_per_month',  \n",
    "'calculated_host_listings_count',  \n",
    "'availability_365'  \n",
    "Select only them and fill in the missing values with 0.  "
   ]
  },
  {
   "cell_type": "code",
   "execution_count": 1,
   "id": "9e28b866-addd-4577-ba16-fe5c3402ca56",
   "metadata": {},
   "outputs": [],
   "source": [
    "import pandas as pd\n",
    "import numpy as np\n",
    "\n",
    "import matplotlib.pyplot as plt"
   ]
  },
  {
   "cell_type": "markdown",
   "id": "f3dbe881-7e57-43bd-9ae1-eae140910723",
   "metadata": {},
   "source": [
    "*__Data preparation__*"
   ]
  },
  {
   "cell_type": "code",
   "execution_count": 2,
   "id": "fa3d000e-58fd-493c-afe2-4db755e0026c",
   "metadata": {},
   "outputs": [],
   "source": [
    "data = 'https://raw.githubusercontent.com/alexeygrigorev/datasets/master/AB_NYC_2019.csv'"
   ]
  },
  {
   "cell_type": "code",
   "execution_count": 3,
   "id": "2e144adc-dad5-4b5c-950a-71f2d958f873",
   "metadata": {},
   "outputs": [
    {
     "name": "stdout",
     "output_type": "stream",
     "text": [
      "--2021-09-25 18:48:38--  https://raw.githubusercontent.com/alexeygrigorev/datasets/master/AB_NYC_2019.csv\n",
      "Resolving raw.githubusercontent.com (raw.githubusercontent.com)... 185.199.108.133, 185.199.109.133, 185.199.110.133, ...\n",
      "Connecting to raw.githubusercontent.com (raw.githubusercontent.com)|185.199.108.133|:443... connected.\n",
      "HTTP request sent, awaiting response... 200 OK\n",
      "Length: 7077973 (6.8M) [text/plain]\n",
      "Saving to: ‘AB_NYC_2019.csv’\n",
      "\n",
      "AB_NYC_2019.csv     100%[===================>]   6.75M  12.3MB/s    in 0.6s    \n",
      "\n",
      "2021-09-25 18:48:39 (12.3 MB/s) - ‘AB_NYC_2019.csv’ saved [7077973/7077973]\n",
      "\n"
     ]
    }
   ],
   "source": [
    "!wget $data -O AB_NYC_2019.csv"
   ]
  },
  {
   "cell_type": "code",
   "execution_count": 4,
   "id": "aca41a30-ef34-447d-a114-11a42bf4b1be",
   "metadata": {},
   "outputs": [
    {
     "data": {
      "text/html": [
       "<div>\n",
       "<style scoped>\n",
       "    .dataframe tbody tr th:only-of-type {\n",
       "        vertical-align: middle;\n",
       "    }\n",
       "\n",
       "    .dataframe tbody tr th {\n",
       "        vertical-align: top;\n",
       "    }\n",
       "\n",
       "    .dataframe thead th {\n",
       "        text-align: right;\n",
       "    }\n",
       "</style>\n",
       "<table border=\"1\" class=\"dataframe\">\n",
       "  <thead>\n",
       "    <tr style=\"text-align: right;\">\n",
       "      <th></th>\n",
       "      <th>id</th>\n",
       "      <th>name</th>\n",
       "      <th>host_id</th>\n",
       "      <th>host_name</th>\n",
       "      <th>neighbourhood_group</th>\n",
       "      <th>neighbourhood</th>\n",
       "      <th>latitude</th>\n",
       "      <th>longitude</th>\n",
       "      <th>room_type</th>\n",
       "      <th>price</th>\n",
       "      <th>minimum_nights</th>\n",
       "      <th>number_of_reviews</th>\n",
       "      <th>last_review</th>\n",
       "      <th>reviews_per_month</th>\n",
       "      <th>calculated_host_listings_count</th>\n",
       "      <th>availability_365</th>\n",
       "    </tr>\n",
       "  </thead>\n",
       "  <tbody>\n",
       "    <tr>\n",
       "      <th>0</th>\n",
       "      <td>2539</td>\n",
       "      <td>Clean &amp; quiet apt home by the park</td>\n",
       "      <td>2787</td>\n",
       "      <td>John</td>\n",
       "      <td>Brooklyn</td>\n",
       "      <td>Kensington</td>\n",
       "      <td>40.64749</td>\n",
       "      <td>-73.97237</td>\n",
       "      <td>Private room</td>\n",
       "      <td>149</td>\n",
       "      <td>1</td>\n",
       "      <td>9</td>\n",
       "      <td>2018-10-19</td>\n",
       "      <td>0.21</td>\n",
       "      <td>6</td>\n",
       "      <td>365</td>\n",
       "    </tr>\n",
       "    <tr>\n",
       "      <th>1</th>\n",
       "      <td>2595</td>\n",
       "      <td>Skylit Midtown Castle</td>\n",
       "      <td>2845</td>\n",
       "      <td>Jennifer</td>\n",
       "      <td>Manhattan</td>\n",
       "      <td>Midtown</td>\n",
       "      <td>40.75362</td>\n",
       "      <td>-73.98377</td>\n",
       "      <td>Entire home/apt</td>\n",
       "      <td>225</td>\n",
       "      <td>1</td>\n",
       "      <td>45</td>\n",
       "      <td>2019-05-21</td>\n",
       "      <td>0.38</td>\n",
       "      <td>2</td>\n",
       "      <td>355</td>\n",
       "    </tr>\n",
       "    <tr>\n",
       "      <th>2</th>\n",
       "      <td>3647</td>\n",
       "      <td>THE VILLAGE OF HARLEM....NEW YORK !</td>\n",
       "      <td>4632</td>\n",
       "      <td>Elisabeth</td>\n",
       "      <td>Manhattan</td>\n",
       "      <td>Harlem</td>\n",
       "      <td>40.80902</td>\n",
       "      <td>-73.94190</td>\n",
       "      <td>Private room</td>\n",
       "      <td>150</td>\n",
       "      <td>3</td>\n",
       "      <td>0</td>\n",
       "      <td>NaN</td>\n",
       "      <td>NaN</td>\n",
       "      <td>1</td>\n",
       "      <td>365</td>\n",
       "    </tr>\n",
       "    <tr>\n",
       "      <th>3</th>\n",
       "      <td>3831</td>\n",
       "      <td>Cozy Entire Floor of Brownstone</td>\n",
       "      <td>4869</td>\n",
       "      <td>LisaRoxanne</td>\n",
       "      <td>Brooklyn</td>\n",
       "      <td>Clinton Hill</td>\n",
       "      <td>40.68514</td>\n",
       "      <td>-73.95976</td>\n",
       "      <td>Entire home/apt</td>\n",
       "      <td>89</td>\n",
       "      <td>1</td>\n",
       "      <td>270</td>\n",
       "      <td>2019-07-05</td>\n",
       "      <td>4.64</td>\n",
       "      <td>1</td>\n",
       "      <td>194</td>\n",
       "    </tr>\n",
       "    <tr>\n",
       "      <th>4</th>\n",
       "      <td>5022</td>\n",
       "      <td>Entire Apt: Spacious Studio/Loft by central park</td>\n",
       "      <td>7192</td>\n",
       "      <td>Laura</td>\n",
       "      <td>Manhattan</td>\n",
       "      <td>East Harlem</td>\n",
       "      <td>40.79851</td>\n",
       "      <td>-73.94399</td>\n",
       "      <td>Entire home/apt</td>\n",
       "      <td>80</td>\n",
       "      <td>10</td>\n",
       "      <td>9</td>\n",
       "      <td>2018-11-19</td>\n",
       "      <td>0.10</td>\n",
       "      <td>1</td>\n",
       "      <td>0</td>\n",
       "    </tr>\n",
       "  </tbody>\n",
       "</table>\n",
       "</div>"
      ],
      "text/plain": [
       "     id                                              name  host_id  \\\n",
       "0  2539                Clean & quiet apt home by the park     2787   \n",
       "1  2595                             Skylit Midtown Castle     2845   \n",
       "2  3647               THE VILLAGE OF HARLEM....NEW YORK !     4632   \n",
       "3  3831                   Cozy Entire Floor of Brownstone     4869   \n",
       "4  5022  Entire Apt: Spacious Studio/Loft by central park     7192   \n",
       "\n",
       "     host_name neighbourhood_group neighbourhood  latitude  longitude  \\\n",
       "0         John            Brooklyn    Kensington  40.64749  -73.97237   \n",
       "1     Jennifer           Manhattan       Midtown  40.75362  -73.98377   \n",
       "2    Elisabeth           Manhattan        Harlem  40.80902  -73.94190   \n",
       "3  LisaRoxanne            Brooklyn  Clinton Hill  40.68514  -73.95976   \n",
       "4        Laura           Manhattan   East Harlem  40.79851  -73.94399   \n",
       "\n",
       "         room_type  price  minimum_nights  number_of_reviews last_review  \\\n",
       "0     Private room    149               1                  9  2018-10-19   \n",
       "1  Entire home/apt    225               1                 45  2019-05-21   \n",
       "2     Private room    150               3                  0         NaN   \n",
       "3  Entire home/apt     89               1                270  2019-07-05   \n",
       "4  Entire home/apt     80              10                  9  2018-11-19   \n",
       "\n",
       "   reviews_per_month  calculated_host_listings_count  availability_365  \n",
       "0               0.21                               6               365  \n",
       "1               0.38                               2               355  \n",
       "2                NaN                               1               365  \n",
       "3               4.64                               1               194  \n",
       "4               0.10                               1                 0  "
      ]
     },
     "execution_count": 4,
     "metadata": {},
     "output_type": "execute_result"
    }
   ],
   "source": [
    "df = pd.read_csv('AB_NYC_2019.csv')\n",
    "df.head()"
   ]
  },
  {
   "cell_type": "code",
   "execution_count": 5,
   "id": "4a8eebcd-d37c-4cef-ab07-732060319859",
   "metadata": {},
   "outputs": [],
   "source": [
    "df.columns = df.columns.str.lower().str.replace(' ', '_')\n",
    "\n",
    "categorical_columns = list(df.dtypes[df.dtypes == 'object'].index)\n",
    "\n",
    "for col in categorical_columns:\n",
    "    df[col] = df[col].str.lower().str.replace(' ', '_')"
   ]
  },
  {
   "cell_type": "code",
   "execution_count": 6,
   "id": "366bc1e1-a5b0-4bb5-9beb-b59ae87b96e3",
   "metadata": {},
   "outputs": [
    {
     "data": {
      "text/html": [
       "<div>\n",
       "<style scoped>\n",
       "    .dataframe tbody tr th:only-of-type {\n",
       "        vertical-align: middle;\n",
       "    }\n",
       "\n",
       "    .dataframe tbody tr th {\n",
       "        vertical-align: top;\n",
       "    }\n",
       "\n",
       "    .dataframe thead th {\n",
       "        text-align: right;\n",
       "    }\n",
       "</style>\n",
       "<table border=\"1\" class=\"dataframe\">\n",
       "  <thead>\n",
       "    <tr style=\"text-align: right;\">\n",
       "      <th></th>\n",
       "      <th>neighbourhood_group</th>\n",
       "      <th>room_type</th>\n",
       "      <th>latitude</th>\n",
       "      <th>longitude</th>\n",
       "      <th>price</th>\n",
       "      <th>minimum_nights</th>\n",
       "      <th>number_of_reviews</th>\n",
       "      <th>reviews_per_month</th>\n",
       "      <th>calculated_host_listings_count</th>\n",
       "      <th>availability_365</th>\n",
       "    </tr>\n",
       "  </thead>\n",
       "  <tbody>\n",
       "    <tr>\n",
       "      <th>0</th>\n",
       "      <td>brooklyn</td>\n",
       "      <td>private_room</td>\n",
       "      <td>40.64749</td>\n",
       "      <td>-73.97237</td>\n",
       "      <td>149</td>\n",
       "      <td>1</td>\n",
       "      <td>9</td>\n",
       "      <td>0.21</td>\n",
       "      <td>6</td>\n",
       "      <td>365</td>\n",
       "    </tr>\n",
       "    <tr>\n",
       "      <th>1</th>\n",
       "      <td>manhattan</td>\n",
       "      <td>entire_home/apt</td>\n",
       "      <td>40.75362</td>\n",
       "      <td>-73.98377</td>\n",
       "      <td>225</td>\n",
       "      <td>1</td>\n",
       "      <td>45</td>\n",
       "      <td>0.38</td>\n",
       "      <td>2</td>\n",
       "      <td>355</td>\n",
       "    </tr>\n",
       "    <tr>\n",
       "      <th>2</th>\n",
       "      <td>manhattan</td>\n",
       "      <td>private_room</td>\n",
       "      <td>40.80902</td>\n",
       "      <td>-73.94190</td>\n",
       "      <td>150</td>\n",
       "      <td>3</td>\n",
       "      <td>0</td>\n",
       "      <td>NaN</td>\n",
       "      <td>1</td>\n",
       "      <td>365</td>\n",
       "    </tr>\n",
       "    <tr>\n",
       "      <th>3</th>\n",
       "      <td>brooklyn</td>\n",
       "      <td>entire_home/apt</td>\n",
       "      <td>40.68514</td>\n",
       "      <td>-73.95976</td>\n",
       "      <td>89</td>\n",
       "      <td>1</td>\n",
       "      <td>270</td>\n",
       "      <td>4.64</td>\n",
       "      <td>1</td>\n",
       "      <td>194</td>\n",
       "    </tr>\n",
       "    <tr>\n",
       "      <th>4</th>\n",
       "      <td>manhattan</td>\n",
       "      <td>entire_home/apt</td>\n",
       "      <td>40.79851</td>\n",
       "      <td>-73.94399</td>\n",
       "      <td>80</td>\n",
       "      <td>10</td>\n",
       "      <td>9</td>\n",
       "      <td>0.10</td>\n",
       "      <td>1</td>\n",
       "      <td>0</td>\n",
       "    </tr>\n",
       "    <tr>\n",
       "      <th>5</th>\n",
       "      <td>manhattan</td>\n",
       "      <td>entire_home/apt</td>\n",
       "      <td>40.74767</td>\n",
       "      <td>-73.97500</td>\n",
       "      <td>200</td>\n",
       "      <td>3</td>\n",
       "      <td>74</td>\n",
       "      <td>0.59</td>\n",
       "      <td>1</td>\n",
       "      <td>129</td>\n",
       "    </tr>\n",
       "    <tr>\n",
       "      <th>6</th>\n",
       "      <td>brooklyn</td>\n",
       "      <td>private_room</td>\n",
       "      <td>40.68688</td>\n",
       "      <td>-73.95596</td>\n",
       "      <td>60</td>\n",
       "      <td>45</td>\n",
       "      <td>49</td>\n",
       "      <td>0.40</td>\n",
       "      <td>1</td>\n",
       "      <td>0</td>\n",
       "    </tr>\n",
       "    <tr>\n",
       "      <th>7</th>\n",
       "      <td>manhattan</td>\n",
       "      <td>private_room</td>\n",
       "      <td>40.76489</td>\n",
       "      <td>-73.98493</td>\n",
       "      <td>79</td>\n",
       "      <td>2</td>\n",
       "      <td>430</td>\n",
       "      <td>3.47</td>\n",
       "      <td>1</td>\n",
       "      <td>220</td>\n",
       "    </tr>\n",
       "    <tr>\n",
       "      <th>8</th>\n",
       "      <td>manhattan</td>\n",
       "      <td>private_room</td>\n",
       "      <td>40.80178</td>\n",
       "      <td>-73.96723</td>\n",
       "      <td>79</td>\n",
       "      <td>2</td>\n",
       "      <td>118</td>\n",
       "      <td>0.99</td>\n",
       "      <td>1</td>\n",
       "      <td>0</td>\n",
       "    </tr>\n",
       "    <tr>\n",
       "      <th>9</th>\n",
       "      <td>manhattan</td>\n",
       "      <td>entire_home/apt</td>\n",
       "      <td>40.71344</td>\n",
       "      <td>-73.99037</td>\n",
       "      <td>150</td>\n",
       "      <td>1</td>\n",
       "      <td>160</td>\n",
       "      <td>1.33</td>\n",
       "      <td>4</td>\n",
       "      <td>188</td>\n",
       "    </tr>\n",
       "  </tbody>\n",
       "</table>\n",
       "</div>"
      ],
      "text/plain": [
       "  neighbourhood_group        room_type  latitude  longitude  price  \\\n",
       "0            brooklyn     private_room  40.64749  -73.97237    149   \n",
       "1           manhattan  entire_home/apt  40.75362  -73.98377    225   \n",
       "2           manhattan     private_room  40.80902  -73.94190    150   \n",
       "3            brooklyn  entire_home/apt  40.68514  -73.95976     89   \n",
       "4           manhattan  entire_home/apt  40.79851  -73.94399     80   \n",
       "5           manhattan  entire_home/apt  40.74767  -73.97500    200   \n",
       "6            brooklyn     private_room  40.68688  -73.95596     60   \n",
       "7           manhattan     private_room  40.76489  -73.98493     79   \n",
       "8           manhattan     private_room  40.80178  -73.96723     79   \n",
       "9           manhattan  entire_home/apt  40.71344  -73.99037    150   \n",
       "\n",
       "   minimum_nights  number_of_reviews  reviews_per_month  \\\n",
       "0               1                  9               0.21   \n",
       "1               1                 45               0.38   \n",
       "2               3                  0                NaN   \n",
       "3               1                270               4.64   \n",
       "4              10                  9               0.10   \n",
       "5               3                 74               0.59   \n",
       "6              45                 49               0.40   \n",
       "7               2                430               3.47   \n",
       "8               2                118               0.99   \n",
       "9               1                160               1.33   \n",
       "\n",
       "   calculated_host_listings_count  availability_365  \n",
       "0                               6               365  \n",
       "1                               2               355  \n",
       "2                               1               365  \n",
       "3                               1               194  \n",
       "4                               1                 0  \n",
       "5                               1               129  \n",
       "6                               1                 0  \n",
       "7                               1               220  \n",
       "8                               1                 0  \n",
       "9                               4               188  "
      ]
     },
     "execution_count": 6,
     "metadata": {},
     "output_type": "execute_result"
    }
   ],
   "source": [
    "df = df[['neighbourhood_group', 'room_type', 'latitude','longitude','price','minimum_nights','number_of_reviews','reviews_per_month','calculated_host_listings_count','availability_365']]\n",
    "df.head(10)"
   ]
  },
  {
   "cell_type": "code",
   "execution_count": 7,
   "id": "0a2afc4d-fb9a-42ee-8f44-6a33d09974cf",
   "metadata": {},
   "outputs": [
    {
     "data": {
      "text/html": [
       "<div>\n",
       "<style scoped>\n",
       "    .dataframe tbody tr th:only-of-type {\n",
       "        vertical-align: middle;\n",
       "    }\n",
       "\n",
       "    .dataframe tbody tr th {\n",
       "        vertical-align: top;\n",
       "    }\n",
       "\n",
       "    .dataframe thead th {\n",
       "        text-align: right;\n",
       "    }\n",
       "</style>\n",
       "<table border=\"1\" class=\"dataframe\">\n",
       "  <thead>\n",
       "    <tr style=\"text-align: right;\">\n",
       "      <th></th>\n",
       "      <th>0</th>\n",
       "      <th>1</th>\n",
       "      <th>2</th>\n",
       "      <th>3</th>\n",
       "      <th>4</th>\n",
       "    </tr>\n",
       "  </thead>\n",
       "  <tbody>\n",
       "    <tr>\n",
       "      <th>neighbourhood_group</th>\n",
       "      <td>brooklyn</td>\n",
       "      <td>manhattan</td>\n",
       "      <td>manhattan</td>\n",
       "      <td>brooklyn</td>\n",
       "      <td>manhattan</td>\n",
       "    </tr>\n",
       "    <tr>\n",
       "      <th>room_type</th>\n",
       "      <td>private_room</td>\n",
       "      <td>entire_home/apt</td>\n",
       "      <td>private_room</td>\n",
       "      <td>entire_home/apt</td>\n",
       "      <td>entire_home/apt</td>\n",
       "    </tr>\n",
       "    <tr>\n",
       "      <th>latitude</th>\n",
       "      <td>40.64749</td>\n",
       "      <td>40.75362</td>\n",
       "      <td>40.80902</td>\n",
       "      <td>40.68514</td>\n",
       "      <td>40.79851</td>\n",
       "    </tr>\n",
       "    <tr>\n",
       "      <th>longitude</th>\n",
       "      <td>-73.97237</td>\n",
       "      <td>-73.98377</td>\n",
       "      <td>-73.9419</td>\n",
       "      <td>-73.95976</td>\n",
       "      <td>-73.94399</td>\n",
       "    </tr>\n",
       "    <tr>\n",
       "      <th>price</th>\n",
       "      <td>149</td>\n",
       "      <td>225</td>\n",
       "      <td>150</td>\n",
       "      <td>89</td>\n",
       "      <td>80</td>\n",
       "    </tr>\n",
       "    <tr>\n",
       "      <th>minimum_nights</th>\n",
       "      <td>1</td>\n",
       "      <td>1</td>\n",
       "      <td>3</td>\n",
       "      <td>1</td>\n",
       "      <td>10</td>\n",
       "    </tr>\n",
       "    <tr>\n",
       "      <th>number_of_reviews</th>\n",
       "      <td>9</td>\n",
       "      <td>45</td>\n",
       "      <td>0</td>\n",
       "      <td>270</td>\n",
       "      <td>9</td>\n",
       "    </tr>\n",
       "    <tr>\n",
       "      <th>reviews_per_month</th>\n",
       "      <td>0.21</td>\n",
       "      <td>0.38</td>\n",
       "      <td>NaN</td>\n",
       "      <td>4.64</td>\n",
       "      <td>0.1</td>\n",
       "    </tr>\n",
       "    <tr>\n",
       "      <th>calculated_host_listings_count</th>\n",
       "      <td>6</td>\n",
       "      <td>2</td>\n",
       "      <td>1</td>\n",
       "      <td>1</td>\n",
       "      <td>1</td>\n",
       "    </tr>\n",
       "    <tr>\n",
       "      <th>availability_365</th>\n",
       "      <td>365</td>\n",
       "      <td>355</td>\n",
       "      <td>365</td>\n",
       "      <td>194</td>\n",
       "      <td>0</td>\n",
       "    </tr>\n",
       "  </tbody>\n",
       "</table>\n",
       "</div>"
      ],
      "text/plain": [
       "                                           0                1             2  \\\n",
       "neighbourhood_group                 brooklyn        manhattan     manhattan   \n",
       "room_type                       private_room  entire_home/apt  private_room   \n",
       "latitude                            40.64749         40.75362      40.80902   \n",
       "longitude                          -73.97237        -73.98377      -73.9419   \n",
       "price                                    149              225           150   \n",
       "minimum_nights                             1                1             3   \n",
       "number_of_reviews                          9               45             0   \n",
       "reviews_per_month                       0.21             0.38           NaN   \n",
       "calculated_host_listings_count             6                2             1   \n",
       "availability_365                         365              355           365   \n",
       "\n",
       "                                              3                4  \n",
       "neighbourhood_group                    brooklyn        manhattan  \n",
       "room_type                       entire_home/apt  entire_home/apt  \n",
       "latitude                               40.68514         40.79851  \n",
       "longitude                             -73.95976        -73.94399  \n",
       "price                                        89               80  \n",
       "minimum_nights                                1               10  \n",
       "number_of_reviews                           270                9  \n",
       "reviews_per_month                          4.64              0.1  \n",
       "calculated_host_listings_count                1                1  \n",
       "availability_365                            194                0  "
      ]
     },
     "execution_count": 7,
     "metadata": {},
     "output_type": "execute_result"
    }
   ],
   "source": [
    "df.head().T # Transpose is the simple way to look at all columns"
   ]
  },
  {
   "cell_type": "code",
   "execution_count": 8,
   "id": "7f4cf9e7-baf9-4123-8ac0-74c1621eda3a",
   "metadata": {},
   "outputs": [],
   "source": [
    "df['above_average'] = (df.price >= 152).astype(int) #making price binary"
   ]
  },
  {
   "cell_type": "code",
   "execution_count": 9,
   "id": "a38bef9b-b584-48ba-98b3-5f048c18d121",
   "metadata": {},
   "outputs": [
    {
     "data": {
      "text/plain": [
       "neighbourhood_group               0\n",
       "room_type                         0\n",
       "latitude                          0\n",
       "longitude                         0\n",
       "price                             0\n",
       "minimum_nights                    0\n",
       "number_of_reviews                 0\n",
       "reviews_per_month                 0\n",
       "calculated_host_listings_count    0\n",
       "availability_365                  0\n",
       "above_average                     0\n",
       "dtype: int64"
      ]
     },
     "execution_count": 9,
     "metadata": {},
     "output_type": "execute_result"
    }
   ],
   "source": [
    "df.reviews_per_month = df.reviews_per_month.fillna(0)\n",
    "df.isnull().sum()"
   ]
  },
  {
   "cell_type": "markdown",
   "id": "7d946818-3cfa-4dc3-ab46-a0056daf2f45",
   "metadata": {},
   "source": [
    "### __Question 1__  \n",
    "  \n",
    "__What is the most frequent observation (mode) for the column 'neighbourhood_group'?__  \n",
    "  \n",
    "*Split the data*  \n",
    "* Split your data in train/val/test sets, with 60%/20%/20% distribution.  \n",
    "* Use Scikit-Learn for that (the train_test_split function) and set the seed to 42.  \n",
    "* Make sure that the target value ('price') is not in your dataframe.  "
   ]
  },
  {
   "cell_type": "markdown",
   "id": "0bc995a6-672d-4dcd-b64f-db932873b299",
   "metadata": {},
   "source": [
    "*__Setting up the validation framework__*"
   ]
  },
  {
   "cell_type": "code",
   "execution_count": 10,
   "id": "ba194876-bfc3-481e-8e2d-9c9182f7da88",
   "metadata": {},
   "outputs": [],
   "source": [
    "from sklearn.model_selection import train_test_split # importing sklearn"
   ]
  },
  {
   "cell_type": "code",
   "execution_count": 11,
   "id": "006a6feb-6a40-44d5-9329-e89312a788c0",
   "metadata": {},
   "outputs": [],
   "source": [
    "test_size = 0.2\n",
    "df_full_train, df_test = train_test_split(df, test_size=test_size, random_state=42)"
   ]
  },
  {
   "cell_type": "code",
   "execution_count": 12,
   "id": "9062c99b-3deb-40f9-8bb6-3e1c9cb11758",
   "metadata": {},
   "outputs": [],
   "source": [
    "val_size = test_size/(1-test_size)\n",
    "df_train, df_val = train_test_split(df_full_train, test_size=val_size, random_state=42)"
   ]
  },
  {
   "cell_type": "code",
   "execution_count": 13,
   "id": "2c3d4704-957a-4491-8cb6-1402cfb5e1e7",
   "metadata": {},
   "outputs": [
    {
     "data": {
      "text/plain": [
       "(29337, 9779, 9779, 48895)"
      ]
     },
     "execution_count": 13,
     "metadata": {},
     "output_type": "execute_result"
    }
   ],
   "source": [
    "len(df_train), len(df_val), len(df_test), len(df)"
   ]
  },
  {
   "cell_type": "code",
   "execution_count": 14,
   "id": "0356f189-c81d-4846-b74e-862592e89757",
   "metadata": {},
   "outputs": [
    {
     "data": {
      "text/html": [
       "<div>\n",
       "<style scoped>\n",
       "    .dataframe tbody tr th:only-of-type {\n",
       "        vertical-align: middle;\n",
       "    }\n",
       "\n",
       "    .dataframe tbody tr th {\n",
       "        vertical-align: top;\n",
       "    }\n",
       "\n",
       "    .dataframe thead th {\n",
       "        text-align: right;\n",
       "    }\n",
       "</style>\n",
       "<table border=\"1\" class=\"dataframe\">\n",
       "  <thead>\n",
       "    <tr style=\"text-align: right;\">\n",
       "      <th></th>\n",
       "      <th>neighbourhood_group</th>\n",
       "      <th>room_type</th>\n",
       "      <th>latitude</th>\n",
       "      <th>longitude</th>\n",
       "      <th>price</th>\n",
       "      <th>minimum_nights</th>\n",
       "      <th>number_of_reviews</th>\n",
       "      <th>reviews_per_month</th>\n",
       "      <th>calculated_host_listings_count</th>\n",
       "      <th>availability_365</th>\n",
       "      <th>above_average</th>\n",
       "    </tr>\n",
       "  </thead>\n",
       "  <tbody>\n",
       "    <tr>\n",
       "      <th>0</th>\n",
       "      <td>brooklyn</td>\n",
       "      <td>entire_home/apt</td>\n",
       "      <td>40.72760</td>\n",
       "      <td>-73.94495</td>\n",
       "      <td>99</td>\n",
       "      <td>3</td>\n",
       "      <td>29</td>\n",
       "      <td>0.70</td>\n",
       "      <td>13</td>\n",
       "      <td>50</td>\n",
       "      <td>0</td>\n",
       "    </tr>\n",
       "    <tr>\n",
       "      <th>1</th>\n",
       "      <td>manhattan</td>\n",
       "      <td>private_room</td>\n",
       "      <td>40.70847</td>\n",
       "      <td>-74.00498</td>\n",
       "      <td>57</td>\n",
       "      <td>1</td>\n",
       "      <td>0</td>\n",
       "      <td>0.00</td>\n",
       "      <td>1</td>\n",
       "      <td>7</td>\n",
       "      <td>0</td>\n",
       "    </tr>\n",
       "    <tr>\n",
       "      <th>2</th>\n",
       "      <td>bronx</td>\n",
       "      <td>entire_home/apt</td>\n",
       "      <td>40.83149</td>\n",
       "      <td>-73.92766</td>\n",
       "      <td>70</td>\n",
       "      <td>40</td>\n",
       "      <td>0</td>\n",
       "      <td>0.00</td>\n",
       "      <td>1</td>\n",
       "      <td>0</td>\n",
       "      <td>0</td>\n",
       "    </tr>\n",
       "    <tr>\n",
       "      <th>3</th>\n",
       "      <td>brooklyn</td>\n",
       "      <td>entire_home/apt</td>\n",
       "      <td>40.66448</td>\n",
       "      <td>-73.99407</td>\n",
       "      <td>130</td>\n",
       "      <td>2</td>\n",
       "      <td>3</td>\n",
       "      <td>0.08</td>\n",
       "      <td>1</td>\n",
       "      <td>0</td>\n",
       "      <td>0</td>\n",
       "    </tr>\n",
       "    <tr>\n",
       "      <th>4</th>\n",
       "      <td>manhattan</td>\n",
       "      <td>private_room</td>\n",
       "      <td>40.74118</td>\n",
       "      <td>-74.00012</td>\n",
       "      <td>110</td>\n",
       "      <td>1</td>\n",
       "      <td>48</td>\n",
       "      <td>1.80</td>\n",
       "      <td>2</td>\n",
       "      <td>67</td>\n",
       "      <td>0</td>\n",
       "    </tr>\n",
       "  </tbody>\n",
       "</table>\n",
       "</div>"
      ],
      "text/plain": [
       "  neighbourhood_group        room_type  latitude  longitude  price  \\\n",
       "0            brooklyn  entire_home/apt  40.72760  -73.94495     99   \n",
       "1           manhattan     private_room  40.70847  -74.00498     57   \n",
       "2               bronx  entire_home/apt  40.83149  -73.92766     70   \n",
       "3            brooklyn  entire_home/apt  40.66448  -73.99407    130   \n",
       "4           manhattan     private_room  40.74118  -74.00012    110   \n",
       "\n",
       "   minimum_nights  number_of_reviews  reviews_per_month  \\\n",
       "0               3                 29               0.70   \n",
       "1               1                  0               0.00   \n",
       "2              40                  0               0.00   \n",
       "3               2                  3               0.08   \n",
       "4               1                 48               1.80   \n",
       "\n",
       "   calculated_host_listings_count  availability_365  above_average  \n",
       "0                              13                50              0  \n",
       "1                               1                 7              0  \n",
       "2                               1                 0              0  \n",
       "3                               1                 0              0  \n",
       "4                               2                67              0  "
      ]
     },
     "execution_count": 14,
     "metadata": {},
     "output_type": "execute_result"
    }
   ],
   "source": [
    "df_train = df_train.reset_index(drop=True)\n",
    "df_val = df_val.reset_index(drop=True)\n",
    "df_test = df_test.reset_index(drop=True)\n",
    "df_full_train = df_full_train.reset_index(drop=True)\n",
    "df_train.head()"
   ]
  },
  {
   "cell_type": "code",
   "execution_count": 15,
   "id": "074d8d72-792f-4a13-b91d-062e5676bc50",
   "metadata": {},
   "outputs": [],
   "source": [
    "y_train = df_train.above_average.values\n",
    "y_val   = df_val.above_average.values\n",
    "y_test  = df_test.above_average.values\n",
    "\n",
    "del df_train['price']\n",
    "del df_val['price']\n",
    "del df_test['price']\n",
    "del df_train['above_average']\n",
    "del df_val['above_average']\n",
    "del df_test['above_average']"
   ]
  },
  {
   "cell_type": "code",
   "execution_count": 16,
   "id": "432dd360-f75b-4683-a4bf-6f26058c87a4",
   "metadata": {},
   "outputs": [
    {
     "data": {
      "text/plain": [
       "Index(['neighbourhood_group', 'room_type', 'latitude', 'longitude',\n",
       "       'minimum_nights', 'number_of_reviews', 'reviews_per_month',\n",
       "       'calculated_host_listings_count', 'availability_365'],\n",
       "      dtype='object')"
      ]
     },
     "execution_count": 16,
     "metadata": {},
     "output_type": "execute_result"
    }
   ],
   "source": [
    "df_train.columns"
   ]
  },
  {
   "cell_type": "markdown",
   "id": "b531962a-f177-4017-9310-d79f5eeb4f56",
   "metadata": {},
   "source": [
    "*__EDA__*"
   ]
  },
  {
   "cell_type": "code",
   "execution_count": 17,
   "id": "502a1a8a-62e5-44a0-b2d9-c3e323f214d1",
   "metadata": {},
   "outputs": [
    {
     "data": {
      "text/plain": [
       "(manhattan        17380\n",
       " brooklyn         16096\n",
       " queens            4482\n",
       " bronx              864\n",
       " staten_island      294\n",
       " Name: neighbourhood_group, dtype: int64,\n",
       " manhattan        21661\n",
       " brooklyn         20104\n",
       " queens            5666\n",
       " bronx             1091\n",
       " staten_island      373\n",
       " Name: neighbourhood_group, dtype: int64)"
      ]
     },
     "execution_count": 17,
     "metadata": {},
     "output_type": "execute_result"
    }
   ],
   "source": [
    "# checking observations for 'neighbourhood_group' column\n",
    "df_full_train.neighbourhood_group.value_counts(), df.neighbourhood_group.value_counts()"
   ]
  },
  {
   "cell_type": "markdown",
   "id": "6fe177d2-a0c1-4a31-a018-dbf90e66d970",
   "metadata": {},
   "source": [
    "*__ANSWER Q1__*: manhattan"
   ]
  },
  {
   "cell_type": "markdown",
   "id": "1b463839-4cb0-4c22-aa9d-361fe752235f",
   "metadata": {},
   "source": [
    "## __Question 2__  \n",
    "Create the correlation matrix for the numerical features of your train dataset.  \n",
    "In a correlation matrix, you compute the correlation coefficient between every pair of features in the dataset.  \n",
    "  \n",
    "__What are the two features that have the biggest correlation in this dataset?__  \n",
    "  \n",
    "*Make price binary*  \n",
    "* We need to turn the price variable from numeric into binary.\n",
    "* Let's create a variable above_average which is 1 if the price is above (or equal to) 152."
   ]
  },
  {
   "cell_type": "code",
   "execution_count": 18,
   "id": "ed2d66d8-36d6-4c7a-908b-fb5d8fe8ca18",
   "metadata": {},
   "outputs": [
    {
     "data": {
      "text/html": [
       "<div>\n",
       "<style scoped>\n",
       "    .dataframe tbody tr th:only-of-type {\n",
       "        vertical-align: middle;\n",
       "    }\n",
       "\n",
       "    .dataframe tbody tr th {\n",
       "        vertical-align: top;\n",
       "    }\n",
       "\n",
       "    .dataframe thead th {\n",
       "        text-align: right;\n",
       "    }\n",
       "</style>\n",
       "<table border=\"1\" class=\"dataframe\">\n",
       "  <thead>\n",
       "    <tr style=\"text-align: right;\">\n",
       "      <th></th>\n",
       "      <th>latitude</th>\n",
       "      <th>longitude</th>\n",
       "      <th>price</th>\n",
       "      <th>minimum_nights</th>\n",
       "      <th>number_of_reviews</th>\n",
       "      <th>reviews_per_month</th>\n",
       "      <th>calculated_host_listings_count</th>\n",
       "      <th>availability_365</th>\n",
       "      <th>above_average</th>\n",
       "    </tr>\n",
       "  </thead>\n",
       "  <tbody>\n",
       "    <tr>\n",
       "      <th>latitude</th>\n",
       "      <td>1.000000</td>\n",
       "      <td>0.080704</td>\n",
       "      <td>0.035015</td>\n",
       "      <td>0.025497</td>\n",
       "      <td>-0.011836</td>\n",
       "      <td>-0.013809</td>\n",
       "      <td>0.020299</td>\n",
       "      <td>-0.008341</td>\n",
       "      <td>0.056281</td>\n",
       "    </tr>\n",
       "    <tr>\n",
       "      <th>longitude</th>\n",
       "      <td>0.080704</td>\n",
       "      <td>1.000000</td>\n",
       "      <td>-0.149080</td>\n",
       "      <td>-0.063498</td>\n",
       "      <td>0.057570</td>\n",
       "      <td>0.134401</td>\n",
       "      <td>-0.115289</td>\n",
       "      <td>0.082994</td>\n",
       "      <td>-0.267852</td>\n",
       "    </tr>\n",
       "    <tr>\n",
       "      <th>price</th>\n",
       "      <td>0.035015</td>\n",
       "      <td>-0.149080</td>\n",
       "      <td>1.000000</td>\n",
       "      <td>0.042740</td>\n",
       "      <td>-0.048926</td>\n",
       "      <td>-0.051978</td>\n",
       "      <td>0.055336</td>\n",
       "      <td>0.080562</td>\n",
       "      <td>0.411250</td>\n",
       "    </tr>\n",
       "    <tr>\n",
       "      <th>minimum_nights</th>\n",
       "      <td>0.025497</td>\n",
       "      <td>-0.063498</td>\n",
       "      <td>0.042740</td>\n",
       "      <td>1.000000</td>\n",
       "      <td>-0.077860</td>\n",
       "      <td>-0.121687</td>\n",
       "      <td>0.121748</td>\n",
       "      <td>0.140596</td>\n",
       "      <td>0.032320</td>\n",
       "    </tr>\n",
       "    <tr>\n",
       "      <th>number_of_reviews</th>\n",
       "      <td>-0.011836</td>\n",
       "      <td>0.057570</td>\n",
       "      <td>-0.048926</td>\n",
       "      <td>-0.077860</td>\n",
       "      <td>1.000000</td>\n",
       "      <td>0.584935</td>\n",
       "      <td>-0.072603</td>\n",
       "      <td>0.175428</td>\n",
       "      <td>-0.053921</td>\n",
       "    </tr>\n",
       "    <tr>\n",
       "      <th>reviews_per_month</th>\n",
       "      <td>-0.013809</td>\n",
       "      <td>0.134401</td>\n",
       "      <td>-0.051978</td>\n",
       "      <td>-0.121687</td>\n",
       "      <td>0.584935</td>\n",
       "      <td>1.000000</td>\n",
       "      <td>-0.047368</td>\n",
       "      <td>0.165565</td>\n",
       "      <td>-0.055888</td>\n",
       "    </tr>\n",
       "    <tr>\n",
       "      <th>calculated_host_listings_count</th>\n",
       "      <td>0.020299</td>\n",
       "      <td>-0.115289</td>\n",
       "      <td>0.055336</td>\n",
       "      <td>0.121748</td>\n",
       "      <td>-0.072603</td>\n",
       "      <td>-0.047368</td>\n",
       "      <td>1.000000</td>\n",
       "      <td>0.223328</td>\n",
       "      <td>0.171793</td>\n",
       "    </tr>\n",
       "    <tr>\n",
       "      <th>availability_365</th>\n",
       "      <td>-0.008341</td>\n",
       "      <td>0.082994</td>\n",
       "      <td>0.080562</td>\n",
       "      <td>0.140596</td>\n",
       "      <td>0.175428</td>\n",
       "      <td>0.165565</td>\n",
       "      <td>0.223328</td>\n",
       "      <td>1.000000</td>\n",
       "      <td>0.102623</td>\n",
       "    </tr>\n",
       "    <tr>\n",
       "      <th>above_average</th>\n",
       "      <td>0.056281</td>\n",
       "      <td>-0.267852</td>\n",
       "      <td>0.411250</td>\n",
       "      <td>0.032320</td>\n",
       "      <td>-0.053921</td>\n",
       "      <td>-0.055888</td>\n",
       "      <td>0.171793</td>\n",
       "      <td>0.102623</td>\n",
       "      <td>1.000000</td>\n",
       "    </tr>\n",
       "  </tbody>\n",
       "</table>\n",
       "</div>"
      ],
      "text/plain": [
       "                                latitude  longitude     price  minimum_nights  \\\n",
       "latitude                        1.000000   0.080704  0.035015        0.025497   \n",
       "longitude                       0.080704   1.000000 -0.149080       -0.063498   \n",
       "price                           0.035015  -0.149080  1.000000        0.042740   \n",
       "minimum_nights                  0.025497  -0.063498  0.042740        1.000000   \n",
       "number_of_reviews              -0.011836   0.057570 -0.048926       -0.077860   \n",
       "reviews_per_month              -0.013809   0.134401 -0.051978       -0.121687   \n",
       "calculated_host_listings_count  0.020299  -0.115289  0.055336        0.121748   \n",
       "availability_365               -0.008341   0.082994  0.080562        0.140596   \n",
       "above_average                   0.056281  -0.267852  0.411250        0.032320   \n",
       "\n",
       "                                number_of_reviews  reviews_per_month  \\\n",
       "latitude                                -0.011836          -0.013809   \n",
       "longitude                                0.057570           0.134401   \n",
       "price                                   -0.048926          -0.051978   \n",
       "minimum_nights                          -0.077860          -0.121687   \n",
       "number_of_reviews                        1.000000           0.584935   \n",
       "reviews_per_month                        0.584935           1.000000   \n",
       "calculated_host_listings_count          -0.072603          -0.047368   \n",
       "availability_365                         0.175428           0.165565   \n",
       "above_average                           -0.053921          -0.055888   \n",
       "\n",
       "                                calculated_host_listings_count  \\\n",
       "latitude                                              0.020299   \n",
       "longitude                                            -0.115289   \n",
       "price                                                 0.055336   \n",
       "minimum_nights                                        0.121748   \n",
       "number_of_reviews                                    -0.072603   \n",
       "reviews_per_month                                    -0.047368   \n",
       "calculated_host_listings_count                        1.000000   \n",
       "availability_365                                      0.223328   \n",
       "above_average                                         0.171793   \n",
       "\n",
       "                                availability_365  above_average  \n",
       "latitude                               -0.008341       0.056281  \n",
       "longitude                               0.082994      -0.267852  \n",
       "price                                   0.080562       0.411250  \n",
       "minimum_nights                          0.140596       0.032320  \n",
       "number_of_reviews                       0.175428      -0.053921  \n",
       "reviews_per_month                       0.165565      -0.055888  \n",
       "calculated_host_listings_count          0.223328       0.171793  \n",
       "availability_365                        1.000000       0.102623  \n",
       "above_average                           0.102623       1.000000  "
      ]
     },
     "execution_count": 18,
     "metadata": {},
     "output_type": "execute_result"
    }
   ],
   "source": [
    "# Build a correllation matrix\n",
    "numerical = list(df_full_train.dtypes[(df_full_train.dtypes.values == 'float64') | (df_full_train.dtypes.values == 'int')].index)\n",
    "\n",
    "corr_df = df_full_train[numerical]\n",
    "corrMatrix = corr_df.corr()\n",
    "corrMatrix"
   ]
  },
  {
   "cell_type": "code",
   "execution_count": 19,
   "id": "1b0f3eda-5eb2-4b58-a631-129ae931afe1",
   "metadata": {},
   "outputs": [],
   "source": [
    "import seaborn as sn\n",
    "import matplotlib.pyplot as plt"
   ]
  },
  {
   "cell_type": "code",
   "execution_count": 20,
   "id": "c4115654-1297-4f2e-a3da-c9c006b70db9",
   "metadata": {},
   "outputs": [
    {
     "data": {
      "image/png": "[encoded data removed]",
      "text/plain": [
       "<Figure size 432x288 with 2 Axes>"
      ]
     },
     "metadata": {
      "needs_background": "light"
     },
     "output_type": "display_data"
    }
   ],
   "source": [
    "sn.heatmap(corrMatrix, annot=True)\n",
    "plt.show()"
   ]
  },
  {
   "cell_type": "markdown",
   "id": "0871a28c-9b64-45d1-b73d-778c5b3510cb",
   "metadata": {},
   "source": [
    "*__ANSWER Q2__*: 'number_of_reviews' and 'reviews_per_month'"
   ]
  },
  {
   "cell_type": "markdown",
   "id": "68c2501e-cf80-4917-96a2-2dceee3e3fc3",
   "metadata": {},
   "source": [
    "## __Question 3__  \n",
    "  \n",
    "* Calculate the mutual information score with the (binarized) price for the two categorical variables that we have. Use the training set only.\n",
    "  \n",
    "__Which of these two variables has bigger score?__  \n",
    "  \n",
    "Round it to 2 decimal digits using round(score, 2)"
   ]
  },
  {
   "cell_type": "code",
   "execution_count": 21,
   "id": "274155f4-9b28-468f-b354-e6358455670a",
   "metadata": {},
   "outputs": [],
   "source": [
    "from sklearn.metrics import mutual_info_score"
   ]
  },
  {
   "cell_type": "code",
   "execution_count": 22,
   "id": "fa3fdd52-3c87-4313-aaa1-6db3c0ef0e62",
   "metadata": {},
   "outputs": [
    {
     "data": {
      "text/html": [
       "<div>\n",
       "<style scoped>\n",
       "    .dataframe tbody tr th:only-of-type {\n",
       "        vertical-align: middle;\n",
       "    }\n",
       "\n",
       "    .dataframe tbody tr th {\n",
       "        vertical-align: top;\n",
       "    }\n",
       "\n",
       "    .dataframe thead th {\n",
       "        text-align: right;\n",
       "    }\n",
       "</style>\n",
       "<table border=\"1\" class=\"dataframe\">\n",
       "  <thead>\n",
       "    <tr style=\"text-align: right;\">\n",
       "      <th></th>\n",
       "      <th>neighbourhood_group</th>\n",
       "      <th>room_type</th>\n",
       "      <th>latitude</th>\n",
       "      <th>longitude</th>\n",
       "      <th>price</th>\n",
       "      <th>minimum_nights</th>\n",
       "      <th>number_of_reviews</th>\n",
       "      <th>reviews_per_month</th>\n",
       "      <th>calculated_host_listings_count</th>\n",
       "      <th>availability_365</th>\n",
       "      <th>above_average</th>\n",
       "    </tr>\n",
       "  </thead>\n",
       "  <tbody>\n",
       "    <tr>\n",
       "      <th>0</th>\n",
       "      <td>brooklyn</td>\n",
       "      <td>entire_home/apt</td>\n",
       "      <td>40.71577</td>\n",
       "      <td>-73.95530</td>\n",
       "      <td>295</td>\n",
       "      <td>3</td>\n",
       "      <td>11</td>\n",
       "      <td>0.87</td>\n",
       "      <td>1</td>\n",
       "      <td>1</td>\n",
       "      <td>1</td>\n",
       "    </tr>\n",
       "    <tr>\n",
       "      <th>1</th>\n",
       "      <td>manhattan</td>\n",
       "      <td>private_room</td>\n",
       "      <td>40.84917</td>\n",
       "      <td>-73.94048</td>\n",
       "      <td>70</td>\n",
       "      <td>2</td>\n",
       "      <td>2</td>\n",
       "      <td>0.16</td>\n",
       "      <td>1</td>\n",
       "      <td>0</td>\n",
       "      <td>0</td>\n",
       "    </tr>\n",
       "    <tr>\n",
       "      <th>2</th>\n",
       "      <td>brooklyn</td>\n",
       "      <td>private_room</td>\n",
       "      <td>40.68993</td>\n",
       "      <td>-73.95947</td>\n",
       "      <td>58</td>\n",
       "      <td>2</td>\n",
       "      <td>0</td>\n",
       "      <td>0.00</td>\n",
       "      <td>2</td>\n",
       "      <td>0</td>\n",
       "      <td>0</td>\n",
       "    </tr>\n",
       "    <tr>\n",
       "      <th>3</th>\n",
       "      <td>brooklyn</td>\n",
       "      <td>entire_home/apt</td>\n",
       "      <td>40.68427</td>\n",
       "      <td>-73.93118</td>\n",
       "      <td>75</td>\n",
       "      <td>3</td>\n",
       "      <td>87</td>\n",
       "      <td>4.91</td>\n",
       "      <td>1</td>\n",
       "      <td>267</td>\n",
       "      <td>0</td>\n",
       "    </tr>\n",
       "    <tr>\n",
       "      <th>4</th>\n",
       "      <td>queens</td>\n",
       "      <td>private_room</td>\n",
       "      <td>40.74705</td>\n",
       "      <td>-73.89564</td>\n",
       "      <td>38</td>\n",
       "      <td>5</td>\n",
       "      <td>13</td>\n",
       "      <td>0.25</td>\n",
       "      <td>1</td>\n",
       "      <td>0</td>\n",
       "      <td>0</td>\n",
       "    </tr>\n",
       "  </tbody>\n",
       "</table>\n",
       "</div>"
      ],
      "text/plain": [
       "  neighbourhood_group        room_type  latitude  longitude  price  \\\n",
       "0            brooklyn  entire_home/apt  40.71577  -73.95530    295   \n",
       "1           manhattan     private_room  40.84917  -73.94048     70   \n",
       "2            brooklyn     private_room  40.68993  -73.95947     58   \n",
       "3            brooklyn  entire_home/apt  40.68427  -73.93118     75   \n",
       "4              queens     private_room  40.74705  -73.89564     38   \n",
       "\n",
       "   minimum_nights  number_of_reviews  reviews_per_month  \\\n",
       "0               3                 11               0.87   \n",
       "1               2                  2               0.16   \n",
       "2               2                  0               0.00   \n",
       "3               3                 87               4.91   \n",
       "4               5                 13               0.25   \n",
       "\n",
       "   calculated_host_listings_count  availability_365  above_average  \n",
       "0                               1                 1              1  \n",
       "1                               1                 0              0  \n",
       "2                               2                 0              0  \n",
       "3                               1               267              0  \n",
       "4                               1                 0              0  "
      ]
     },
     "execution_count": 22,
     "metadata": {},
     "output_type": "execute_result"
    }
   ],
   "source": [
    "df_full_train.head()"
   ]
  },
  {
   "cell_type": "code",
   "execution_count": 23,
   "id": "f1bdb61f-948e-4bfa-a0d9-3c84845fcc83",
   "metadata": {},
   "outputs": [
    {
     "name": "stdout",
     "output_type": "stream",
     "text": [
      "0.05\n",
      "0.14\n"
     ]
    }
   ],
   "source": [
    "print(mutual_info_score(df_full_train.above_average, df_full_train.neighbourhood_group).round(2))\n",
    "print(mutual_info_score(df_full_train.above_average, df_full_train.room_type).round(2))"
   ]
  },
  {
   "cell_type": "markdown",
   "id": "d771dc00-c748-4435-9c32-cffeae54ecfb",
   "metadata": {},
   "source": [
    "*__ANSWER Q3__*: 'room_type'"
   ]
  },
  {
   "cell_type": "markdown",
   "id": "46def2fe-1678-4110-8f16-4adf8f001711",
   "metadata": {},
   "source": [
    "## __Question 4__  \n",
    "  \n",
    "Now let's train a logistic regression  \n",
    "  \n",
    "* Remember that we have two categorical variables in the data. Include them using one-hot encoding.  \n",
    "* Fit the model on the training dataset.\n",
    "* To make sure the results are reproducible across different versions of Scikit-Learn, fit the model with these parameters:  \n",
    "  \n",
    "  *model = LogisticRegression(solver='lbfgs', C=1.0, random_state=42)*  \n",
    "\n",
    "__Calculate the accuracy on the validation dataset and rount it to 2 decimal digits.__"
   ]
  },
  {
   "cell_type": "markdown",
   "id": "27ef57b4-029f-418d-b5cd-96ced791a142",
   "metadata": {},
   "source": [
    "*__Do one hot encoding and etc__*"
   ]
  },
  {
   "cell_type": "code",
   "execution_count": 24,
   "id": "7a937728-d794-45ee-8779-fd6844025fda",
   "metadata": {},
   "outputs": [],
   "source": [
    "from sklearn.feature_extraction import DictVectorizer"
   ]
  },
  {
   "cell_type": "code",
   "execution_count": 25,
   "id": "f775af3d-e5d9-439d-bcaf-6b183a2a0d52",
   "metadata": {},
   "outputs": [
    {
     "data": {
      "text/plain": [
       "(['neighbourhood_group', 'room_type'],\n",
       " ['latitude',\n",
       "  'longitude',\n",
       "  'minimum_nights',\n",
       "  'number_of_reviews',\n",
       "  'reviews_per_month',\n",
       "  'calculated_host_listings_count',\n",
       "  'availability_365'])"
      ]
     },
     "execution_count": 25,
     "metadata": {},
     "output_type": "execute_result"
    }
   ],
   "source": [
    "categorical = list(df_train.dtypes[(df_train.dtypes.values == 'object')].index)\n",
    "numerical = list(df_train.dtypes[(df_train.dtypes.values == 'float64') | (df_train.dtypes.values == 'int')].index)\n",
    "\n",
    "categorical, numerical"
   ]
  },
  {
   "cell_type": "code",
   "execution_count": 26,
   "id": "a2a04bfa-2076-46cc-a509-cee08afe4b2b",
   "metadata": {},
   "outputs": [],
   "source": [
    "train_dicts = df_train[categorical + numerical].to_dict(orient='records') \n"
   ]
  },
  {
   "cell_type": "code",
   "execution_count": 27,
   "id": "5080184c-1682-4bca-ae43-b923395139d7",
   "metadata": {},
   "outputs": [
    {
     "data": {
      "text/plain": [
       "(29337, 15)"
      ]
     },
     "execution_count": 27,
     "metadata": {},
     "output_type": "execute_result"
    }
   ],
   "source": [
    "dv = DictVectorizer(sparse=False) \n",
    "X_train = dv.fit_transform(train_dicts)\n",
    "X_train.shape"
   ]
  },
  {
   "cell_type": "code",
   "execution_count": 28,
   "id": "e5586c86-f811-434b-b9db-7a76cb51a3ae",
   "metadata": {},
   "outputs": [],
   "source": [
    "val_dicts = df_val[categorical + numerical].to_dict(orient='records') #doing the same for validation DS\n",
    "X_val = dv.transform(val_dicts)"
   ]
  },
  {
   "cell_type": "code",
   "execution_count": 29,
   "id": "b3e15008-3c7a-4dda-b0b6-e1afbfa8bac2",
   "metadata": {},
   "outputs": [
    {
     "data": {
      "text/plain": [
       "['availability_365',\n",
       " 'calculated_host_listings_count',\n",
       " 'latitude',\n",
       " 'longitude',\n",
       " 'minimum_nights',\n",
       " 'neighbourhood_group=bronx',\n",
       " 'neighbourhood_group=brooklyn',\n",
       " 'neighbourhood_group=manhattan',\n",
       " 'neighbourhood_group=queens',\n",
       " 'neighbourhood_group=staten_island',\n",
       " 'number_of_reviews',\n",
       " 'reviews_per_month',\n",
       " 'room_type=entire_home/apt',\n",
       " 'room_type=private_room',\n",
       " 'room_type=shared_room']"
      ]
     },
     "execution_count": 29,
     "metadata": {},
     "output_type": "execute_result"
    }
   ],
   "source": [
    "dv.get_feature_names()"
   ]
  },
  {
   "cell_type": "markdown",
   "id": "238ea42a-9258-4fd4-ae4b-0e45b34da131",
   "metadata": {},
   "source": [
    "*__Training the model__*"
   ]
  },
  {
   "cell_type": "code",
   "execution_count": 30,
   "id": "720d98f7-4aa9-406e-85ec-5425d1f3238b",
   "metadata": {},
   "outputs": [],
   "source": [
    "from sklearn.linear_model import LogisticRegression"
   ]
  },
  {
   "cell_type": "code",
   "execution_count": 31,
   "id": "b2e086b7-06d6-417f-bc47-c30c48e2c4d0",
   "metadata": {},
   "outputs": [
    {
     "data": {
      "text/plain": [
       "LogisticRegression(max_iter=2000, random_state=42)"
      ]
     },
     "execution_count": 31,
     "metadata": {},
     "output_type": "execute_result"
    }
   ],
   "source": [
    "model = LogisticRegression(solver='lbfgs', C=1.0, random_state=42, max_iter=2000)\n",
    "model.fit(X_train, y_train)"
   ]
  },
  {
   "cell_type": "code",
   "execution_count": 32,
   "id": "3ce8f8dc-5e57-49ec-bbd4-37fdc592452d",
   "metadata": {},
   "outputs": [
    {
     "data": {
      "text/plain": [
       "array([ 3.000e-03,  4.000e-03, -5.937e+00, -3.232e+00, -1.100e-02,\n",
       "       -9.600e-02,  1.330e-01,  1.591e+00, -2.400e-02, -1.664e+00,\n",
       "       -3.000e-03, -4.200e-02,  1.950e+00, -8.340e-01, -1.174e+00])"
      ]
     },
     "execution_count": 32,
     "metadata": {},
     "output_type": "execute_result"
    }
   ],
   "source": [
    "model.coef_[0].round(3)"
   ]
  },
  {
   "cell_type": "code",
   "execution_count": 33,
   "id": "f30d1e05-6ec8-401b-9df8-361210731c08",
   "metadata": {},
   "outputs": [
    {
     "data": {
      "text/plain": [
       "-0.06164379732380669"
      ]
     },
     "execution_count": 33,
     "metadata": {},
     "output_type": "execute_result"
    }
   ],
   "source": [
    "model.intercept_[0]"
   ]
  },
  {
   "cell_type": "code",
   "execution_count": 34,
   "id": "358fc8df-cdae-4623-b445-4bfc2f4f8a12",
   "metadata": {},
   "outputs": [
    {
     "data": {
      "text/plain": [
       "array([0.02855807, 0.59666072, 0.42732656, ..., 0.11409078, 0.03440266,\n",
       "       0.52656173])"
      ]
     },
     "execution_count": 34,
     "metadata": {},
     "output_type": "execute_result"
    }
   ],
   "source": [
    "y_pred = model.predict_proba(X_val)[:, 1]\n",
    "y_pred"
   ]
  },
  {
   "cell_type": "code",
   "execution_count": 35,
   "id": "7a6d93e4-63f6-482a-b6e3-683e5aa6a8ff",
   "metadata": {},
   "outputs": [
    {
     "data": {
      "text/plain": [
       "array([False,  True, False, ..., False, False,  True])"
      ]
     },
     "execution_count": 35,
     "metadata": {},
     "output_type": "execute_result"
    }
   ],
   "source": [
    "price_decision = (y_pred > 0.5)\n",
    "price_decision"
   ]
  },
  {
   "cell_type": "code",
   "execution_count": 36,
   "id": "28ce3132-7a4c-4b2f-80a6-5c26807984ef",
   "metadata": {},
   "outputs": [
    {
     "data": {
      "text/html": [
       "<div>\n",
       "<style scoped>\n",
       "    .dataframe tbody tr th:only-of-type {\n",
       "        vertical-align: middle;\n",
       "    }\n",
       "\n",
       "    .dataframe tbody tr th {\n",
       "        vertical-align: top;\n",
       "    }\n",
       "\n",
       "    .dataframe thead th {\n",
       "        text-align: right;\n",
       "    }\n",
       "</style>\n",
       "<table border=\"1\" class=\"dataframe\">\n",
       "  <thead>\n",
       "    <tr style=\"text-align: right;\">\n",
       "      <th></th>\n",
       "      <th>neighbourhood_group</th>\n",
       "      <th>room_type</th>\n",
       "      <th>latitude</th>\n",
       "      <th>longitude</th>\n",
       "      <th>minimum_nights</th>\n",
       "      <th>number_of_reviews</th>\n",
       "      <th>reviews_per_month</th>\n",
       "      <th>calculated_host_listings_count</th>\n",
       "      <th>availability_365</th>\n",
       "    </tr>\n",
       "  </thead>\n",
       "  <tbody>\n",
       "    <tr>\n",
       "      <th>1</th>\n",
       "      <td>brooklyn</td>\n",
       "      <td>entire_home/apt</td>\n",
       "      <td>40.68498</td>\n",
       "      <td>-73.96618</td>\n",
       "      <td>14</td>\n",
       "      <td>4</td>\n",
       "      <td>0.11</td>\n",
       "      <td>2</td>\n",
       "      <td>343</td>\n",
       "    </tr>\n",
       "    <tr>\n",
       "      <th>4</th>\n",
       "      <td>manhattan</td>\n",
       "      <td>entire_home/apt</td>\n",
       "      <td>40.76075</td>\n",
       "      <td>-73.99893</td>\n",
       "      <td>30</td>\n",
       "      <td>0</td>\n",
       "      <td>0.00</td>\n",
       "      <td>18</td>\n",
       "      <td>365</td>\n",
       "    </tr>\n",
       "    <tr>\n",
       "      <th>6</th>\n",
       "      <td>manhattan</td>\n",
       "      <td>entire_home/apt</td>\n",
       "      <td>40.73243</td>\n",
       "      <td>-74.00932</td>\n",
       "      <td>4</td>\n",
       "      <td>1</td>\n",
       "      <td>0.03</td>\n",
       "      <td>1</td>\n",
       "      <td>0</td>\n",
       "    </tr>\n",
       "    <tr>\n",
       "      <th>7</th>\n",
       "      <td>manhattan</td>\n",
       "      <td>entire_home/apt</td>\n",
       "      <td>40.80630</td>\n",
       "      <td>-73.96268</td>\n",
       "      <td>7</td>\n",
       "      <td>2</td>\n",
       "      <td>0.05</td>\n",
       "      <td>1</td>\n",
       "      <td>0</td>\n",
       "    </tr>\n",
       "    <tr>\n",
       "      <th>9</th>\n",
       "      <td>manhattan</td>\n",
       "      <td>entire_home/apt</td>\n",
       "      <td>40.80861</td>\n",
       "      <td>-73.94574</td>\n",
       "      <td>3</td>\n",
       "      <td>123</td>\n",
       "      <td>1.73</td>\n",
       "      <td>3</td>\n",
       "      <td>248</td>\n",
       "    </tr>\n",
       "  </tbody>\n",
       "</table>\n",
       "</div>"
      ],
      "text/plain": [
       "  neighbourhood_group        room_type  latitude  longitude  minimum_nights  \\\n",
       "1            brooklyn  entire_home/apt  40.68498  -73.96618              14   \n",
       "4           manhattan  entire_home/apt  40.76075  -73.99893              30   \n",
       "6           manhattan  entire_home/apt  40.73243  -74.00932               4   \n",
       "7           manhattan  entire_home/apt  40.80630  -73.96268               7   \n",
       "9           manhattan  entire_home/apt  40.80861  -73.94574               3   \n",
       "\n",
       "   number_of_reviews  reviews_per_month  calculated_host_listings_count  \\\n",
       "1                  4               0.11                               2   \n",
       "4                  0               0.00                              18   \n",
       "6                  1               0.03                               1   \n",
       "7                  2               0.05                               1   \n",
       "9                123               1.73                               3   \n",
       "\n",
       "   availability_365  \n",
       "1               343  \n",
       "4               365  \n",
       "6                 0  \n",
       "7                 0  \n",
       "9               248  "
      ]
     },
     "execution_count": 36,
     "metadata": {},
     "output_type": "execute_result"
    }
   ],
   "source": [
    "df_val[price_decision].head()"
   ]
  },
  {
   "cell_type": "code",
   "execution_count": 37,
   "id": "ebc58ce0-8aef-44e3-84c0-53cff3d16618",
   "metadata": {},
   "outputs": [
    {
     "data": {
      "text/plain": [
       "0.79"
      ]
     },
     "execution_count": 37,
     "metadata": {},
     "output_type": "execute_result"
    }
   ],
   "source": [
    "(y_val == price_decision).mean().round(2)"
   ]
  },
  {
   "cell_type": "markdown",
   "id": "5403578c-bf55-4623-b7ad-898e442444ba",
   "metadata": {},
   "source": [
    "*__ANSWER Q4__*: 79%"
   ]
  },
  {
   "cell_type": "markdown",
   "id": "998393ae-b1b0-4b08-bb13-0eeb74428d11",
   "metadata": {},
   "source": [
    "## __Question 5__  \n",
    "  \n",
    "We have 9 features: 7 numerical features and 2 categorical.  \n",
    "Let's find the least useful one using the feature elimination technique.  \n",
    "* Train a model with all these features (using the same parameters as in Q4).  \n",
    "*  Now exclude each feature from this set and train a model without it. Record the accuracy for each model.  \n",
    "*  For each feature, calculate the difference between the original accuracy and the accuracy without the feature.  \n",
    "  \n",
    "__Which of following feature has the smallest difference?__  \n",
    "* *neighbourhood_group*\n",
    "* *room_type*\n",
    "* *number_of_reviews*\n",
    "* *reviews_per_month*"
   ]
  },
  {
   "cell_type": "code",
   "execution_count": 38,
   "id": "863e20e0-56b0-4592-8efb-eed21918b0e3",
   "metadata": {},
   "outputs": [],
   "source": [
    "def TrainModel(features):\n",
    "    train_dicts = df_train[features].to_dict(orient='records')\n",
    "    dv = DictVectorizer(sparse=False) \n",
    "    X_train = dv.fit_transform(train_dicts)\n",
    "    \n",
    "    val_dicts = df_val[features].to_dict(orient='records') #doing the same for validation DS\n",
    "    X_val = dv.transform(val_dicts)\n",
    "    \n",
    "    model = LogisticRegression(solver='lbfgs', C=1.0, random_state=42, max_iter=2000)\n",
    "    model.fit(X_train, y_train)\n",
    "    \n",
    "    y_pred = model.predict_proba(X_val)[:, 1]\n",
    "    price_decision = (y_pred > 0.5)\n",
    "    \n",
    "    return (y_val == price_decision).mean()"
   ]
  },
  {
   "cell_type": "code",
   "execution_count": 39,
   "id": "7f8c6220-0fa0-4d80-bb81-4cc687b1b92a",
   "metadata": {},
   "outputs": [
    {
     "name": "stdout",
     "output_type": "stream",
     "text": [
      "0.7909806728704366\n",
      "latitude :  0.003988137846405504\n",
      "longitude :  0.003988137846405504\n",
      "minimum_nights :  -0.00030677983433891054\n",
      "number_of_reviews :  -0.0005112997238981842\n",
      "reviews_per_month :  0.0003067798343387995\n",
      "calculated_host_listings_count :  0.0014316392269148048\n",
      "availability_365 :  0.00951017486450556\n",
      "neighbourhood_group :  0.03998363840883523\n",
      "room_type :  0.06258308620513342\n"
     ]
    }
   ],
   "source": [
    "all_features = numerical + categorical;\n",
    "\n",
    "all_features_prec = TrainModel(all_features)\n",
    "print(all_features_prec)\n",
    "\n",
    "for feature in all_features:\n",
    "    features_to_train = all_features.copy()\n",
    "    features_to_train.remove(feature)\n",
    "    prec = TrainModel(features_to_train)\n",
    "    print(feature, ': ', (all_features_prec - prec))"
   ]
  },
  {
   "cell_type": "markdown",
   "id": "c0213e94-3945-4228-ad28-28a3589fc47f",
   "metadata": {},
   "source": [
    "*__ANSWER Q5__*: reviews_per_month  \n",
    "  \n",
    "number_of_reviews :   -0.0005112997238981842  \n",
    "reviews_per_month :    0.0003067798343387995"
   ]
  },
  {
   "cell_type": "code",
   "execution_count": 40,
   "id": "47f6bdbe-9d3a-4304-8d7c-2035d213e67c",
   "metadata": {},
   "outputs": [
    {
     "data": {
      "text/plain": [
       "{'availability_365': 0.003,\n",
       " 'calculated_host_listings_count': 0.004,\n",
       " 'latitude': -5.937,\n",
       " 'longitude': -3.232,\n",
       " 'minimum_nights': -0.011,\n",
       " 'neighbourhood_group=bronx': -0.096,\n",
       " 'neighbourhood_group=brooklyn': 0.133,\n",
       " 'neighbourhood_group=manhattan': 1.591,\n",
       " 'neighbourhood_group=queens': -0.024,\n",
       " 'neighbourhood_group=staten_island': -1.664,\n",
       " 'number_of_reviews': -0.003,\n",
       " 'reviews_per_month': -0.042,\n",
       " 'room_type=entire_home/apt': 1.95,\n",
       " 'room_type=private_room': -0.834,\n",
       " 'room_type=shared_room': -1.174}"
      ]
     },
     "execution_count": 40,
     "metadata": {},
     "output_type": "execute_result"
    }
   ],
   "source": [
    "\n",
    "dict(zip(dv.get_feature_names(), model.coef_[0].round(3)))"
   ]
  },
  {
   "cell_type": "markdown",
   "id": "1118c446-52e9-4776-8d51-2c2ea09a57e7",
   "metadata": {},
   "source": [
    "## __Question 6__  \n",
    "  \n",
    "For this question, we'll see how to use a linear regression model from Scikit-Learn  \n",
    "  \n",
    "* We'll need to use the original column 'price'. Apply the logarithmic transformation to this column.  \n",
    "* Fit the Ridge regression model on the training data.  \n",
    "* This model has a parameter alpha. Let's try the following values: [0, 0.01, 0.1, 1, 10]  \n",
    "  \n",
    "__Which of these alphas leads to the best RMSE on the validation set? Round your RMSE scores to 3 decimal digits.__  \n",
    "  \n",
    "If there are multiple options, select the smallest alpha."
   ]
  },
  {
   "cell_type": "code",
   "execution_count": 41,
   "id": "f98e414b-cbec-410b-bcbc-b5f4eca1e8c2",
   "metadata": {},
   "outputs": [
    {
     "data": {
      "text/plain": [
       "(array([4.60517019, 4.06044301, 4.26267988, ..., 5.70378247, 4.18965474,\n",
       "        4.53259949]),\n",
       " [{'neighbourhood_group': 'brooklyn',\n",
       "   'room_type': 'entire_home/apt',\n",
       "   'latitude': 40.7276,\n",
       "   'longitude': -73.94495,\n",
       "   'minimum_nights': 3,\n",
       "   'number_of_reviews': 29,\n",
       "   'reviews_per_month': 0.7,\n",
       "   'calculated_host_listings_count': 13,\n",
       "   'availability_365': 50},\n",
       "  {'neighbourhood_group': 'manhattan',\n",
       "   'room_type': 'private_room',\n",
       "   'latitude': 40.70847,\n",
       "   'longitude': -74.00498,\n",
       "   'minimum_nights': 1,\n",
       "   'number_of_reviews': 0,\n",
       "   'reviews_per_month': 0.0,\n",
       "   'calculated_host_listings_count': 1,\n",
       "   'availability_365': 7}])"
      ]
     },
     "execution_count": 41,
     "metadata": {},
     "output_type": "execute_result"
    }
   ],
   "source": [
    "df_full_train_p, df_test_p = train_test_split(df, test_size=test_size, random_state=42)\n",
    "df_train_p, df_val_p = train_test_split(df_full_train_p, test_size=val_size, random_state=42)\n",
    "\n",
    "df_train_p = df_train_p.reset_index(drop=True)\n",
    "df_val_p = df_val_p.reset_index(drop=True)\n",
    "df_test_p = df_test_p.reset_index(drop=True)\n",
    "df_full_train_p = df_full_train_p.reset_index(drop=True)\n",
    "\n",
    "y_train_p = np.log1p(df_train_p.price.values)\n",
    "y_val_p   = np.log1p(df_val_p.price.values)\n",
    "y_test_p  = np.log1p(df_test_p.price.values)\n",
    "\n",
    "del df_train_p['price']\n",
    "del df_val_p['price']\n",
    "del df_test_p['price']\n",
    "del df_train_p['above_average']\n",
    "del df_val_p['above_average']\n",
    "del df_test_p['above_average']\n",
    "\n",
    "y_train_p, df_train_p.head(2).to_dict(orient='records')"
   ]
  },
  {
   "cell_type": "code",
   "execution_count": 42,
   "id": "224e17ae-d840-4e28-add5-c0f7e3691869",
   "metadata": {},
   "outputs": [],
   "source": [
    "from sklearn.linear_model import Ridge\n",
    "from IPython.display import display"
   ]
  },
  {
   "cell_type": "code",
   "execution_count": 43,
   "id": "01127f63-792d-465d-9731-bcc50d1ff217",
   "metadata": {},
   "outputs": [],
   "source": [
    "def TrainModel_Ridge(features, alpha=1):\n",
    "    train_dicts = df_train_p[features].to_dict(orient='records')\n",
    "    dv = DictVectorizer(sparse=False) \n",
    "    X_train_p = dv.fit_transform(train_dicts)\n",
    "    \n",
    "    val_dicts = df_val_p[features].to_dict(orient='records') #doing the same for validation DS\n",
    "    X_val_p = dv.transform(val_dicts)\n",
    "    \n",
    "    model = Ridge(alpha)\n",
    "    model.fit(X_train_p, y_train_p)\n",
    "\n",
    "    y_pred = model.predict(X_val_p)\n",
    "\n",
    "    return y_pred\n",
    "    "
   ]
  },
  {
   "cell_type": "code",
   "execution_count": 44,
   "id": "608fdd00-7f64-48b5-9ee0-9f22b8480915",
   "metadata": {},
   "outputs": [],
   "source": [
    "def rmse(yp, y_predp):\n",
    "    se = (yp - y_predp) ** 2\n",
    "    mse = se.mean()\n",
    "    return np.sqrt(mse)"
   ]
  },
  {
   "cell_type": "code",
   "execution_count": 45,
   "id": "09647ea4-9040-4630-825d-9d0251634e28",
   "metadata": {},
   "outputs": [
    {
     "data": {
      "text/plain": [
       "0.49713953633200497"
      ]
     },
     "execution_count": 45,
     "metadata": {},
     "output_type": "execute_result"
    }
   ],
   "source": [
    "y_pred_p = TrainModel_Ridge(all_features, 1)\n",
    "rmse(y_val_p, y_pred_p)"
   ]
  },
  {
   "cell_type": "code",
   "execution_count": 46,
   "id": "fb72e7df-aa15-4c43-a9be-a733338a3453",
   "metadata": {},
   "outputs": [
    {
     "data": {
      "text/plain": [
       "(array([5.22574667, 4.51085951, 4.83628191, 6.32972091, 4.65396035,\n",
       "        5.420535  , 5.52545294, 4.26267988, 4.87519732, 5.24702407]),\n",
       " array([5.19325679, 4.49659581, 5.1150361 , 5.26875241, 5.27882297,\n",
       "        5.11192979, 4.84491636, 4.52501756, 4.96887819, 5.45578695]))"
      ]
     },
     "execution_count": 46,
     "metadata": {},
     "output_type": "execute_result"
    }
   ],
   "source": [
    "y_val_p[10:20], y_pred_p[10:20]\n"
   ]
  },
  {
   "cell_type": "code",
   "execution_count": 47,
   "id": "241811cc-19bd-44d5-8588-8f85420967c8",
   "metadata": {},
   "outputs": [
    {
     "name": "stdout",
     "output_type": "stream",
     "text": [
      "alpha  0 :  0.497\n",
      "alpha  0.01 :  0.497\n",
      "alpha  0.1 :  0.497\n",
      "alpha  1 :  0.497\n",
      "alpha  10 :  0.498\n"
     ]
    }
   ],
   "source": [
    "alphas = [0, 0.01, 0.1, 1, 10]\n",
    "\n",
    "for a in alphas:\n",
    "    y_pred_p = TrainModel_Ridge(all_features, alpha=a)\n",
    "    print('alpha ', a, ': ', rmse(y_val_p, y_pred_p).round(3))"
   ]
  },
  {
   "cell_type": "markdown",
   "id": "94582fa7-9b56-445f-b6ee-f3155c4c2237",
   "metadata": {},
   "source": [
    "*__ANSWER Q6__*: 0"
   ]
  },
  {
   "cell_type": "code",
   "execution_count": null,
   "id": "712d433a-c1be-409f-a031-8200dc3335df",
   "metadata": {},
   "outputs": [],
   "source": []
  }
 ],
 "metadata": {
  "kernelspec": {
   "display_name": "Python 3",
   "language": "python",
   "name": "python3"
  },
  "language_info": {
   "codemirror_mode": {
    "name": "ipython",
    "version": 3
   },
   "file_extension": ".py",
   "mimetype": "text/x-python",
   "name": "python",
   "nbconvert_exporter": "python",
   "pygments_lexer": "ipython3",
   "version": "3.8.8"
  }
 },
 "nbformat": 4,
 "nbformat_minor": 5
}
